{
 "cells": [
  {
   "cell_type": "markdown",
   "id": "e2ddeed1-b9a1-4c1b-a3a0-afde0fb03504",
   "metadata": {},
   "source": [
    "# Algorithm k-mean \n",
    "In this exercise, we will create a k-mean model that will assign iris flowers into three species based on the measurements of the flowers.\n",
    "\n",
    "We will be based on pre-prepared data from a previous jupyter notebook."
   ]
  },
  {
   "cell_type": "markdown",
   "id": "00b1451e-d2b9-47cd-8a32-64011b7f130e",
   "metadata": {},
   "source": [
    "## Load and split data"
   ]
  },
  {
   "cell_type": "code",
   "execution_count": null,
   "id": "a18c8642-4ee2-4401-bbd9-05e4111b6409",
   "metadata": {
    "tags": []
   },
   "outputs": [],
   "source": [
    "import numpy as np\n",
    "import matplotlib.pyplot as plt"
   ]
  },
  {
   "cell_type": "code",
   "execution_count": null,
   "id": "e979f8d1-352d-4685-9385-1b5a9120aab4",
   "metadata": {
    "tags": []
   },
   "outputs": [],
   "source": [
    "my_arrays = np.load(\"iris_numpy.npz\")\n",
    "X = my_arrays['arr_0']\n",
    "Y = my_arrays['arr_1']\n",
    "X_norm = my_arrays['arr_2']\n",
    "X_features = my_arrays['arr_3']"
   ]
  },
  {
   "cell_type": "markdown",
   "id": "1bb4ff69",
   "metadata": {},
   "source": [
    "Since we prepared the data using a scaler and encoder, we will need them eventually. Therefore, we will read them from the files."
   ]
  },
  {
   "cell_type": "code",
   "execution_count": null,
   "id": "680ae67d-2a5f-473a-bf8d-5099855e77ae",
   "metadata": {
    "tags": []
   },
   "outputs": [],
   "source": [
    "import joblib\n",
    "scaler=joblib.load('classification_std_scaler.bin')\n",
    "encoder=joblib.load('classification_encoder.bin')"
   ]
  },
  {
   "cell_type": "markdown",
   "id": "b91f1349",
   "metadata": {},
   "source": [
    "Displaying the mapping of the label to the iris type number from the encoder."
   ]
  },
  {
   "cell_type": "code",
   "execution_count": null,
   "id": "026f4651",
   "metadata": {},
   "outputs": [],
   "source": [
    "encoder_mapping = dict(enumerate(encoder.classes_))\n",
    "encoder_mapping"
   ]
  },
  {
   "cell_type": "markdown",
   "id": "41cd6f6a",
   "metadata": {},
   "source": [
    "Splitting of data into training and test data"
   ]
  },
  {
   "cell_type": "code",
   "execution_count": null,
   "id": "3e00c083-009e-442e-9db3-fad81493fcf3",
   "metadata": {
    "tags": []
   },
   "outputs": [],
   "source": [
    "from sklearn.model_selection import train_test_split\n",
    "X_train, X_test, Y_train, Y_test = train_test_split (X_norm, Y, test_size=0.2)"
   ]
  },
  {
   "cell_type": "markdown",
   "id": "1379785e-f7bc-427a-97a8-0f2ecb1e6ad9",
   "metadata": {},
   "source": [
    "## Determining the number of k segments\n",
    "The input parameter for k-means is the number of segments into which the data is to be divided. \n",
    "\n",
    "If the number of segments is part of the specification, as we have for kostacs, there is nothing to worry about.\n",
    "\n",
    "But we will show a procedure to find out the optimal number of segments from the data if it is not clear how many segments to divide the data into. \n",
    "\n",
    "We run the k-means algorithm multiple times with different numbers of segments. For each output model, we will observe the value of inertia_ \n",
    "\n",
    "inertia_ is the sum of the squared distances of the samples from their nearest cluster center, weighted by the sample weights, if given."
   ]
  },
  {
   "cell_type": "code",
   "execution_count": null,
   "id": "586ea4d3-8821-4258-a812-6e196355c071",
   "metadata": {
    "tags": []
   },
   "outputs": [],
   "source": [
    "from sklearn.cluster import KMeans\n",
    "from scipy.stats import mode\n",
    "from collections import Counter\n",
    "\n",
    "inertia_list = []\n",
    "for num_clusters in range(1, 10):\n",
    "    kmeans_model = KMeans(n_clusters=num_clusters, init=\"k-means++\", n_init = 10)\n",
    "    kmeans_model.fit(X_norm)\n",
    "    inertia_list.append(kmeans_model.inertia_)"
   ]
  },
  {
   "cell_type": "markdown",
   "id": "b809c4f5",
   "metadata": {},
   "source": [
    "The optimal number of segments is such that the value of _inertia changes significantly between two models with a number of segments differing by one.\n",
    "\n",
    "This can be found, for example, by plotting the interial_ in an elbow graph. The optimal number k is at the point where the graph last significantly breaks."
   ]
  },
  {
   "cell_type": "code",
   "execution_count": null,
   "id": "d30b719a-9f28-49ae-8a4b-c6764961c5f4",
   "metadata": {
    "tags": []
   },
   "outputs": [],
   "source": [
    "plt.figure(figsize=(6,4))\n",
    "plt.plot(range(1,10),inertia_list)\n",
    "plt.scatter(range(1,10),inertia_list)\n",
    "plt.scatter(3, inertia_list[3], marker=\"X\", s=300, c=\"r\")\n",
    "plt.xlabel(\"Number of Clusters\")\n",
    "plt.ylabel(\"Inertia Value\")\n",
    "plt.title(\"Different Inertia Values for Different Number of Clusters\")"
   ]
  },
  {
   "cell_type": "markdown",
   "id": "7b12dd0a-4525-4263-b90f-4f5be592b0e7",
   "metadata": {},
   "source": [
    "## K-mean training \n",
    "Creating and training a k-mean model"
   ]
  },
  {
   "cell_type": "code",
   "execution_count": null,
   "id": "f21b3a35-ed56-4bf2-85a6-edda31bbf9af",
   "metadata": {
    "tags": []
   },
   "outputs": [],
   "source": [
    "kmean_model = KMeans(n_clusters=3, random_state= 2, n_init=10)\n",
    "y_pred = kmean_model.fit(X_train)"
   ]
  },
  {
   "cell_type": "markdown",
   "id": "89dd98bc",
   "metadata": {},
   "source": [
    "Center coordinate display"
   ]
  },
  {
   "cell_type": "code",
   "execution_count": null,
   "id": "2ffe4fb5-280b-44b6-92d6-4adcbb110e5c",
   "metadata": {
    "tags": []
   },
   "outputs": [],
   "source": [
    "kmean_model.cluster_centers_"
   ]
  },
  {
   "cell_type": "markdown",
   "id": "bdfe59a2",
   "metadata": {},
   "source": [
    "## Model prediction\n",
    "Running the mnodel on training and test data."
   ]
  },
  {
   "cell_type": "code",
   "execution_count": null,
   "id": "02152194",
   "metadata": {},
   "outputs": [],
   "source": [
    "Y_pred_train = kmean_model.predict(X_train)\n",
    "Y_pred_test = kmean_model.predict(X_test)"
   ]
  },
  {
   "cell_type": "code",
   "execution_count": null,
   "id": "18ff3f5e",
   "metadata": {},
   "outputs": [],
   "source": [
    "print (Y_pred_train)"
   ]
  },
  {
   "cell_type": "markdown",
   "id": "df8c6723",
   "metadata": {},
   "source": [
    "K-mean chooses the cluster id randomly. This numbering does not have to match the value of the iris type as chosen by the label encoder.\n",
    "\n",
    "To determine the accuracy of the cluster, we will need to match the cluster id returned by k-mean with the cluster id chosen by label_encoded."
   ]
  },
  {
   "cell_type": "markdown",
   "id": "163b55b5",
   "metadata": {},
   "source": [
    "In the Y_train_pred variable we have the k-mean cluster numbers."
   ]
  },
  {
   "cell_type": "markdown",
   "id": "c86540d7",
   "metadata": {},
   "source": [
    "We have the correct answers in the Y_train field - the encoding is according to the encoder."
   ]
  },
  {
   "cell_type": "code",
   "execution_count": null,
   "id": "ce53df68",
   "metadata": {},
   "outputs": [],
   "source": [
    "Y_train"
   ]
  },
  {
   "cell_type": "markdown",
   "id": "71b593ea",
   "metadata": {},
   "source": [
    "The mapping is created as follows.\n",
    "\n",
    "Go through all three clusters (0, 1, 2).\n",
    "\n",
    "The ``mask = (y_train_pred == cluster)`` creates a logical mask (True/False) that tells which samples from the training data belong to the cluster currently being traversed.\n",
    "\n",
    "The ``y_train[mask]`` selects the true (correct) classes of only those samples that k-means has included in the current cluster.\n",
    "\n",
    "The ``mode(Y_train[mask], keepdims=True).mode[0]`` finds the most frequent class (mode) among those samples. \n",
    "\n",
    "The ``labels_map[cluster]`` most frequent class is stored in the mapping dictionary."
   ]
  },
  {
   "cell_type": "code",
   "execution_count": null,
   "id": "a5efda54",
   "metadata": {},
   "outputs": [],
   "source": [
    "labels_map = {}\n",
    "for cluster in range(3):\n",
    "    mask = (Y_pred_train == cluster)\n",
    "    labels_map[cluster] = mode(Y_train[mask], keepdims=True).mode[0]"
   ]
  },
  {
   "cell_type": "markdown",
   "id": "d8d5c035",
   "metadata": {},
   "source": [
    "Mapping cluster id to class id"
   ]
  },
  {
   "cell_type": "code",
   "execution_count": null,
   "id": "2ce8b9f8",
   "metadata": {},
   "outputs": [],
   "source": [
    "labels_map"
   ]
  },
  {
   "cell_type": "markdown",
   "id": "94ceb7d8",
   "metadata": {},
   "source": [
    "Complete mapping"
   ]
  },
  {
   "cell_type": "code",
   "execution_count": null,
   "id": "1030f113",
   "metadata": {},
   "outputs": [],
   "source": [
    "for id in range (0,3):\n",
    "    print (f\"Cluster id {id}, encoding id: {labels_map[id]}, label: {encoder_mapping[labels_map[id]]}\")"
   ]
  },
  {
   "cell_type": "markdown",
   "id": "8ce4e35d",
   "metadata": {},
   "source": [
    "Remapping the result from the cluster id to the correct label_encoder response."
   ]
  },
  {
   "cell_type": "code",
   "execution_count": null,
   "id": "1359c3d2-de55-4b8d-a613-cc2afa0b19b2",
   "metadata": {
    "tags": []
   },
   "outputs": [],
   "source": [
    "for i in range(Y_pred_train.shape[0]):\n",
    "    Y_pred_train[i]=labels_map[Y_pred_train[i]]\n",
    "    \n",
    "for i in range(Y_pred_test.shape[0]):\n",
    "    Y_pred_test[i]=labels_map[Y_pred_test[i]]    "
   ]
  },
  {
   "cell_type": "code",
   "execution_count": null,
   "id": "63090b4e",
   "metadata": {},
   "outputs": [],
   "source": [
    "Y_pred_test"
   ]
  },
  {
   "cell_type": "markdown",
   "id": "e2b82fff-d9e3-4b97-a1e7-f803e951667d",
   "metadata": {},
   "source": [
    "## Visualization of the model\n",
    "Create two graphs. One will contain the predictions, the other the reality."
   ]
  },
  {
   "cell_type": "markdown",
   "id": "0a69359a",
   "metadata": {},
   "source": [
    "Charts for training data"
   ]
  },
  {
   "cell_type": "code",
   "execution_count": null,
   "id": "f5c0d13d-6a41-4c61-b622-849aad8eae06",
   "metadata": {
    "tags": []
   },
   "outputs": [],
   "source": [
    "plt.figure(figsize=(16,6))\n",
    "\n",
    "# prediction\n",
    "plt.subplot(1,2,1)\n",
    "plt.scatter(X_train[Y_pred_train == labels_map[0], 0], X_train[Y_pred_train == labels_map[0], 1], s = 50, c = 'purple', label = 'Iris-setosa')\n",
    "plt.scatter(X_train[Y_pred_train == labels_map[1], 0], X_train[Y_pred_train == labels_map[1], 1], s = 50, c = 'orange', label = 'Iris-versicolour')\n",
    "plt.scatter(X_train[Y_pred_train == labels_map[2], 0], X_train[Y_pred_train == labels_map[2], 1], s = 50, c = 'green', label = 'Iris-virginica')\n",
    "plt.title('Predicted Species'); plt.xlabel('petal_length'); plt.ylabel('petal_width')\n",
    "# centroid\n",
    "plt.scatter(kmean_model.cluster_centers_[:, 0], kmean_model.cluster_centers_[:,1], s = 100, c = 'red', label = 'Centroids')\n",
    "plt.legend()\n",
    "\n",
    "# real values\n",
    "plt.subplot(1,2,2)\n",
    "plt.scatter(X_train[Y_train == labels_map[0], 0], X_train[Y_train == labels_map[0], 1], s = 50, c = 'purple', label = 'Iris-setosa')\n",
    "plt.scatter(X_train[Y_train == labels_map[1], 0], X_train[Y_train == labels_map[1], 1], s = 50, c = 'orange', label = 'Iris-versicolour')\n",
    "plt.scatter(X_train[Y_train == labels_map[2], 0], X_train[Y_train == labels_map[2], 1], s = 50, c = 'green', label = 'Iris-virginica')\n",
    "plt.title('True Species'); plt.xlabel('petal_length'); plt.ylabel('petal_width')\n",
    "\n",
    "plt.legend()"
   ]
  },
  {
   "cell_type": "markdown",
   "id": "d1e6398d",
   "metadata": {},
   "source": [
    "Graphs for test data"
   ]
  },
  {
   "cell_type": "code",
   "execution_count": null,
   "id": "1bcae0c9-1b74-464c-9367-e66ed14a735e",
   "metadata": {
    "tags": []
   },
   "outputs": [],
   "source": [
    "plt.figure(figsize=(16,6))\n",
    "\n",
    "# prediction\n",
    "plt.subplot(1,2,1)\n",
    "plt.scatter(X_test[Y_pred_test == labels_map[0], 0], X_test[Y_pred_test == labels_map[0], 1], s = 50, c = 'purple', label = 'Iris-setosa')\n",
    "plt.scatter(X_test[Y_pred_test == labels_map[1], 0], X_test[Y_pred_test == labels_map[1], 1], s = 50, c = 'orange', label = 'Iris-versicolour')\n",
    "plt.scatter(X_test[Y_pred_test == labels_map[2], 0], X_test[Y_pred_test == labels_map[2], 1], s = 50, c = 'green', label = 'Iris-virginica')\n",
    "plt.title('Predicted Species'); plt.xlabel('petal_length'); plt.ylabel('petal_width')\n",
    "# centroid\n",
    "plt.scatter(kmean_model.cluster_centers_[:, 0], kmean_model.cluster_centers_[:,1], s = 100, c = 'red', label = 'Centroids')\n",
    "plt.legend()\n",
    "\n",
    "# real values\n",
    "plt.subplot(1,2,2)\n",
    "plt.scatter(X_test[Y_test == labels_map[0], 0], X_test[Y_test == labels_map[0], 1], s = 50, c = 'purple', label = 'Iris-setosa')\n",
    "plt.scatter(X_test[Y_test == labels_map[1], 0], X_test[Y_test == labels_map[1], 1], s = 50, c = 'orange', label = 'Iris-versicolour')\n",
    "plt.scatter(X_test[Y_test == labels_map[2], 0], X_test[Y_test == labels_map[2], 1], s = 50, c = 'green', label = 'Iris-virginica')\n",
    "plt.title('True Species'); plt.xlabel('petal_length'); plt.ylabel('petal_width')\n",
    "plt.legend()"
   ]
  },
  {
   "cell_type": "markdown",
   "id": "21441e20-a65e-4530-986a-cdbb161f5b6c",
   "metadata": {},
   "source": [
    "## Evaluation of the model"
   ]
  },
  {
   "cell_type": "markdown",
   "id": "cb321c76-57c4-40b7-9b03-8a901deb169c",
   "metadata": {},
   "source": [
    "- accuracy = number of correct answers / number of answers\n",
    "- true positive rates (recall, specificity) = TP / (TP + FN) patient has the disease and has been well diagnosed\n",
    "- true negative rates (sensitivity) = TN / (TN + FP) the patient does not have the disease and has been well diagnosed\n",
    "- precision (positive predictive values) = TP / (TP + TN) precision rate when diagnosed as positive\n",
    "- F measure (harmonic mean of precision and recall) = 2 * (precision * recall) / (precision + recall)\n",
    "- accurary = (TP + TN) / (N + P)"
   ]
  },
  {
   "cell_type": "code",
   "execution_count": null,
   "id": "7fa0530d-63ac-4b1b-8410-d91cc388b6d7",
   "metadata": {
    "tags": []
   },
   "outputs": [],
   "source": [
    "from sklearn.metrics import confusion_matrix, accuracy_score\n",
    "import seaborn as sns"
   ]
  },
  {
   "cell_type": "markdown",
   "id": "2f0f7880",
   "metadata": {},
   "source": [
    "Predictions for the test data we have already calculated from the visualization."
   ]
  },
  {
   "cell_type": "code",
   "execution_count": null,
   "id": "84d24254",
   "metadata": {},
   "outputs": [],
   "source": [
    "Y_pred_test"
   ]
  },
  {
   "cell_type": "markdown",
   "id": "de5ba049",
   "metadata": {},
   "source": [
    "Confusion matrix"
   ]
  },
  {
   "cell_type": "code",
   "execution_count": null,
   "id": "8e3419e9-eb7c-421b-a82a-87ae7cef447e",
   "metadata": {
    "tags": []
   },
   "outputs": [],
   "source": [
    "cf_matrix=confusion_matrix(Y_test, Y_pred_test)\n",
    "sns.heatmap(cf_matrix, annot=True)"
   ]
  },
  {
   "cell_type": "markdown",
   "id": "b77349b3",
   "metadata": {},
   "source": [
    "Accuracy of model"
   ]
  },
  {
   "cell_type": "code",
   "execution_count": null,
   "id": "f84a9cfa-2c9c-4d77-9f53-81ff6424df60",
   "metadata": {
    "tags": []
   },
   "outputs": [],
   "source": [
    "accuracy=accuracy_score(Y_test, Y_pred_test)\n",
    "print (accuracy)"
   ]
  },
  {
   "cell_type": "markdown",
   "id": "89db7cd9-8636-4913-be07-d93d8412b2db",
   "metadata": {},
   "source": [
    "## Storing the model\n",
    "The model can again be saved to a file for use in inference."
   ]
  },
  {
   "cell_type": "code",
   "execution_count": null,
   "id": "bde25f18-5034-4a33-b5bc-9cb6d4fe7389",
   "metadata": {
    "tags": []
   },
   "outputs": [],
   "source": [
    "import pickle\n",
    "filename = 'kmean_model.sav'\n",
    "pickle.dump(kmean_model, open(filename, 'wb'))"
   ]
  },
  {
   "cell_type": "code",
   "execution_count": null,
   "id": "04049b92-125f-4c6c-8c4b-e681aed4befc",
   "metadata": {
    "tags": []
   },
   "outputs": [],
   "source": [
    "loaded_model = pickle.load(open(filename, 'rb'))"
   ]
  },
  {
   "cell_type": "markdown",
   "id": "6cc1166f-e840-44db-aa2f-bfc363fbe396",
   "metadata": {},
   "source": [
    "## Tuning hyperparameters\n",
    "The k-means algorithm has different parameters. One of them is how the distance is measured.\n",
    "\n",
    "The following procedure lists the best combination of parameters for the given data."
   ]
  },
  {
   "cell_type": "code",
   "execution_count": null,
   "id": "ec25acfd-f495-4cd1-9f4a-a3986fd33b56",
   "metadata": {
    "tags": []
   },
   "outputs": [],
   "source": [
    "from sklearn.model_selection import GridSearchCV\n",
    "\n",
    "select_params={\n",
    "               'algorithm' :[\"lloyd\", \"elkan\"],\n",
    "              }\n",
    "\n",
    "grid_kmean = GridSearchCV(kmean_model, select_params, cv=5)\n",
    "grid_kmean.fit(X_norm)\n",
    "\n",
    "print('Best parameters: {}'.format(grid_kmean.best_params_))\n",
    "print('Best score on training set: {}'.format(grid_kmean.best_score_))"
   ]
  },
  {
   "cell_type": "markdown",
   "id": "67bd3c0e-643d-4041-84ca-55ea6e9f4b94",
   "metadata": {},
   "source": [
    "## Creating a model from a predefined variable\n",
    "\n",
    "Create a new model that will use only one artificial variable according to the formula pental_width * pental_height."
   ]
  },
  {
   "cell_type": "markdown",
   "id": "f307aad5",
   "metadata": {},
   "source": [
    "Division of data into training and test data. The library assumes that X has multiple variables, so we have to use reshape."
   ]
  },
  {
   "cell_type": "code",
   "execution_count": null,
   "id": "9628f765",
   "metadata": {},
   "outputs": [],
   "source": [
    "from sklearn.model_selection import train_test_split\n",
    "X_feature_train, X_feature_test, Y_feature_train, Y_feature_test = train_test_split (X_features.reshape(-1,1), Y, test_size=0.2)"
   ]
  },
  {
   "cell_type": "code",
   "execution_count": null,
   "id": "e99be08b-840a-436a-ae09-421f90030d78",
   "metadata": {
    "tags": []
   },
   "outputs": [],
   "source": [
    "kmeanf_model = KMeans(n_clusters=3, random_state= 2, n_init=10)\n",
    "kmeanf_model.fit(X_feature_train)"
   ]
  },
  {
   "cell_type": "markdown",
   "id": "1b15fec7",
   "metadata": {},
   "source": [
    "New model, new search cluster id on labels."
   ]
  },
  {
   "cell_type": "code",
   "execution_count": null,
   "id": "5de34114-1550-492e-a327-71c4e2b35091",
   "metadata": {
    "tags": []
   },
   "outputs": [],
   "source": [
    "Y_feature_pred_train = kmeanf_model.predict(X_feature_train)\n",
    "Y_feature_pred_test = kmeanf_model.predict(X_feature_test)\n",
    "\n",
    "labels_feature_map = {}\n",
    "for cluster in range(3):\n",
    "    mask = (Y_feature_pred_train == cluster)\n",
    "    labels_feature_map[cluster] = mode(Y_feature_train[mask], keepdims=True).mode[0]"
   ]
  },
  {
   "cell_type": "code",
   "execution_count": null,
   "id": "39fe566d",
   "metadata": {},
   "outputs": [],
   "source": [
    "for id in range (0,3):\n",
    "    print (f\"Cluster id {id}, encoding id: {labels_feature_map[id]}, label: {encoder_mapping[labels_feature_map[id]]}\")"
   ]
  },
  {
   "cell_type": "markdown",
   "id": "1179a08b",
   "metadata": {},
   "source": [
    "Remapping the result from the cluster id to the correct label_encoder response."
   ]
  },
  {
   "cell_type": "code",
   "execution_count": null,
   "id": "ae8fae6e",
   "metadata": {},
   "outputs": [],
   "source": [
    "for i in range(Y_feature_pred_train.shape[0]):\n",
    "    Y_feature_pred_train[i]=labels_map[Y_feature_pred_train[i]]\n",
    "    \n",
    "for i in range(Y_feature_pred_test.shape[0]):\n",
    "    Y_feature_pred_test[i]=labels_map[Y_feature_pred_test[i]] "
   ]
  },
  {
   "cell_type": "code",
   "execution_count": null,
   "id": "b58c4e9c-b514-491a-a7a4-8b8ecefd0d3f",
   "metadata": {
    "tags": []
   },
   "outputs": [],
   "source": [
    "cf_matrix=confusion_matrix(Y_feature_test, Y_feature_pred_test)\n",
    "sns.heatmap(cf_matrix, annot=True)"
   ]
  },
  {
   "cell_type": "markdown",
   "id": "4f9b7599",
   "metadata": {},
   "source": [
    "The score is slightly lower than the two-variable model, but still relatively high."
   ]
  },
  {
   "cell_type": "code",
   "execution_count": null,
   "id": "06b47a29-b14c-44da-9e9b-1a6ef1343ced",
   "metadata": {
    "tags": []
   },
   "outputs": [],
   "source": [
    "accuracy_score(Y_feature_test, Y_feature_pred_test)"
   ]
  },
  {
   "cell_type": "markdown",
   "id": "9f10c669",
   "metadata": {},
   "source": [
    "Display of the model result compared against reality."
   ]
  },
  {
   "cell_type": "code",
   "execution_count": null,
   "id": "d83fc08e",
   "metadata": {},
   "outputs": [],
   "source": [
    "X = X_feature_test \n",
    "y_true = Y_feature_test\n",
    "y_pred = Y_feature_pred_test\n",
    "\n",
    "plt.figure(figsize=(8, 4))\n",
    "plt.scatter(X, np.zeros_like(X), c=y_true, cmap='viridis', s=100, marker='o', label='Real classes')\n",
    "\n",
    "plt.scatter(X, np.ones_like(X)*0.1, c=y_pred, cmap='viridis', s=100, marker='x', label='Predicted clusters')\n",
    "\n",
    "plt.yticks([]) \n",
    "plt.xlabel('Value X')\n",
    "plt.legend()\n",
    "plt.title('Comparison of actual classes and predicted clusters')\n",
    "plt.show()"
   ]
  }
 ],
 "metadata": {
  "kernelspec": {
   "display_name": ".venv",
   "language": "python",
   "name": "python3"
  },
  "language_info": {
   "codemirror_mode": {
    "name": "ipython",
    "version": 3
   },
   "file_extension": ".py",
   "mimetype": "text/x-python",
   "name": "python",
   "nbconvert_exporter": "python",
   "pygments_lexer": "ipython3",
   "version": "3.9.13"
  }
 },
 "nbformat": 4,
 "nbformat_minor": 5
}
