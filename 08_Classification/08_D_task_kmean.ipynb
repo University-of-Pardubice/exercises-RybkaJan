{
 "cells": [
  {
   "cell_type": "markdown",
   "id": "fb388fb4-66d6-43ce-9436-b489e5a788f6",
   "metadata": {},
   "source": [
    "# Customer analysis\n",
    "\n",
    "We have a list of customers with their personal information and their behaviour.\n",
    "\n",
    "We want to launch a new luxury and expensive product. \n",
    "\n",
    "Which customers should we target with personalized marketing?"
   ]
  },
  {
   "cell_type": "markdown",
   "id": "b4357f0a",
   "metadata": {},
   "source": [
    "# Task\n",
    "- Perform basic data analysis and visualization\n",
    "- Perform data editing (encoding)\n",
    "- Select appropriate variables by which to segment customers\n",
    "- Create a k-means model with an appropriate number of segments\n",
    "- Visualize the model\n",
    "- Which segment is the target segment?"
   ]
  },
  {
   "cell_type": "markdown",
   "id": "5f4c3cc4",
   "metadata": {},
   "source": [
    "# Data loading"
   ]
  },
  {
   "cell_type": "code",
   "execution_count": 1,
   "id": "fc6ba30a-d158-4ffe-9d1c-b27dcdbe5536",
   "metadata": {
    "tags": []
   },
   "outputs": [],
   "source": [
    "import numpy as np \n",
    "import pandas as pd \n",
    "import matplotlib.pyplot as plt \n",
    "import seaborn as sns  "
   ]
  },
  {
   "cell_type": "code",
   "execution_count": 2,
   "id": "0d251637-9827-4b99-b99c-66bc10cd3af4",
   "metadata": {
    "tags": []
   },
   "outputs": [],
   "source": [
    "data=pd.read_csv('..\\\\dataset\\\\Mall_Customers.csv')"
   ]
  },
  {
   "cell_type": "markdown",
   "id": "85eaa546-5a72-491b-9191-a502e913f807",
   "metadata": {},
   "source": [
    "# Data description\n",
    "- Information about the data\n",
    "- Data preview\n",
    "- Basic statistics\n",
    "- View data distribution"
   ]
  },
  {
   "cell_type": "markdown",
   "id": "f819f508",
   "metadata": {},
   "source": [
    "# Data preparation\n",
    "- Treatment of NaN values\n",
    "- Encoding text columns"
   ]
  },
  {
   "cell_type": "markdown",
   "id": "77ef4d2d",
   "metadata": {},
   "source": [
    "# Variable selection\n",
    "- Displaying relationships between variables (pairplot)\n",
    "- We are looking for a combination of variables that can be visually divided into groups\n",
    "- Creating an X with only these columns"
   ]
  },
  {
   "cell_type": "markdown",
   "id": "add5529d",
   "metadata": {},
   "source": [
    "# Finding the k-mean model parameter\n",
    "- Plotting elbow graph\n",
    "- Finding the ideal number of clusters"
   ]
  },
  {
   "cell_type": "markdown",
   "id": "3a2c5a2a",
   "metadata": {},
   "source": [
    "# k-mean model for the observed number of clusters\n",
    "- Training the model\n",
    "- Data prediction"
   ]
  },
  {
   "cell_type": "markdown",
   "id": "454e8aab",
   "metadata": {},
   "source": [
    "# Visualization of the model\n",
    "- Rendering of coloured groups of graphs"
   ]
  },
  {
   "cell_type": "markdown",
   "id": "9c31296c",
   "metadata": {},
   "source": [
    "## Interpretation of the model\n",
    "- Describe each group\n",
    "- Which customers to target?"
   ]
  }
 ],
 "metadata": {
  "kernelspec": {
   "display_name": ".venv",
   "language": "python",
   "name": "python3"
  },
  "language_info": {
   "codemirror_mode": {
    "name": "ipython",
    "version": 3
   },
   "file_extension": ".py",
   "mimetype": "text/x-python",
   "name": "python",
   "nbconvert_exporter": "python",
   "pygments_lexer": "ipython3",
   "version": "3.9.13"
  }
 },
 "nbformat": 4,
 "nbformat_minor": 5
}
