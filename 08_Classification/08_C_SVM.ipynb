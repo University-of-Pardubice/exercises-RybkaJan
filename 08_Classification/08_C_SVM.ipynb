{
 "cells": [
  {
   "cell_type": "markdown",
   "id": "0e33dea6-25c9-40aa-91b6-3b56cc9b588b",
   "metadata": {},
   "source": [
    "# Support Vector Machine\n",
    "SVM is a machine learning algorithm used for classification and partially for regression.\n",
    "\n",
    "* **Basic idea**: Find the boundary (hyperplane) that best separates the different classes in the data.\n",
    "* **Maximizing the edge**: SVM tries to find the hyperplane so that the distance between the boundary and the closest points of the two classes is as large as possible (these points are called support vectors).\n",
    "* **Linearly separable data**: If the classes can be separated by a line (2D) or a hyperplane (multiple dimensions), SVM finds the optimal separating hyperplane.\n",
    "* **Linear data**: Using a kernel trick (e.g. RBF, polynomial), data can be mapped to a higher dimension where it is linearly separable.\n",
    "* **Regularization**: The C parameter affects the trade-off between maximizing the edge and minimizing classification errors on the training data.\n",
    "\n",
    "* Advantages:\n",
    "    * Works well for high-dimensional data.\n",
    "    * Robust to overfitting, especially if the kernel and C parameter are set correctly.\n",
    "\n",
    "* Disadvantages:\n",
    "    * Can be slow on large datasets.\n",
    "    * Choosing the right kernel and parameters requires experimentation."
   ]
  },
  {
   "cell_type": "code",
   "execution_count": null,
   "id": "d7dc2b8c-613d-4862-b7e6-280ab88ea174",
   "metadata": {
    "tags": []
   },
   "outputs": [],
   "source": [
    "import numpy as np\n",
    "import matplotlib.pyplot as plt"
   ]
  },
  {
   "cell_type": "markdown",
   "id": "4166c14a",
   "metadata": {},
   "source": [
    "Reading prepared data from numpy file"
   ]
  },
  {
   "cell_type": "code",
   "execution_count": null,
   "id": "68e58ebd-7e66-4f38-84e2-5fed65049fe0",
   "metadata": {
    "tags": []
   },
   "outputs": [],
   "source": [
    "my_arrays = np.load(\"iris_numpy.npz\")\n",
    "X = my_arrays['arr_0']\n",
    "Y = my_arrays['arr_1']\n",
    "X_features = my_arrays['arr_2']"
   ]
  },
  {
   "cell_type": "markdown",
   "id": "93624099",
   "metadata": {},
   "source": [
    "Splitting of data into training and test data"
   ]
  },
  {
   "cell_type": "code",
   "execution_count": null,
   "id": "90c64526-ee09-49ef-986c-4a10abe8ae1d",
   "metadata": {
    "tags": []
   },
   "outputs": [],
   "source": [
    "from sklearn.model_selection import train_test_split\n",
    "X_train, X_test, Y_train, Y_test = train_test_split (X, Y, test_size=0.2)"
   ]
  },
  {
   "cell_type": "markdown",
   "id": "b9b9ef91",
   "metadata": {},
   "source": [
    "Loading encoder and scaler"
   ]
  },
  {
   "cell_type": "code",
   "execution_count": null,
   "id": "e4c5c206-ac3b-45eb-97a1-9bf4e340cb93",
   "metadata": {
    "tags": []
   },
   "outputs": [],
   "source": [
    "\n",
    "import joblib\n",
    "scaler=joblib.load('classification_std_scaler.bin')\n",
    "encoder=joblib.load('classification_encoder.bin')"
   ]
  },
  {
   "cell_type": "markdown",
   "id": "82aed3b3-a33d-4a7c-8821-fd8be924ac25",
   "metadata": {},
   "source": [
    "## Model training\n",
    "Creating and training a linear SVM model"
   ]
  },
  {
   "cell_type": "code",
   "execution_count": null,
   "id": "8221f78a-aeae-49c6-b909-bdd3a3456993",
   "metadata": {
    "tags": []
   },
   "outputs": [],
   "source": [
    "from sklearn import svm\n",
    "\n",
    "svm_model = svm.SVC(kernel = 'linear', random_state = 0)\n",
    "svm_model.fit(X_train, Y_train)"
   ]
  },
  {
   "cell_type": "markdown",
   "id": "bb2e7b0b",
   "metadata": {},
   "source": [
    "Running the model on test data"
   ]
  },
  {
   "cell_type": "code",
   "execution_count": null,
   "id": "6a16f707-4417-4ccc-8340-75fe89433c73",
   "metadata": {
    "tags": []
   },
   "outputs": [],
   "source": [
    "Y_pred = svm_model.predict(X_test)"
   ]
  },
  {
   "cell_type": "markdown",
   "id": "d9be3746-6ef9-4d56-b581-bf26a36d5186",
   "metadata": {},
   "source": [
    "## Model validation"
   ]
  },
  {
   "cell_type": "code",
   "execution_count": null,
   "id": "7351fb97-303b-4b81-8981-710bd84d15e1",
   "metadata": {
    "tags": []
   },
   "outputs": [],
   "source": [
    "from sklearn.model_selection import cross_val_score\n",
    "accuracies = cross_val_score(estimator = svm_model, X = X_train, y = Y_train)\n",
    "print(\"Accuracy: {:.2f} %\".format(accuracies.mean()*100))\n",
    "print(\"Standard Deviation: {:.2f} %\".format(accuracies.std()*100))"
   ]
  },
  {
   "cell_type": "markdown",
   "id": "c37b35df",
   "metadata": {},
   "source": [
    "Confusion matrix"
   ]
  },
  {
   "cell_type": "code",
   "execution_count": null,
   "id": "058f4c05-8679-4beb-8848-de60c184b8e8",
   "metadata": {
    "tags": []
   },
   "outputs": [],
   "source": [
    "from sklearn.metrics import confusion_matrix, accuracy_score\n",
    "import seaborn as sns\n",
    "cf_matrix = confusion_matrix(Y_test, Y_pred)\n",
    "sns.heatmap(cf_matrix, annot=True)"
   ]
  },
  {
   "cell_type": "markdown",
   "id": "cd07840f",
   "metadata": {},
   "source": [
    "Accuracy"
   ]
  },
  {
   "cell_type": "code",
   "execution_count": null,
   "id": "cb6855e3-d192-4671-a054-a547fffcc4af",
   "metadata": {
    "tags": []
   },
   "outputs": [],
   "source": [
    "accuracy_score(Y_test, Y_pred)"
   ]
  },
  {
   "cell_type": "markdown",
   "id": "5509362a-74ce-4b07-af60-3d82b1454823",
   "metadata": {
    "tags": []
   },
   "source": [
    "## Model visualization"
   ]
  },
  {
   "cell_type": "code",
   "execution_count": null,
   "id": "29cbdbe9-d148-41ca-8f43-17b58abbea45",
   "metadata": {
    "tags": []
   },
   "outputs": [],
   "source": [
    "from sklearn.inspection import DecisionBoundaryDisplay"
   ]
  },
  {
   "cell_type": "markdown",
   "id": "a4232938",
   "metadata": {},
   "source": [
    "Support vectors are key to SVM. These are the points that define the boundary."
   ]
  },
  {
   "cell_type": "code",
   "execution_count": null,
   "id": "ed364168-0875-41f0-b1a6-5b55392dca11",
   "metadata": {
    "tags": []
   },
   "outputs": [],
   "source": [
    "svm_model.support_vectors_"
   ]
  },
  {
   "cell_type": "markdown",
   "id": "1e8f987a",
   "metadata": {},
   "source": [
    "We will prepare a function that displays the measured values, support vectors and class membership using color as well as class boundaries."
   ]
  },
  {
   "cell_type": "code",
   "execution_count": null,
   "id": "c69e1a36-60e2-4cca-b077-49b403088fa8",
   "metadata": {
    "tags": []
   },
   "outputs": [],
   "source": [
    "def SVM_vizualization (svm_model, X, Y, title, xlabel, ylabel):\n",
    "    # Display of decision boundaries\n",
    "    disp = DecisionBoundaryDisplay.from_estimator(\n",
    "        svm_model,\n",
    "        X,\n",
    "        response_method=\"predict\",\n",
    "        cmap=plt.cm.coolwarm,\n",
    "        alpha=0.8,        \n",
    "    )\n",
    "    plt.title(title)\n",
    "    plt.xlabel(xlabel)\n",
    "    plt.ylabel(ylabel)    \n",
    "\n",
    "    # View points\n",
    "    plt.scatter(X[:, 0], X[:, 1], c=Y, cmap=plt.cm.coolwarm, s=20, edgecolors=\"k\")\n",
    "\n",
    "    # View support vectors - larger circles\n",
    "    try:\n",
    "        plt.scatter(svm_model.support_vectors_[:,0], svm_model.support_vectors_[:,1] , s=40, edgecolors=\"k\", facecolors='none')\n",
    "    except:\n",
    "        pass"
   ]
  },
  {
   "cell_type": "code",
   "execution_count": null,
   "id": "d37b1730-638e-4cf2-aa39-cf07e7a55933",
   "metadata": {
    "tags": []
   },
   "outputs": [],
   "source": [
    "SVM_vizualization (svm_model, X_train, Y_train, \"Linear kernel\", \"Petal length\", \"Petal width\")"
   ]
  },
  {
   "cell_type": "markdown",
   "id": "338c8951-486f-4ea6-97a6-75d029924cd5",
   "metadata": {
    "tags": []
   },
   "source": [
    "## Other kernels\n",
    "SVM control parameter C is the margin sensitivity to point distance, defines the penalty if a point is misaligned."
   ]
  },
  {
   "cell_type": "code",
   "execution_count": null,
   "id": "bf88ba3a-76ab-4d4d-a817-1250c44ab2c8",
   "metadata": {
    "tags": []
   },
   "outputs": [],
   "source": [
    "C = 1.0"
   ]
  },
  {
   "cell_type": "markdown",
   "id": "03faf095",
   "metadata": {},
   "source": [
    "### Linear kernel\n",
    "Let's try calling SVM with a different kernel. Let's try linear."
   ]
  },
  {
   "cell_type": "code",
   "execution_count": null,
   "id": "b438b5c7-3a5e-4031-bd54-5f5d78494391",
   "metadata": {
    "tags": []
   },
   "outputs": [],
   "source": [
    "svm_linearsvc=svm.LinearSVC(C=C, max_iter=10000)\n",
    "svm_linearsvc.fit(X_train, Y_train)\n",
    "SVM_vizualization (svm_linearsvc, X_train, Y_train, \"LinearSVC (linear kernel)\", \"Petal length\", \"Petal width\")\n",
    "print (f\"Score: {svm_linearsvc.score(X_test, Y_test)}\")"
   ]
  },
  {
   "cell_type": "markdown",
   "id": "5112fe58",
   "metadata": {},
   "source": [
    "### RBF kernel"
   ]
  },
  {
   "cell_type": "code",
   "execution_count": null,
   "id": "4456db23-9ed2-4645-99ac-0504a1a09199",
   "metadata": {
    "tags": []
   },
   "outputs": [],
   "source": [
    "C = 1.0\n",
    "svc_rbf=svm.SVC(kernel=\"rbf\", gamma=0.7, C=C)\n",
    "svc_rbf.fit(X_train, Y_train)\n",
    "SVM_vizualization (svc_rbf, X_train, Y_train, \"RBF kernel\", \"Petal length\", \"Petal width\")\n",
    "print (f\"Score: {svc_rbf.score(X_test, Y_test)}\")"
   ]
  },
  {
   "cell_type": "markdown",
   "id": "8b87886f",
   "metadata": {},
   "source": [
    "### Polynomial kernel\n",
    "The degree of the polynomial is set to 3."
   ]
  },
  {
   "cell_type": "code",
   "execution_count": null,
   "id": "4f2628b0-a2b1-4278-a954-48d9baf6abb2",
   "metadata": {
    "tags": []
   },
   "outputs": [],
   "source": [
    "svc_poly=svm.SVC(kernel=\"poly\", degree=3, gamma=\"auto\", C=C)\n",
    "svc_poly.fit(X_train, Y_train)\n",
    "SVM_vizualization (svc_poly, X_train, Y_train, \"Poly kernel\", \"Petal length\", \"Petal width\")\n",
    "print (f\"Score: {svc_poly.score(X_test, Y_test)}\")"
   ]
  },
  {
   "cell_type": "markdown",
   "id": "42588312-9ee6-4852-bbd8-8e27f44cc3a4",
   "metadata": {},
   "source": [
    "## Hyperparameters\n",
    "Similar to k-means, SVM has multiple parameters that affect the accuracy of the model. Correct settings can be crucial, but sometimes difficult to estimate.\n",
    "\n",
    "One approach is to try to create SVM models for all combinations of parameters and observe which has the best result.\n",
    "\n",
    "There may be a large number of models to create, so this can take a while.\n",
    "\n",
    "The scikit library already has a function for this."
   ]
  },
  {
   "cell_type": "code",
   "execution_count": null,
   "id": "f6985b3f-271c-4585-bf38-64bb3dc6f0e0",
   "metadata": {},
   "outputs": [],
   "source": [
    "from sklearn.model_selection import GridSearchCV\n",
    "svc=svm.SVC()\n",
    "params=[\n",
    "    {\"kernel\": [\"poly\"], \"C\":[1, 5, 10, 50], \"degree\":[1,2,3,4], \"gamma\":[0.1, 0.3, 0.7, 1, 5]},\n",
    "    {\"kernel\": [\"rbf\"], \"C\":[1, 5, 10, ], \"gamma\":[0.1, 0.5, 1, 5]},    \n",
    "]"
   ]
  },
  {
   "cell_type": "code",
   "execution_count": null,
   "id": "54697ddf-a766-4aea-b153-ac081b837bf0",
   "metadata": {},
   "outputs": [],
   "source": [
    "clf=GridSearchCV(estimator=svc, param_grid=params, cv=5, verbose=1)\n",
    "clf.fit(X_train, Y_train)"
   ]
  },
  {
   "cell_type": "markdown",
   "id": "e24cf535",
   "metadata": {},
   "source": [
    "Display the score of the best model."
   ]
  },
  {
   "cell_type": "code",
   "execution_count": null,
   "id": "1461f3c3-6a9d-4148-a847-7a9d838543d3",
   "metadata": {
    "tags": []
   },
   "outputs": [],
   "source": [
    "clf.score(X_test, Y_test)"
   ]
  },
  {
   "cell_type": "markdown",
   "id": "d0797837",
   "metadata": {},
   "source": [
    "Display the input parameters of the best model."
   ]
  },
  {
   "cell_type": "code",
   "execution_count": null,
   "id": "bd92349c-194d-4a0f-9697-cc8231a54bdc",
   "metadata": {
    "tags": []
   },
   "outputs": [],
   "source": [
    "clf.best_params_"
   ]
  },
  {
   "cell_type": "markdown",
   "id": "179b2360",
   "metadata": {},
   "source": [
    "And its visualization"
   ]
  },
  {
   "cell_type": "code",
   "execution_count": null,
   "id": "24cf62da-ce64-465f-8d9f-677f103f895f",
   "metadata": {
    "tags": []
   },
   "outputs": [],
   "source": [
    "SVM_vizualization (clf, X_train, Y_train, \"best SVM\", \"Petal length\", \"Petal width\")"
   ]
  }
 ],
 "metadata": {
  "kernelspec": {
   "display_name": ".venv",
   "language": "python",
   "name": "python3"
  },
  "language_info": {
   "codemirror_mode": {
    "name": "ipython",
    "version": 3
   },
   "file_extension": ".py",
   "mimetype": "text/x-python",
   "name": "python",
   "nbconvert_exporter": "python",
   "pygments_lexer": "ipython3",
   "version": "3.9.13"
  }
 },
 "nbformat": 4,
 "nbformat_minor": 5
}
