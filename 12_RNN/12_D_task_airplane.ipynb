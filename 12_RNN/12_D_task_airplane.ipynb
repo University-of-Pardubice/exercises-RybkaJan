{
 "cells": [
  {
   "cell_type": "markdown",
   "id": "86ccc053-d491-4143-99b8-623d153a08f9",
   "metadata": {},
   "source": [
    "# Prediction of the number of passengers carried in air transport"
   ]
  },
  {
   "cell_type": "markdown",
   "id": "8257ece8-0e55-4cf5-b0d7-86084d98f251",
   "metadata": {},
   "source": [
    "## Data\n",
    "\n",
    "The dataset provides an overview of the number of people who travelled with US airlines in a given month. \n",
    "\n",
    "It contains records for 142 months. Contains 2 columns \"Month\" and \"Passengers\". "
   ]
  },
  {
   "cell_type": "markdown",
   "id": "f9076199",
   "metadata": {},
   "source": [
    "## Task\n",
    "Your task is to create different passenger prediction models\n",
    "- Simple RNN\n",
    "- LTSM\n",
    "- GRU\n",
    "\n",
    "For each model, compare the predicted and actual values.\n",
    "\n",
    "Compare the models and choose the best one.\n",
    "\n",
    "Experiment with the length of the learning sequence."
   ]
  },
  {
   "cell_type": "markdown",
   "id": "71bd751d-7860-4483-abb1-6cb1d10c9d8c",
   "metadata": {},
   "source": [
    "## Data loading and data display"
   ]
  },
  {
   "cell_type": "code",
   "execution_count": null,
   "id": "cea21d72-4080-47d0-9b34-62c51b5ec3c3",
   "metadata": {
    "tags": []
   },
   "outputs": [],
   "source": [
    "import numpy as np\n",
    "import pandas as pd\n",
    "import matplotlib.pyplot as plt"
   ]
  },
  {
   "cell_type": "code",
   "execution_count": null,
   "id": "ac67a7ed-67e9-4c8a-b14f-e470f9288636",
   "metadata": {
    "tags": []
   },
   "outputs": [],
   "source": [
    "dataset = pd.read_csv(\"..\\\\dataset\\\\airline-passengers.csv\", index_col=\"Month\", parse_dates=[\"Month\"])"
   ]
  },
  {
   "cell_type": "code",
   "execution_count": null,
   "id": "61f74439-986e-4cc1-a97a-58f2a2851cba",
   "metadata": {
    "tags": []
   },
   "outputs": [],
   "source": [
    "dataset.head()"
   ]
  },
  {
   "cell_type": "code",
   "execution_count": null,
   "id": "470ea748-81e5-4042-8819-95c961cf151b",
   "metadata": {
    "tags": []
   },
   "outputs": [],
   "source": [
    "dataset.describe()"
   ]
  },
  {
   "cell_type": "code",
   "execution_count": null,
   "id": "ab6e4bb5-57ff-4e83-a165-a111f586ef71",
   "metadata": {
    "tags": []
   },
   "outputs": [],
   "source": [
    "dataset.isna().sum()"
   ]
  },
  {
   "cell_type": "markdown",
   "id": "377f7d18",
   "metadata": {},
   "source": [
    "Data split into 75% training and 25% testing"
   ]
  },
  {
   "cell_type": "code",
   "execution_count": null,
   "id": "9f74a362-fb8d-4585-98c0-eedb9d8dfb93",
   "metadata": {
    "tags": []
   },
   "outputs": [],
   "source": [
    "train_size = int(len(dataset) * 0.75)\n",
    "test_size = len(dataset) - train_size"
   ]
  },
  {
   "cell_type": "code",
   "execution_count": null,
   "id": "0bee4ea3-f443-4cc9-b292-ed623ee9cf41",
   "metadata": {
    "tags": []
   },
   "outputs": [],
   "source": [
    "train=dataset[:train_size]\n",
    "test=dataset[train_size:]"
   ]
  },
  {
   "cell_type": "markdown",
   "id": "761a01af",
   "metadata": {},
   "source": [
    "Data display"
   ]
  },
  {
   "cell_type": "code",
   "execution_count": null,
   "id": "536e5d28-39b9-4124-a174-53d28ee31fa6",
   "metadata": {
    "tags": []
   },
   "outputs": [],
   "source": [
    "plt.plot(train)\n",
    "plt.plot(test)\n",
    "plt.legend([f\"Train\", \"Test\"])\n",
    "plt.title(\"Number of passengers\")"
   ]
  },
  {
   "cell_type": "markdown",
   "id": "4cb1204a-8fd6-4008-b431-63ef8b7cb104",
   "metadata": {},
   "source": [
    "# Data preparation"
   ]
  },
  {
   "cell_type": "code",
   "execution_count": null,
   "id": "734169ed-b483-4658-bb19-e06396e4e937",
   "metadata": {
    "tags": []
   },
   "outputs": [],
   "source": [
    "from sklearn.preprocessing import MinMaxScaler\n",
    "from sklearn.metrics import mean_squared_error"
   ]
  },
  {
   "cell_type": "markdown",
   "id": "a8c9af4a-92ee-45f5-9afb-2aca95f5841d",
   "metadata": {},
   "source": [
    "Standardize data with MinMaxScaler"
   ]
  },
  {
   "cell_type": "markdown",
   "id": "8bd50df1-f864-402a-afc0-f299ce89dcfc",
   "metadata": {
    "tags": []
   },
   "source": [
    "From the data, make sequences of, for example, 10"
   ]
  },
  {
   "cell_type": "code",
   "execution_count": null,
   "id": "dee14a23-cf67-4502-961d-eb70203fdb32",
   "metadata": {
    "tags": []
   },
   "outputs": [],
   "source": [
    "# Splitting into sequences\n",
    "n_steps = 10\n",
    "features = 1"
   ]
  },
  {
   "cell_type": "markdown",
   "id": "11b42b13-f0ae-48fd-8e98-887a4d7a6bc2",
   "metadata": {},
   "source": [
    "# Simple RNN\n",
    "Create a simple RNN model"
   ]
  },
  {
   "cell_type": "code",
   "execution_count": null,
   "id": "de04725f-fe75-4877-855d-1ee7a75316ce",
   "metadata": {
    "tags": []
   },
   "outputs": [],
   "source": [
    "import keras\n",
    "from keras.models import Sequential\n",
    "from keras.layers import SimpleRNN, Dense"
   ]
  },
  {
   "cell_type": "markdown",
   "id": "0ffe5811-31bb-4808-be5b-ff97daaf58cb",
   "metadata": {},
   "source": [
    "Plot the learning progression as well"
   ]
  },
  {
   "cell_type": "markdown",
   "id": "b0cd15d2-a0b3-41b3-9b75-a8398a7870c9",
   "metadata": {
    "tags": []
   },
   "source": [
    "## Validation of SimpleRNN model"
   ]
  },
  {
   "cell_type": "markdown",
   "id": "7c65ce1a-3358-4349-9aae-0abe7e6924a5",
   "metadata": {},
   "source": [
    "Plot the actual and predicted values in a graph"
   ]
  },
  {
   "cell_type": "markdown",
   "id": "b91f684a-5b5f-4d5b-8338-5c34b7437db1",
   "metadata": {},
   "source": [
    "Calculate the RMSE between the predicted and actual values."
   ]
  },
  {
   "cell_type": "markdown",
   "id": "da589534-24b4-45e1-9cb5-20b4b5857693",
   "metadata": {},
   "source": [
    "# LTSM neural network\n",
    "Create LTSM"
   ]
  },
  {
   "cell_type": "code",
   "execution_count": null,
   "id": "6758009a-fcde-4985-a189-0a3d1037b3bc",
   "metadata": {
    "tags": []
   },
   "outputs": [],
   "source": [
    "from keras.layers import Dense, LSTM, Dropout\n",
    "from keras.optimizers import SGD"
   ]
  },
  {
   "cell_type": "markdown",
   "id": "1998efa7-8ba8-4438-9a52-83fb2bb2bac7",
   "metadata": {},
   "source": [
    "## LTSM model validation"
   ]
  },
  {
   "cell_type": "markdown",
   "id": "57fa2983-4030-4b85-ac5a-e672f9b4c6a6",
   "metadata": {},
   "source": [
    "# Model GRU\n",
    "Create GRU model"
   ]
  },
  {
   "cell_type": "code",
   "execution_count": null,
   "id": "d647e1f9-0737-4e1d-8fc5-cfa85c5a2349",
   "metadata": {
    "tags": []
   },
   "outputs": [],
   "source": [
    "from keras.layers import GRU"
   ]
  },
  {
   "cell_type": "markdown",
   "id": "0654c325-becd-4eba-a096-cad0e2814bf9",
   "metadata": {},
   "source": [
    "## Validation of GRU model"
   ]
  }
 ],
 "metadata": {
  "kernelspec": {
   "display_name": ".venv",
   "language": "python",
   "name": "python3"
  },
  "language_info": {
   "codemirror_mode": {
    "name": "ipython",
    "version": 3
   },
   "file_extension": ".py",
   "mimetype": "text/x-python",
   "name": "python",
   "nbconvert_exporter": "python",
   "pygments_lexer": "ipython3",
   "version": "3.9.13"
  }
 },
 "nbformat": 4,
 "nbformat_minor": 5
}
