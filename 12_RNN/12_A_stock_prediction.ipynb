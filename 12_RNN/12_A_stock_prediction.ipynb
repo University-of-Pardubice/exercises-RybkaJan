{
 "cells": [
  {
   "cell_type": "markdown",
   "id": "86ccc053-d491-4143-99b8-623d153a08f9",
   "metadata": {},
   "source": [
    "# Mastercard share price forecast\n",
    "\n",
    "We create different models that try to predict the price of Mastercard shares."
   ]
  },
  {
   "cell_type": "markdown",
   "id": "8257ece8-0e55-4cf5-b0d7-86084d98f251",
   "metadata": {},
   "source": [
    "# Data\n",
    "\n",
    "- Date - date\n",
    "- Open - opening price\n",
    "- High - maximum price\n",
    "- Low - minimum price\n",
    "- Close - closing price\n",
    "- Volume - traded amount of shares\n",
    "- Dividens - Dividends paid\n",
    "- Stock Splits - A stock split is a situation where a company increases the number of its outstanding shares to increase their liquidity.\n",
    "\n",
    "\n",
    "We will use the High column for predictions."
   ]
  },
  {
   "cell_type": "markdown",
   "id": "71bd751d-7860-4483-abb1-6cb1d10c9d8c",
   "metadata": {},
   "source": [
    "# Data retrieval and data analysis"
   ]
  },
  {
   "cell_type": "code",
   "execution_count": null,
   "id": "cea21d72-4080-47d0-9b34-62c51b5ec3c3",
   "metadata": {
    "tags": []
   },
   "outputs": [],
   "source": [
    "import numpy as np\n",
    "import pandas as pd\n",
    "import matplotlib.pyplot as plt"
   ]
  },
  {
   "cell_type": "markdown",
   "id": "00743063",
   "metadata": {},
   "source": [
    "Let's read the data and throw away the unnecessary columns right away."
   ]
  },
  {
   "cell_type": "code",
   "execution_count": null,
   "id": "ac67a7ed-67e9-4c8a-b14f-e470f9288636",
   "metadata": {
    "tags": []
   },
   "outputs": [],
   "source": [
    "dataset = pd.read_csv(\"..\\dataset\\Mastercard_stock_history.csv\", index_col=\"Date\", parse_dates=[\"Date\"]).drop([\"Dividends\", \"Stock Splits\"], axis=1)"
   ]
  },
  {
   "cell_type": "code",
   "execution_count": null,
   "id": "61f74439-986e-4cc1-a97a-58f2a2851cba",
   "metadata": {
    "tags": []
   },
   "outputs": [],
   "source": [
    "dataset.head()"
   ]
  },
  {
   "cell_type": "code",
   "execution_count": null,
   "id": "470ea748-81e5-4042-8819-95c961cf151b",
   "metadata": {
    "tags": []
   },
   "outputs": [],
   "source": [
    "dataset.describe()"
   ]
  },
  {
   "cell_type": "code",
   "execution_count": null,
   "id": "ab6e4bb5-57ff-4e83-a165-a111f586ef71",
   "metadata": {
    "tags": []
   },
   "outputs": [],
   "source": [
    "dataset.isna().sum()"
   ]
  },
  {
   "cell_type": "markdown",
   "id": "2fb27516",
   "metadata": {},
   "source": [
    "Rendering of the share development chart\n",
    "* We will use 2016 and 2020 data for learning\n",
    "* For model validation we will use data from 2021"
   ]
  },
  {
   "cell_type": "code",
   "execution_count": null,
   "id": "f392bba2-fc15-4b24-9095-8641b528de3d",
   "metadata": {
    "tags": []
   },
   "outputs": [],
   "source": [
    "trainig_start = 2016\n",
    "training_end = 2020\n",
    "\n",
    "def train_test_plot(dataset, tstart, tend):\n",
    "    dataset.loc[f\"{trainig_start}\":f\"{training_end}\", \"High\"].plot(figsize=(16, 4), legend=True)\n",
    "    dataset.loc[f\"{training_end + 1}\":, \"High\"].plot(figsize=(16, 4), legend=True)\n",
    "    plt.legend([f\"Train (Před {tend+1})\", f\"Test ({tend+1} a dále)\"])\n",
    "    plt.title(\"Cena akcí MasterCard\")\n",
    "    plt.show()\n",
    "\n",
    "train_test_plot(dataset,trainig_start,training_end)"
   ]
  },
  {
   "cell_type": "markdown",
   "id": "4cb1204a-8fd6-4008-b431-63ef8b7cb104",
   "metadata": {},
   "source": [
    "# Data preparation"
   ]
  },
  {
   "cell_type": "code",
   "execution_count": null,
   "id": "734169ed-b483-4658-bb19-e06396e4e937",
   "metadata": {
    "tags": []
   },
   "outputs": [],
   "source": [
    "from sklearn.preprocessing import MinMaxScaler\n",
    "from sklearn.metrics import mean_squared_error"
   ]
  },
  {
   "cell_type": "markdown",
   "id": "5ea1bb60-b52b-428f-81c4-53866e34859b",
   "metadata": {},
   "source": [
    "Division of data into training and test data.\n",
    "\n",
    "- Training data are from 2016 to 2021. \n",
    "- Testing data are for 2021."
   ]
  },
  {
   "cell_type": "code",
   "execution_count": null,
   "id": "7411b29c-555c-4f38-b3ad-15a2fd9c78d5",
   "metadata": {
    "tags": []
   },
   "outputs": [],
   "source": [
    "trainig_start = 2016\n",
    "training_end = 2020\n",
    "\n",
    "def train_test_split(dataset, trainig_start, training_end):\n",
    "    train = dataset.loc[f\"{trainig_start}\":f\"{training_end}\", \"High\"].values\n",
    "    test = dataset.loc[f\"{training_end+1}\":, \"High\"].values\n",
    "    return train, test\n",
    "\n",
    "training_data, testing_data = train_test_split(dataset, trainig_start, training_end)"
   ]
  },
  {
   "cell_type": "code",
   "execution_count": null,
   "id": "5a5f109b-10aa-4ecd-bcca-c5a00a4d0941",
   "metadata": {
    "tags": []
   },
   "outputs": [],
   "source": [
    "print (f\"Training data shape {training_data.shape}\")\n",
    "print (f\"Testing data shape {testing_data.shape}\")"
   ]
  },
  {
   "cell_type": "markdown",
   "id": "175b1b72",
   "metadata": {},
   "source": [
    "Control display of input data"
   ]
  },
  {
   "cell_type": "code",
   "execution_count": null,
   "id": "6aa782c6-19a3-492e-b254-506522e99c8c",
   "metadata": {
    "tags": []
   },
   "outputs": [],
   "source": [
    "training_data[0]"
   ]
  },
  {
   "cell_type": "markdown",
   "id": "1bd51bd9-5193-499b-b305-c1b57e6a4193",
   "metadata": {},
   "source": [
    "To standardize the training set, we use the MinMaxScaler function to help us avoid outliers or anomalies. \n",
    "\n",
    "You can also try using the StandardScaler function or any other scalar function to normalize the data and improve the model performance."
   ]
  },
  {
   "cell_type": "code",
   "execution_count": null,
   "id": "271085f6-e825-41f4-b901-e4ab0fe1a414",
   "metadata": {
    "tags": []
   },
   "outputs": [],
   "source": [
    "sc = MinMaxScaler(feature_range=(0, 1))\n",
    "training_data = training_data.reshape(-1, 1)\n",
    "training_data_scaled = sc.fit_transform(training_data)"
   ]
  },
  {
   "cell_type": "markdown",
   "id": "54b7275a",
   "metadata": {},
   "source": [
    "Control display of the first standardized share price"
   ]
  },
  {
   "cell_type": "code",
   "execution_count": null,
   "id": "7cdb1b9d-da70-4aa8-a65e-9d0ace271a92",
   "metadata": {
    "tags": []
   },
   "outputs": [],
   "source": [
    "training_data_scaled[0]"
   ]
  },
  {
   "cell_type": "markdown",
   "id": "6ba15823",
   "metadata": {},
   "source": [
    "The split_sequence function uses the training dataset and converts it into inputs (x_train) and outputs (y_train).\n",
    "\n",
    "For example, if the sequence is [1,2,3,4,5,6,7,8,9,10,11,12] and n_step is three, then it converts the sequence into three input timestamps and one output."
   ]
  },
  {
   "cell_type": "code",
   "execution_count": null,
   "id": "96325848-2814-45e9-a563-ed9751c5ccb9",
   "metadata": {
    "tags": []
   },
   "outputs": [],
   "source": [
    "def split_sequence(sequence, n_steps):\n",
    "    X, y = list(), list()\n",
    "    for i in range(len(sequence)):\n",
    "        end_ix = i + n_steps\n",
    "        if end_ix > len(sequence) - 1:\n",
    "            break\n",
    "        seq_x, seq_y = sequence[i:end_ix], sequence[end_ix]\n",
    "        X.append(seq_x)\n",
    "        y.append(seq_y)\n",
    "    return np.array(X), np.array(y)\n",
    "\n",
    "\n",
    "n_steps = 80\n",
    "features = 1\n",
    "\n",
    "X_train, y_train = split_sequence(training_data_scaled, n_steps)"
   ]
  },
  {
   "attachments": {
    "36d564c6-5bdf-4257-ad60-36648fd9b03f.png": {
     "image/png": "[encoded data removed]"
    }
   },
   "cell_type": "markdown",
   "id": "d63de1b7-836c-4d91-b400-5dab951c187e",
   "metadata": {},
   "source": [
    "\n",
    "\n",
    "![obrazek.png](attachment:36d564c6-5bdf-4257-ad60-36648fd9b03f.png)"
   ]
  },
  {
   "cell_type": "markdown",
   "id": "528a6dd3",
   "metadata": {},
   "source": [
    "Control matrix shape display"
   ]
  },
  {
   "cell_type": "code",
   "execution_count": null,
   "id": "16c2eb5c-6b38-40a5-a107-75bafab06e1a",
   "metadata": {
    "tags": []
   },
   "outputs": [],
   "source": [
    "print (X_train.shape)\n",
    "print (y_train.shape)"
   ]
  },
  {
   "cell_type": "markdown",
   "id": "53499c29",
   "metadata": {},
   "source": [
    "Control display of training data"
   ]
  },
  {
   "cell_type": "code",
   "execution_count": null,
   "id": "37ccf7fa-f230-4238-a52b-5f4a35bd9d56",
   "metadata": {
    "tags": []
   },
   "outputs": [],
   "source": [
    "X_train[0]"
   ]
  },
  {
   "cell_type": "markdown",
   "id": "d2d10911",
   "metadata": {},
   "source": [
    "Control display of output data"
   ]
  },
  {
   "cell_type": "code",
   "execution_count": null,
   "id": "cd859d5b-c725-4103-95b8-333f40d53fc6",
   "metadata": {
    "tags": []
   },
   "outputs": [],
   "source": [
    "y_train[0]"
   ]
  },
  {
   "cell_type": "markdown",
   "id": "29155fd8-25ce-44b3-a88d-8ac1238591ff",
   "metadata": {},
   "source": [
    "We are working with univariate series, so the number of functions is one, and we need to reshape the X_train to fit the LSTM model. \n",
    "\n",
    "X_train has [samples, timesteps] and we will transform it to [samples, timesteps, features].\n",
    "\n",
    "In our case, features = 1"
   ]
  },
  {
   "cell_type": "code",
   "execution_count": null,
   "id": "adde3236-0b44-4ae3-b776-8488763f476f",
   "metadata": {
    "tags": []
   },
   "outputs": [],
   "source": [
    "X_train = X_train.reshape(X_train.shape[0],X_train.shape[1],features)"
   ]
  },
  {
   "cell_type": "markdown",
   "id": "a3a8a4ea",
   "metadata": {},
   "source": [
    "Edit training data"
   ]
  },
  {
   "cell_type": "code",
   "execution_count": null,
   "id": "779a9d30",
   "metadata": {},
   "outputs": [],
   "source": [
    "inputs = testing_data\n",
    "inputs = inputs.reshape(-1, 1)\n",
    "\n",
    "# standardization\n",
    "\n",
    "inputs = sc.transform(inputs)\n",
    "\n",
    "# Splitting data\n",
    "X_test, y_test = split_sequence(inputs, n_steps)\n",
    "\n",
    "# Reshape\n",
    "X_test = X_test.reshape(X_test.shape[0], X_test.shape[1], features)"
   ]
  },
  {
   "cell_type": "markdown",
   "id": "11b42b13-f0ae-48fd-8e98-887a4d7a6bc2",
   "metadata": {},
   "source": [
    "# Simple RNN\n",
    "The first model will be a simple recurrent neural network."
   ]
  },
  {
   "cell_type": "code",
   "execution_count": null,
   "id": "de04725f-fe75-4877-855d-1ee7a75316ce",
   "metadata": {
    "tags": []
   },
   "outputs": [],
   "source": [
    "import keras\n",
    "from keras.models import Sequential\n",
    "from keras.layers import SimpleRNN, Dense, Input"
   ]
  },
  {
   "cell_type": "markdown",
   "id": "021030f6",
   "metadata": {},
   "source": [
    "Again, it will be a sequential network."
   ]
  },
  {
   "cell_type": "code",
   "execution_count": null,
   "id": "558ab123",
   "metadata": {},
   "outputs": [],
   "source": [
    "model_simple = Sequential()"
   ]
  },
  {
   "cell_type": "markdown",
   "id": "135e149a",
   "metadata": {},
   "source": [
    "The input data has the following dimensions:\n",
    "* features = 1, one variable\n",
    "* n_steps = 80, a series of 80 input values"
   ]
  },
  {
   "cell_type": "code",
   "execution_count": null,
   "id": "0562f382",
   "metadata": {},
   "outputs": [],
   "source": [
    "model_simple.add(Input(shape=(n_steps, features))) "
   ]
  },
  {
   "cell_type": "markdown",
   "id": "d131c88e",
   "metadata": {},
   "source": [
    "You can experiment with the number of units, as more units will give you better results. \n",
    "\n",
    "* units\n",
    "* activation"
   ]
  },
  {
   "cell_type": "code",
   "execution_count": null,
   "id": "c346f391",
   "metadata": {},
   "outputs": [],
   "source": [
    "model_simple.add(SimpleRNN(units=125,                          \n",
    "                           activation=\"tanh\",                 \n",
    "                           ))  "
   ]
  },
  {
   "cell_type": "markdown",
   "id": "e748a6e5",
   "metadata": {},
   "source": [
    "Then add an output layer that returns a single value."
   ]
  },
  {
   "cell_type": "code",
   "execution_count": null,
   "id": "e1660c32",
   "metadata": {},
   "outputs": [],
   "source": [
    "model_simple.add(Dense(units=1))"
   ]
  },
  {
   "cell_type": "markdown",
   "id": "3bfb37ab",
   "metadata": {},
   "source": [
    "Printing of the network structure."
   ]
  },
  {
   "cell_type": "code",
   "execution_count": null,
   "id": "d90ab6a5-a786-4eb2-8cdf-42625eaf64e6",
   "metadata": {
    "tags": []
   },
   "outputs": [],
   "source": [
    "model_simple.summary()"
   ]
  },
  {
   "cell_type": "markdown",
   "id": "19450fd4",
   "metadata": {},
   "source": [
    "Setting learning parameters"
   ]
  },
  {
   "cell_type": "code",
   "execution_count": null,
   "id": "a924d547",
   "metadata": {},
   "outputs": [],
   "source": [
    "model_simple.compile(optimizer=\"RMSprop\", loss=\"mse\", metrics=['mae'])"
   ]
  },
  {
   "cell_type": "markdown",
   "id": "49fec4f8",
   "metadata": {},
   "source": [
    "Creating earlystops"
   ]
  },
  {
   "cell_type": "code",
   "execution_count": null,
   "id": "74def98c-f3ce-4b1e-bfa8-7227ce7ea7cf",
   "metadata": {
    "tags": []
   },
   "outputs": [],
   "source": [
    "early_stop = keras.callbacks.EarlyStopping(monitor='loss', patience=30)"
   ]
  },
  {
   "cell_type": "markdown",
   "id": "58d0eac8",
   "metadata": {},
   "source": [
    "Neural network learning"
   ]
  },
  {
   "cell_type": "code",
   "execution_count": null,
   "id": "87b242e8-0ef3-44ed-b165-f1a6e79cde53",
   "metadata": {
    "tags": []
   },
   "outputs": [],
   "source": [
    "history_simple=model_simple.fit(X_train, y_train, epochs=100, batch_size=32, callbacks=[early_stop])"
   ]
  },
  {
   "cell_type": "markdown",
   "id": "85bf43ef",
   "metadata": {},
   "source": [
    "View learning history"
   ]
  },
  {
   "cell_type": "code",
   "execution_count": null,
   "id": "2b7e4cc1-9e69-4172-b302-077082a67ca5",
   "metadata": {
    "tags": []
   },
   "outputs": [],
   "source": [
    "plt.plot(history_simple.history['loss'], label='Train Loss')\n",
    "plt.plot(history_simple.history['mae'], label='Train MAE')\n",
    "plt.legend(loc=\"right\")\n",
    "plt.title('Loss and MAE')\n",
    "plt.ylabel('Loss and MAE')\n",
    "plt.xlabel('Počet epoch')\n",
    "plt.show()"
   ]
  },
  {
   "cell_type": "markdown",
   "id": "b0cd15d2-a0b3-41b3-9b75-a8398a7870c9",
   "metadata": {
    "tags": []
   },
   "source": [
    "Model validation"
   ]
  },
  {
   "cell_type": "markdown",
   "id": "92decab3",
   "metadata": {},
   "source": [
    "Prediction of future share values"
   ]
  },
  {
   "cell_type": "code",
   "execution_count": null,
   "id": "b63bf5ea-e47a-4a6a-8fbf-6953a21a7e91",
   "metadata": {
    "tags": []
   },
   "outputs": [],
   "source": [
    "predicted_stock_price = model_simple.predict(X_test)"
   ]
  },
  {
   "cell_type": "markdown",
   "id": "db813b3a",
   "metadata": {},
   "source": [
    "Inversion of result from standardized value to actual"
   ]
  },
  {
   "cell_type": "code",
   "execution_count": null,
   "id": "1f181835",
   "metadata": {},
   "outputs": [],
   "source": [
    "predicted_stock_price = sc.inverse_transform(predicted_stock_price)"
   ]
  },
  {
   "cell_type": "markdown",
   "id": "0f3ed1c9",
   "metadata": {},
   "source": [
    "RMSE - deviations of actual and predicted values"
   ]
  },
  {
   "cell_type": "code",
   "execution_count": null,
   "id": "cf4623cf-70a3-4a02-98ea-cfd9ce355414",
   "metadata": {
    "tags": []
   },
   "outputs": [],
   "source": [
    "def return_rmse(test, predicted):    \n",
    "    rmse = np.sqrt(mean_squared_error(test, predicted))\n",
    "    print(\"RMSE {:.2f}.\".format(rmse))\n",
    "    \n",
    "return_rmse(testing_data[0:y_test.shape[0]], predicted_stock_price)"
   ]
  },
  {
   "cell_type": "markdown",
   "id": "b7f65bd6",
   "metadata": {},
   "source": [
    "Chart display"
   ]
  },
  {
   "cell_type": "code",
   "execution_count": null,
   "id": "324467d6-c408-4410-9f0a-a856713073f0",
   "metadata": {
    "tags": []
   },
   "outputs": [],
   "source": [
    "def plot_predictions(test, predicted):\n",
    "    \"\"\" Rendering of predicted and actual action values \n",
    "    \"\"\"\n",
    "    \n",
    "    plt.plot(test, color=\"gray\", label=\"Real\")\n",
    "    plt.plot(predicted, color=\"red\", label=\"Predicted\")\n",
    "    plt.title(\"MasterCard Stock Price Prediction\")\n",
    "    plt.xlabel(\"Time\")\n",
    "    plt.ylabel(\"MasterCard Stock Price\")\n",
    "    plt.legend()\n",
    "    plt.show()"
   ]
  },
  {
   "cell_type": "code",
   "execution_count": null,
   "id": "210c6600-10af-479c-8437-a3ea62ac5f68",
   "metadata": {
    "tags": []
   },
   "outputs": [],
   "source": [
    "plot_predictions(testing_data[0:y_test.shape[0]], predicted_stock_price)"
   ]
  },
  {
   "cell_type": "markdown",
   "id": "da589534-24b4-45e1-9cb5-20b4b5857693",
   "metadata": {},
   "source": [
    "# LTSM neural network"
   ]
  },
  {
   "cell_type": "code",
   "execution_count": null,
   "id": "6758009a-fcde-4985-a189-0a3d1037b3bc",
   "metadata": {
    "tags": []
   },
   "outputs": [],
   "source": [
    "from keras.layers import Dense, LSTM, GRU, Dropout\n",
    "from keras.optimizers import SGD"
   ]
  },
  {
   "cell_type": "markdown",
   "id": "8d8bc8c8-14a4-4401-8718-4d8d040748b4",
   "metadata": {},
   "source": [
    "The model consists of one hidden LSTM layer and an output layer. \n",
    "\n",
    "You can experiment with the number of units, as more units will give you better results. \n",
    "\n",
    "For this experiment, we set the number of LSTM units to 125 as the tanh activation and set the input size.\n",
    "\n",
    "Finally, we build the model using the RMSprop optimizer and the mean square error as a loss function."
   ]
  },
  {
   "cell_type": "code",
   "execution_count": null,
   "id": "07370a2f-0dae-421a-b491-90da66e96406",
   "metadata": {
    "tags": []
   },
   "outputs": [],
   "source": [
    "model_ltsm = Sequential()\n",
    "model_ltsm.add(Input(shape=(n_steps, features))) \n",
    "model_ltsm.add(LSTM(units=125, activation=\"tanh\"))\n",
    "model_ltsm.add(Dense(units=1))"
   ]
  },
  {
   "cell_type": "markdown",
   "id": "19b75044",
   "metadata": {},
   "source": [
    "Viewing the network structure."
   ]
  },
  {
   "cell_type": "code",
   "execution_count": null,
   "id": "e30ff418-4397-43f4-acc8-6ba5282288d2",
   "metadata": {
    "tags": []
   },
   "outputs": [],
   "source": [
    "model_ltsm.summary()"
   ]
  },
  {
   "cell_type": "markdown",
   "id": "fc26003b",
   "metadata": {},
   "source": [
    "Network Compilation and Training"
   ]
  },
  {
   "cell_type": "code",
   "execution_count": null,
   "id": "4be9f5a1",
   "metadata": {},
   "outputs": [],
   "source": [
    "model_ltsm.compile(optimizer=\"RMSprop\", loss=\"mse\", metrics=['mae'])"
   ]
  },
  {
   "cell_type": "code",
   "execution_count": null,
   "id": "4623aadb-4360-4fde-ac1b-cc33d7627cf4",
   "metadata": {
    "tags": []
   },
   "outputs": [],
   "source": [
    "early_stop = keras.callbacks.EarlyStopping(monitor='loss', patience=30)"
   ]
  },
  {
   "cell_type": "code",
   "execution_count": null,
   "id": "258d3532-286d-4f47-91c8-c4616f8ce8bc",
   "metadata": {
    "tags": []
   },
   "outputs": [],
   "source": [
    "history_ltsm=model_ltsm.fit(X_train, y_train, epochs=100, batch_size=32, callbacks=[early_stop])"
   ]
  },
  {
   "cell_type": "markdown",
   "id": "3ff7c55e",
   "metadata": {},
   "source": [
    "View learning history"
   ]
  },
  {
   "cell_type": "code",
   "execution_count": null,
   "id": "cd213e65-fa8c-487c-a745-c9935ee5dd7d",
   "metadata": {
    "tags": []
   },
   "outputs": [],
   "source": [
    "plt.plot(history_ltsm.history['loss'], label='Train Loss')\n",
    "plt.plot(history_ltsm.history['mae'], label='Train MAE')\n",
    "plt.legend(loc=\"right\")\n",
    "plt.title('Loss, MAE')\n",
    "plt.ylabel('Loss, MAE')\n",
    "plt.xlabel('Počet epoch')\n",
    "plt.show()"
   ]
  },
  {
   "cell_type": "markdown",
   "id": "1998efa7-8ba8-4438-9a52-83fb2bb2bac7",
   "metadata": {},
   "source": [
    "Validation of the LTSM model"
   ]
  },
  {
   "cell_type": "code",
   "execution_count": null,
   "id": "8e91ff79-c06c-4d10-a67f-f1022b171a88",
   "metadata": {
    "tags": []
   },
   "outputs": [],
   "source": [
    "predicted_stock_price = model_ltsm.predict(X_test)\n",
    "predicted_stock_price = sc.inverse_transform(predicted_stock_price)"
   ]
  },
  {
   "cell_type": "code",
   "execution_count": null,
   "id": "ccb03ae8-ed86-4742-997f-3291be45dd12",
   "metadata": {
    "tags": []
   },
   "outputs": [],
   "source": [
    "return_rmse(testing_data[0:y_test.shape[0]], predicted_stock_price)"
   ]
  },
  {
   "cell_type": "code",
   "execution_count": null,
   "id": "340c6671-281c-41c9-9e17-f9293a04bd0b",
   "metadata": {
    "tags": []
   },
   "outputs": [],
   "source": [
    "plot_predictions(testing_data[0:y_test.shape[0]], predicted_stock_price)"
   ]
  },
  {
   "cell_type": "markdown",
   "id": "57fa2983-4030-4b85-ac5a-e672f9b4c6a6",
   "metadata": {},
   "source": [
    "# Model GRU\n",
    "Model based on Gated Recurrent Unit."
   ]
  },
  {
   "cell_type": "code",
   "execution_count": null,
   "id": "d647e1f9-0737-4e1d-8fc5-cfa85c5a2349",
   "metadata": {
    "tags": []
   },
   "outputs": [],
   "source": [
    "model_gru = Sequential()\n",
    "model_gru.add(Input(shape=(n_steps, features))) \n",
    "model_gru.add(GRU(units=125, activation=\"tanh\"))\n",
    "model_gru.add(Dense(units=1))"
   ]
  },
  {
   "cell_type": "markdown",
   "id": "667815c9",
   "metadata": {},
   "source": [
    "Viewing the network structure"
   ]
  },
  {
   "cell_type": "code",
   "execution_count": null,
   "id": "1aa20f7f",
   "metadata": {},
   "outputs": [],
   "source": [
    "model_gru.summary()"
   ]
  },
  {
   "cell_type": "markdown",
   "id": "11a46bb5",
   "metadata": {},
   "source": [
    "Neural network training"
   ]
  },
  {
   "cell_type": "code",
   "execution_count": null,
   "id": "6ff81a50-7eda-438d-9fe6-2bbae5fc9f93",
   "metadata": {
    "tags": []
   },
   "outputs": [],
   "source": [
    "model_gru.compile(optimizer=\"RMSprop\", loss=\"mse\", metrics=['mae'])\n",
    "early_stop = keras.callbacks.EarlyStopping(monitor='loss', patience=30)"
   ]
  },
  {
   "cell_type": "code",
   "execution_count": null,
   "id": "8d481fa6-4f01-4d93-8899-37aef7faec31",
   "metadata": {
    "tags": []
   },
   "outputs": [],
   "source": [
    "history_gru=model_gru.fit(X_train, y_train, epochs=100, batch_size=32, callbacks=[early_stop])"
   ]
  },
  {
   "cell_type": "markdown",
   "id": "edc29552",
   "metadata": {},
   "source": [
    "View learning history"
   ]
  },
  {
   "cell_type": "code",
   "execution_count": null,
   "id": "1a95d258-983f-4dda-b3c9-efb48f292c44",
   "metadata": {
    "tags": []
   },
   "outputs": [],
   "source": [
    "plt.plot(history_gru.history['loss'], label='Train Loss')\n",
    "plt.plot(history_gru.history['mae'], label='Train MAE')\n",
    "plt.legend(loc=\"right\")\n",
    "plt.title('Loss, MAE')\n",
    "plt.ylabel('Loss, MAE')\n",
    "plt.xlabel('Počet epoch')\n",
    "plt.show()"
   ]
  },
  {
   "cell_type": "markdown",
   "id": "0654c325-becd-4eba-a096-cad0e2814bf9",
   "metadata": {},
   "source": [
    "Verification of the GRU model"
   ]
  },
  {
   "cell_type": "code",
   "execution_count": null,
   "id": "cab25958-1fca-481c-95a2-c0ab065fd89a",
   "metadata": {
    "tags": []
   },
   "outputs": [],
   "source": [
    "predicted_stock_price = model_gru.predict(X_test)\n",
    "predicted_stock_price = sc.inverse_transform(predicted_stock_price)"
   ]
  },
  {
   "cell_type": "code",
   "execution_count": null,
   "id": "c0428af6-f3a9-4594-a9d4-e218c7e81cbe",
   "metadata": {
    "tags": []
   },
   "outputs": [],
   "source": [
    "return_rmse(testing_data[0:y_test.shape[0]], predicted_stock_price)"
   ]
  },
  {
   "cell_type": "code",
   "execution_count": null,
   "id": "c6c1910d-96b3-4368-a875-e84fcd3ed925",
   "metadata": {
    "tags": []
   },
   "outputs": [],
   "source": [
    "plot_predictions(testing_data[0:y_test.shape[0]], predicted_stock_price)"
   ]
  }
 ],
 "metadata": {
  "kernelspec": {
   "display_name": ".venv",
   "language": "python",
   "name": "python3"
  },
  "language_info": {
   "codemirror_mode": {
    "name": "ipython",
    "version": 3
   },
   "file_extension": ".py",
   "mimetype": "text/x-python",
   "name": "python",
   "nbconvert_exporter": "python",
   "pygments_lexer": "ipython3",
   "version": "3.9.13"
  }
 },
 "nbformat": 4,
 "nbformat_minor": 5
}
