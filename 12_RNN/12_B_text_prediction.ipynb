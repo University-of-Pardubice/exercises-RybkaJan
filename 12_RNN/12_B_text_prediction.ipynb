{
 "cells": [
  {
   "cell_type": "markdown",
   "id": "c6433425",
   "metadata": {},
   "source": [
    "# A very simple example of text prediction\n",
    "This example may help you understand how large language models are created."
   ]
  },
  {
   "cell_type": "code",
   "execution_count": null,
   "id": "7569910f-cdbe-40a7-99ad-9ed5c3ce9dc9",
   "metadata": {
    "tags": []
   },
   "outputs": [],
   "source": [
    "import numpy as np\n",
    "from keras.models import Sequential\n",
    "from keras.layers import SimpleRNN, Dense, Input\n",
    "from keras.utils import to_categorical"
   ]
  },
  {
   "cell_type": "markdown",
   "id": "592aeccc",
   "metadata": {},
   "source": [
    "The neural network will be very simple. We will try to teach it the following text.\n",
    "\n",
    "We will ask the neural network to complete the rest of the sentence when we enter the beginning of the sentence."
   ]
  },
  {
   "cell_type": "code",
   "execution_count": null,
   "id": "d8678db2-58e2-41d9-bd59-01da2a480519",
   "metadata": {
    "tags": []
   },
   "outputs": [],
   "source": [
    "text = \"Umela inteligence je nejlepsi a zariva budoucnost lidstva matrix\""
   ]
  },
  {
   "cell_type": "markdown",
   "id": "dc24392c-fece-4b9d-8771-db4ed1b20609",
   "metadata": {},
   "source": [
    "# Data preparation\n",
    "Split the sentence into letters and create a set of letters used in the sentence.\n",
    "\n",
    "LLM does not split the text into letters, but into tokens. A token can be a word or part of a word."
   ]
  },
  {
   "cell_type": "code",
   "execution_count": null,
   "id": "4de0e122-be99-4a7c-a8f2-180f423ee90c",
   "metadata": {
    "tags": []
   },
   "outputs": [],
   "source": [
    "chars = sorted(list(set(text)))\n",
    "print (chars)"
   ]
  },
  {
   "cell_type": "markdown",
   "id": "85ea1650",
   "metadata": {},
   "source": [
    "Neural networks work with numbers and symbols. Therefore, we need to create dictionaries that map numbers to characters and vice versa."
   ]
  },
  {
   "cell_type": "code",
   "execution_count": null,
   "id": "ddba2b5c-d384-404a-8a6f-175a556c2d59",
   "metadata": {
    "tags": []
   },
   "outputs": [],
   "source": [
    "char_to_index = {char: i for i, char in enumerate(chars)}\n",
    "index_to_char = {i: char for i, char in enumerate(chars)}"
   ]
  },
  {
   "cell_type": "code",
   "execution_count": null,
   "id": "4daa371b-b727-4e5b-9592-1c58b7ceb28d",
   "metadata": {
    "tags": []
   },
   "outputs": [],
   "source": [
    "char_to_index"
   ]
  },
  {
   "cell_type": "code",
   "execution_count": null,
   "id": "69bb23bb-c2ad-41c7-a9cb-faa3f1f198b1",
   "metadata": {
    "tags": []
   },
   "outputs": [],
   "source": [
    "index_to_char"
   ]
  },
  {
   "cell_type": "markdown",
   "id": "f36664fc",
   "metadata": {},
   "source": [
    "We'll make the sentences into sequences. The sentence is chopped into sequences of 3 letters. The sequence will be named with the following letter."
   ]
  },
  {
   "cell_type": "code",
   "execution_count": null,
   "id": "ecdbe699-febf-443a-85dd-3bb51174f53a",
   "metadata": {
    "tags": []
   },
   "outputs": [],
   "source": [
    "seq_length = 3\n",
    "sequences = []\n",
    "labels = []\n",
    " \n",
    "for i in range(len(text) - seq_length):\n",
    "    seq = text[i:i+seq_length]\n",
    "    label = text[i+seq_length]\n",
    "    sequences.append([char_to_index[char] for char in seq])\n",
    "    labels.append(char_to_index[label])"
   ]
  },
  {
   "cell_type": "markdown",
   "id": "5e1ed061",
   "metadata": {},
   "source": [
    "Convert to numpy array"
   ]
  },
  {
   "cell_type": "code",
   "execution_count": null,
   "id": "35eb1f6f-986a-473d-9b41-9f984a2f6425",
   "metadata": {
    "tags": []
   },
   "outputs": [],
   "source": [
    "X = np.array(sequences)\n",
    "y = np.array(labels)"
   ]
  },
  {
   "cell_type": "markdown",
   "id": "f62cd755",
   "metadata": {},
   "source": [
    "Sample of the first sequence.\n",
    "\n",
    "The input letters (numbers) Ume are followed by the letter l."
   ]
  },
  {
   "cell_type": "code",
   "execution_count": null,
   "id": "9f4954d4-8465-41a2-865b-4950372816fa",
   "metadata": {
    "tags": []
   },
   "outputs": [],
   "source": [
    "print (\"Ume\")\n",
    "print (X[0])\n",
    "\n",
    "print (\"l\")\n",
    "print (y[0])"
   ]
  },
  {
   "cell_type": "markdown",
   "id": "97a275fb",
   "metadata": {},
   "source": [
    "Converting data to categorical - probability of feature occurrence."
   ]
  },
  {
   "cell_type": "code",
   "execution_count": null,
   "id": "26bb950f-5424-40d5-b79a-120fc35cd1d1",
   "metadata": {
    "tags": []
   },
   "outputs": [],
   "source": [
    "X_train = to_categorical(X, len(chars))\n",
    "Y_train = to_categorical(y, len(chars))"
   ]
  },
  {
   "cell_type": "code",
   "execution_count": null,
   "id": "06dc3e99-e262-4274-974f-64aeffde3971",
   "metadata": {
    "tags": []
   },
   "outputs": [],
   "source": [
    "X_train[0]"
   ]
  },
  {
   "cell_type": "code",
   "execution_count": null,
   "id": "d37d21f2-6a77-441f-bd65-c52a965fea7e",
   "metadata": {
    "tags": []
   },
   "outputs": [],
   "source": [
    "Y_train[0]"
   ]
  },
  {
   "cell_type": "markdown",
   "id": "b5335c53-28ea-4ef6-a166-b47e0c7d72a7",
   "metadata": {},
   "source": [
    "# Neural network\n",
    "\n",
    "The neural network will select which category the 3 input letters belong to. \n",
    "\n",
    "The category name will be the expected next letter after the 3 input letters.\n",
    "\n",
    "We will choose the layer SimpleRNN."
   ]
  },
  {
   "cell_type": "code",
   "execution_count": null,
   "id": "0cea6627-9c07-4fdc-8280-a89ccbda1142",
   "metadata": {
    "tags": []
   },
   "outputs": [],
   "source": [
    "model = Sequential()\n",
    "model.add(Input(shape=(seq_length, len(chars)))) \n",
    "model.add(SimpleRNN(50, activation='relu'))\n",
    "model.add(Dense(len(chars), activation='softmax'))"
   ]
  },
  {
   "cell_type": "markdown",
   "id": "d76eb2fc",
   "metadata": {},
   "source": [
    "Training the model"
   ]
  },
  {
   "cell_type": "code",
   "execution_count": null,
   "id": "01d3d08f-8419-4901-82b4-98a2ec3de046",
   "metadata": {
    "tags": []
   },
   "outputs": [],
   "source": [
    "model.compile(optimizer='adam', loss='categorical_crossentropy', metrics=['accuracy'])"
   ]
  },
  {
   "cell_type": "code",
   "execution_count": null,
   "id": "7956b0cd-d616-4bab-9544-1a568b469071",
   "metadata": {
    "tags": []
   },
   "outputs": [],
   "source": [
    "model.fit(X_train, Y_train, epochs=100)"
   ]
  },
  {
   "cell_type": "markdown",
   "id": "96d53c79-4265-4256-af29-857c2fd20201",
   "metadata": {},
   "source": [
    "# Starting the model\n",
    "Pass the first 6 characters to the model and let it generate 50 characters.\n",
    "* Select the last 3 characters from the string\n",
    "* Convert the three characters to categorical input data\n",
    "* Perform a single character prediction\n",
    "* The prediction returns the probabilities of the different characters\n",
    "* Select the character with the highest probability of being true\n",
    "* Add the character at the end of the text and repeat"
   ]
  },
  {
   "cell_type": "code",
   "execution_count": null,
   "id": "2f42552f-5b9c-437c-98a7-86d7bcf04c26",
   "metadata": {
    "tags": []
   },
   "outputs": [],
   "source": [
    "start_seq = \"Umela \"\n",
    "generated_text = start_seq\n",
    " \n",
    "for i in range(50):\n",
    "    # create input data from last 3 characters\n",
    "    x = np.array([[char_to_index[char] for char in generated_text[-seq_length:]]])\n",
    "    \n",
    "    # convert to categorical\n",
    "    x_input = to_categorical(x, len(chars))\n",
    "    \n",
    "    # character prediction\n",
    "    prediction = model.predict(x_input)\n",
    "    print (prediction)\n",
    "    \n",
    "    # selection of the most probable character - class number\n",
    "    next_index = np.argmax(prediction)\n",
    "\n",
    "    # convert class number to character\n",
    "    next_char = index_to_char[next_index]\n",
    "    \n",
    "    # adding a character to the end of the string\n",
    "    generated_text += next_char"
   ]
  },
  {
   "cell_type": "code",
   "execution_count": null,
   "id": "c437582b-726e-4dad-8391-9c72819375fb",
   "metadata": {},
   "outputs": [],
   "source": [
    "print (f\"Generated text: {generated_text}\")"
   ]
  }
 ],
 "metadata": {
  "kernelspec": {
   "display_name": ".venv",
   "language": "python",
   "name": "python3"
  },
  "language_info": {
   "codemirror_mode": {
    "name": "ipython",
    "version": 3
   },
   "file_extension": ".py",
   "mimetype": "text/x-python",
   "name": "python",
   "nbconvert_exporter": "python",
   "pygments_lexer": "ipython3",
   "version": "3.9.13"
  }
 },
 "nbformat": 4,
 "nbformat_minor": 5
}
