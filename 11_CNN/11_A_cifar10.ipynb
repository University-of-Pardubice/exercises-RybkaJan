{
 "cells": [
  {
   "cell_type": "markdown",
   "id": "5caa20ec-f043-4172-a8ac-76fe34882e02",
   "metadata": {},
   "source": [
    "# Convolutional network for image classification\n",
    "\n",
    "The Objective of this exercise is to create a simple convolutional network for classifying images into 10 classes."
   ]
  },
  {
   "cell_type": "markdown",
   "id": "88205b74-c5ae-44af-a357-b0da830cd607",
   "metadata": {},
   "source": [
    "## Dataset\n",
    "\n",
    "This is a dataset of 50,000 32x32 color training images and 10,000 test images labeled in 10 categories. \n",
    "\n",
    "For more information, please visit https://www.cs.toronto.edu/~kriz/cifar.html\n",
    "\n",
    "## Classes\n",
    "- 0 \tairplane\n",
    "- 1 \tautomobile\n",
    "- 2 \tbird\n",
    "- 3 \tcat\n",
    "- 4 \tdeer\n",
    "- 5 \tdog\n",
    "- 6 \tfrog\n",
    "- 7 \thorse\n",
    "- 8 \tship\n",
    "- 9 \ttruck\n"
   ]
  },
  {
   "cell_type": "markdown",
   "id": "e6352e39-e4ca-42fd-a168-2d6e69f08c0b",
   "metadata": {},
   "source": [
    "# Loading dataset\n",
    "Again, this is a known dataset, so the cifar10 function is ready in keras."
   ]
  },
  {
   "cell_type": "code",
   "execution_count": null,
   "id": "136df13b-c512-4c7c-9b30-549aadb570dc",
   "metadata": {
    "tags": []
   },
   "outputs": [],
   "source": [
    "import matplotlib.pyplot as plt\n",
    "import seaborn as sns\n",
    "import numpy as np"
   ]
  },
  {
   "cell_type": "code",
   "execution_count": null,
   "id": "633d6d14-f78d-498f-af18-ead6bfc7dd63",
   "metadata": {
    "tags": []
   },
   "outputs": [],
   "source": [
    "from keras.datasets import cifar10\n",
    "(X_train, Y_train), (X_test, Y_test) = cifar10.load_data()"
   ]
  },
  {
   "cell_type": "markdown",
   "id": "f96c23ce",
   "metadata": {},
   "source": [
    "We will name the loaded classes according to the known order."
   ]
  },
  {
   "cell_type": "code",
   "execution_count": null,
   "id": "6f35eabc-0ddf-4e4f-a71f-c7eb6a9276af",
   "metadata": {
    "tags": []
   },
   "outputs": [],
   "source": [
    "class_names=[\"plane\", \"car\", \"bird\", \"cat\", \"deer\", \"dog\", \"frog\", \"horse\", \"ship\", \"truck\"]\n",
    "num_classes = len(class_names)"
   ]
  },
  {
   "cell_type": "markdown",
   "id": "618ebeef-cbcc-454c-bbd9-42778549546b",
   "metadata": {},
   "source": [
    "# Data exploration\n",
    "We don't know anything about the data yet, so let's take a look at it."
   ]
  },
  {
   "cell_type": "markdown",
   "id": "a66813d6",
   "metadata": {},
   "source": [
    "Sizes of numpy fields shows us:\n",
    "* The training data is 50000\n",
    "* Test data is 10000\n",
    "* Images are 32x32 in size\n",
    "* Images are in color because we have 3 RGB channels"
   ]
  },
  {
   "cell_type": "code",
   "execution_count": null,
   "id": "b4e20e94-e10c-45fa-8669-1cff6c5b8bb5",
   "metadata": {
    "tags": []
   },
   "outputs": [],
   "source": [
    "print('X_train: ' + str(X_train.shape))\n",
    "print('Y_train: ' + str(Y_train.shape))\n",
    "print('X_test:  '  + str(X_test.shape))\n",
    "print('Y_test:  '  + str(Y_test.shape))"
   ]
  },
  {
   "cell_type": "markdown",
   "id": "61e9d00d",
   "metadata": {},
   "source": [
    "We can dump the raw data for the first image. We can see that the values are stored in the uint(8) data type, which has a range of 0..255."
   ]
  },
  {
   "cell_type": "code",
   "execution_count": null,
   "id": "2607bf05-5f84-452d-97f2-f31cad202ad0",
   "metadata": {
    "tags": []
   },
   "outputs": [],
   "source": [
    "X_train[0]"
   ]
  },
  {
   "cell_type": "markdown",
   "id": "7dea5cc4",
   "metadata": {},
   "source": [
    "There should be 10 classes of images, so let's look at the unique values of the Y_train and Y_test matrices. We want all classes to be represented in them."
   ]
  },
  {
   "cell_type": "code",
   "execution_count": null,
   "id": "59e705e1-623d-465d-bf83-f85f7c5ba0e0",
   "metadata": {
    "tags": []
   },
   "outputs": [],
   "source": [
    "print(np.unique(Y_train))\n",
    "print(np.unique(Y_test))"
   ]
  },
  {
   "cell_type": "markdown",
   "id": "248e79d2",
   "metadata": {},
   "source": [
    "A good dataset is balanced. There should be a similar number of images in each class.\n",
    "\n",
    "Let's plot a graph of class frequency."
   ]
  },
  {
   "cell_type": "code",
   "execution_count": null,
   "id": "cdd3a7aa-8d3e-48a7-9aa7-100059f0db98",
   "metadata": {
    "tags": []
   },
   "outputs": [],
   "source": [
    "sns.displot(Y_train)"
   ]
  },
  {
   "cell_type": "code",
   "execution_count": null,
   "id": "c7a9bd78-4d22-4e8a-bdd5-a44700c45c42",
   "metadata": {
    "tags": []
   },
   "outputs": [],
   "source": [
    "sns.displot(Y_test)"
   ]
  },
  {
   "cell_type": "markdown",
   "id": "e4f437ea-0545-4eed-9cd0-7d55ddd547f5",
   "metadata": {},
   "source": [
    "# Data visualization\n",
    "These are images. That's why we will preview them."
   ]
  },
  {
   "cell_type": "code",
   "execution_count": null,
   "id": "f4e4152a-0102-49e1-8344-1d91f72391bc",
   "metadata": {
    "tags": []
   },
   "outputs": [],
   "source": [
    "def show_images (images, labels, rows=6, cols=10):\n",
    "    fig, axes = plt.subplots(rows, cols, figsize=(cols, rows))\n",
    "    plt.subplots_adjust(bottom=0)\n",
    "    \n",
    "    for idx in range (0, rows * cols):\n",
    "        ridx=idx//cols\n",
    "        cidx=idx % cols        \n",
    "        ax= axes[ridx, cidx]\n",
    "        ax.axis(\"off\")\n",
    "        ax.imshow(images[idx])\n",
    "        label = class_names[labels[idx][0]]\n",
    "        ax.set_title(f\"{label}\")        "
   ]
  },
  {
   "cell_type": "code",
   "execution_count": null,
   "id": "cb4348f6-af90-4b6b-aa5b-ca57c021f7d3",
   "metadata": {
    "tags": []
   },
   "outputs": [],
   "source": [
    "show_images(X_train, Y_train, 3, 10)"
   ]
  },
  {
   "cell_type": "markdown",
   "id": "848435f9-a926-4ef1-a3db-59d999d4fd21",
   "metadata": {},
   "source": [
    "# Data preparation\n",
    "The range of values is 0..255. Data type uint8.\n",
    "\n",
    "Neural networks work better with standardized values around 0.\n",
    "\n",
    "Therefore, we change the data type to float32 and standardize the data by dividing by 255. This gives us a range of 0..1"
   ]
  },
  {
   "cell_type": "code",
   "execution_count": null,
   "id": "bc365b96-a80b-4963-842b-842ab7a37411",
   "metadata": {
    "tags": []
   },
   "outputs": [],
   "source": [
    "X_train = X_train.astype('float32')\n",
    "X_test = X_test.astype('float32')\n",
    "\n",
    "X_train = X_train / 255\n",
    "X_test = X_test / 255"
   ]
  },
  {
   "cell_type": "markdown",
   "id": "5f8b338f",
   "metadata": {},
   "source": [
    "Control display of raw data."
   ]
  },
  {
   "cell_type": "code",
   "execution_count": null,
   "id": "9e106a69-3ce1-4c55-8b57-c90e14f81971",
   "metadata": {
    "tags": []
   },
   "outputs": [],
   "source": [
    "X_train[0]"
   ]
  },
  {
   "cell_type": "markdown",
   "id": "7e3fd356",
   "metadata": {},
   "source": [
    "Output categories in the input data are again stored as a class number.\n",
    "\n",
    "For a neural network we will want to have the output data in vector form. \n",
    "\n",
    "We will perform binary encoding."
   ]
  },
  {
   "cell_type": "code",
   "execution_count": null,
   "id": "b3ef99b2-a8aa-4098-8dfa-1d3c6da3a27f",
   "metadata": {
    "tags": []
   },
   "outputs": [],
   "source": [
    "from keras.utils import to_categorical\n",
    "num_classes = 10\n",
    "Y_train = to_categorical(Y_train, num_classes)\n",
    "Y_test = to_categorical(Y_test, num_classes)"
   ]
  },
  {
   "cell_type": "markdown",
   "id": "823e1259",
   "metadata": {},
   "source": [
    "Control display of output data."
   ]
  },
  {
   "cell_type": "code",
   "execution_count": null,
   "id": "9a3f9579-980f-410a-8c6e-ba5662e76eb6",
   "metadata": {
    "tags": []
   },
   "outputs": [],
   "source": [
    "Y_train[0]"
   ]
  },
  {
   "cell_type": "markdown",
   "id": "95869e35-91e9-4173-b76d-76d2d38034e8",
   "metadata": {},
   "source": [
    "# Convolutional neural network"
   ]
  },
  {
   "cell_type": "code",
   "execution_count": null,
   "id": "4b523951-5dcb-4f9a-acca-360adcaebf8d",
   "metadata": {
    "tags": []
   },
   "outputs": [],
   "source": [
    "import keras\n",
    "from keras.models import Sequential\n",
    "from keras.layers import Dense, Dropout, Conv2D, MaxPooling2D, Flatten, Input"
   ]
  },
  {
   "cell_type": "markdown",
   "id": "fb48f8fd",
   "metadata": {},
   "source": [
    "A convolutional neural network is forward/sequential."
   ]
  },
  {
   "cell_type": "code",
   "execution_count": null,
   "id": "198088a2",
   "metadata": {},
   "outputs": [],
   "source": [
    "model = Sequential()"
   ]
  },
  {
   "cell_type": "markdown",
   "id": "3b06ed10",
   "metadata": {},
   "source": [
    "Unlike classical networks, convolutional networks work with spatial contiguity of input data. Therefore, we will not convert the input data into a one-dimensional vector, but keep it in the form of a matrix."
   ]
  },
  {
   "cell_type": "code",
   "execution_count": null,
   "id": "7a5454fc",
   "metadata": {},
   "outputs": [],
   "source": [
    "model.add(Input(shape=(32,32,3)))"
   ]
  },
  {
   "cell_type": "markdown",
   "id": "e60a1dcf",
   "metadata": {},
   "source": [
    "Add the first convolutional layer.\n",
    "* filters - 32 convolution filters\n",
    "* kernel_size - size of convolution filters 3 x 3\n",
    "* padding - alignment of same leads to even padding left/right or up/down from input\n",
    "* activation - ReLU activation function"
   ]
  },
  {
   "cell_type": "code",
   "execution_count": null,
   "id": "1ddde982",
   "metadata": {},
   "outputs": [],
   "source": [
    "model.add(Conv2D(filters=32, kernel_size=(3,3), padding='same', activation='relu'))"
   ]
  },
  {
   "cell_type": "markdown",
   "id": "26cd6eed",
   "metadata": {},
   "source": [
    "Add another convolutional layer."
   ]
  },
  {
   "cell_type": "code",
   "execution_count": null,
   "id": "102b4434",
   "metadata": {},
   "outputs": [],
   "source": [
    "model.add(Conv2D(32, (3,3), padding='same', activation='relu'))"
   ]
  },
  {
   "cell_type": "markdown",
   "id": "c041d967",
   "metadata": {},
   "source": [
    "The pair of convolutional layers is followed by a maxpolling layer.\n",
    "\n",
    "This reduces the size of the matrices using a 2x2 pool."
   ]
  },
  {
   "cell_type": "code",
   "execution_count": null,
   "id": "a5ef8300",
   "metadata": {},
   "outputs": [],
   "source": [
    "model.add(MaxPooling2D(pool_size=(2,2)))"
   ]
  },
  {
   "cell_type": "markdown",
   "id": "7dc1b61c",
   "metadata": {},
   "source": [
    "To make our neural network more resistant to overfitting, we add a Dropout layer.\n",
    "\n",
    "The Dropout layer randomly sets the input neurons to 0, which helps prevent the network from overfitting to the training data.\n",
    "\n",
    "Inputs that are not set to 0 are scaled by 1 / (1 - rate) so that the sum of all inputs remains unchanged."
   ]
  },
  {
   "cell_type": "code",
   "execution_count": null,
   "id": "5bf53ba7",
   "metadata": {},
   "outputs": [],
   "source": [
    "model.add(Dropout(0.3))"
   ]
  },
  {
   "cell_type": "markdown",
   "id": "87b3de7a",
   "metadata": {},
   "source": [
    "Then we add a second block of convolutional, maxpooling and dropout layers."
   ]
  },
  {
   "cell_type": "code",
   "execution_count": null,
   "id": "856dfb28",
   "metadata": {},
   "outputs": [],
   "source": [
    "model.add(Conv2D(64, (3,3), padding='same', activation='relu'))\n",
    "model.add(Conv2D(64, (3,3), padding='same', activation='relu'))\n",
    "model.add(MaxPooling2D(pool_size=(2,2)))\n",
    "model.add(Dropout(0.5))"
   ]
  },
  {
   "cell_type": "markdown",
   "id": "93447e81",
   "metadata": {},
   "source": [
    "Third block"
   ]
  },
  {
   "cell_type": "code",
   "execution_count": null,
   "id": "77fe98bb",
   "metadata": {},
   "outputs": [],
   "source": [
    "model.add(Conv2D(128, (3,3), padding='same', activation='relu'))\n",
    "model.add(Conv2D(128, (3,3), padding='same', activation='relu'))\n",
    "model.add(MaxPooling2D(pool_size=(2,2)))\n",
    "model.add(Dropout(0.5))"
   ]
  },
  {
   "cell_type": "markdown",
   "id": "81ae64f6",
   "metadata": {},
   "source": [
    "After a series of convolutional layers, we need to build a part of the network that will convert the values into categories.\n",
    "\n",
    "The Flatten layer flattens the existing multidimensional arrays to 1 dimension."
   ]
  },
  {
   "cell_type": "code",
   "execution_count": null,
   "id": "73c3c13b",
   "metadata": {},
   "outputs": [],
   "source": [
    "model.add(Flatten())"
   ]
  },
  {
   "cell_type": "markdown",
   "id": "9154fcf6",
   "metadata": {},
   "source": [
    "Classification part with fully connected layers with relu activation functions."
   ]
  },
  {
   "cell_type": "code",
   "execution_count": null,
   "id": "cf4961cc-bfd6-416e-b435-99761867e851",
   "metadata": {
    "tags": []
   },
   "outputs": [],
   "source": [
    "model.add(Dense(128, activation='relu'))\n",
    "model.add(Dropout(0.5))"
   ]
  },
  {
   "cell_type": "markdown",
   "id": "fc0dd075",
   "metadata": {},
   "source": [
    "The last layer has 10 output neurons because we have 10 classes of images.\n",
    "\n",
    "The softmax activation function is used to convert the values into probabilities."
   ]
  },
  {
   "cell_type": "code",
   "execution_count": null,
   "id": "3050d892",
   "metadata": {},
   "outputs": [],
   "source": [
    "model.add(Dense(num_classes, activation='softmax')) "
   ]
  },
  {
   "cell_type": "markdown",
   "id": "58c3f5b6",
   "metadata": {},
   "source": [
    "View the model."
   ]
  },
  {
   "cell_type": "code",
   "execution_count": null,
   "id": "7a20ff54-d964-4c4c-a7b4-ade355afa6f2",
   "metadata": {
    "tags": []
   },
   "outputs": [],
   "source": [
    "model.summary()"
   ]
  },
  {
   "cell_type": "code",
   "execution_count": null,
   "id": "73ced601-6233-4919-8326-f30189ea7a72",
   "metadata": {
    "tags": []
   },
   "outputs": [],
   "source": [
    "from keras_visualizer import visualizer \n",
    "visualizer(model, file_format='png', view=True)"
   ]
  },
  {
   "cell_type": "markdown",
   "id": "d125bd4a-c661-47e0-a729-72a076a686c6",
   "metadata": {},
   "source": [
    "# Learning"
   ]
  },
  {
   "cell_type": "markdown",
   "id": "ff66e8fb",
   "metadata": {},
   "source": [
    "Set the learning parameters."
   ]
  },
  {
   "cell_type": "code",
   "execution_count": null,
   "id": "ad37c41e-b5e2-404f-bb47-3106e036bf0f",
   "metadata": {
    "tags": []
   },
   "outputs": [],
   "source": [
    "model.compile(optimizer='adam', loss=\"categorical_crossentropy\", metrics=['accuracy'])"
   ]
  },
  {
   "cell_type": "markdown",
   "id": "0c9c8f2e",
   "metadata": {},
   "source": [
    "We will create an Earlystop so that we don't unnecessarily train an already trained network."
   ]
  },
  {
   "cell_type": "code",
   "execution_count": null,
   "id": "0345bf0d-25e7-4e0d-8e7a-eb222bda252c",
   "metadata": {
    "tags": []
   },
   "outputs": [],
   "source": [
    "early_stop = keras.callbacks.EarlyStopping(monitor='accuracy', patience=30)"
   ]
  },
  {
   "cell_type": "markdown",
   "id": "c188443f",
   "metadata": {},
   "source": [
    "Let's start training the network."
   ]
  },
  {
   "cell_type": "code",
   "execution_count": null,
   "id": "e47e3f75-fbb7-4ef1-b168-2d35c0f4bec3",
   "metadata": {
    "tags": []
   },
   "outputs": [],
   "source": [
    "history = model.fit(X_train, Y_train, batch_size=64, epochs=15, callbacks=[early_stop])"
   ]
  },
  {
   "cell_type": "markdown",
   "id": "b4cbb23a",
   "metadata": {},
   "source": [
    "Save the trained network to a file for later use."
   ]
  },
  {
   "cell_type": "code",
   "execution_count": null,
   "id": "8d1f94d1-9067-41f0-bb16-100ef6c5de5e",
   "metadata": {
    "tags": []
   },
   "outputs": [],
   "source": [
    "model.save('classification_model_cifar10.keras')"
   ]
  },
  {
   "cell_type": "markdown",
   "id": "7fa494a1-0e36-41dc-aa95-dd67eeb8b7bb",
   "metadata": {},
   "source": [
    "# History of learning\n",
    "Again, it is good to look at the learning process to see if the value of the cost function is decreasing."
   ]
  },
  {
   "cell_type": "code",
   "execution_count": null,
   "id": "b8f9dd76-6ac4-4b0c-9413-62c9214bde57",
   "metadata": {
    "tags": []
   },
   "outputs": [],
   "source": [
    "plt.plot(history.history['loss'], label='Train Loss')\n",
    "plt.plot(history.history['accuracy'], label='Train Accuracy')\n",
    "plt.legend(loc=\"right\")\n",
    "plt.title('Loss, accuracy')\n",
    "plt.ylabel('Loss, accuracy')\n",
    "plt.xlabel('Počet epoch')\n",
    "plt.show()"
   ]
  },
  {
   "cell_type": "markdown",
   "id": "8f9dec20-7da7-482b-9346-e04f5ff7f6f7",
   "metadata": {},
   "source": [
    "# Model Verification\n",
    "We need to validate the trained model on the training data."
   ]
  },
  {
   "cell_type": "code",
   "execution_count": null,
   "id": "8919b464-9563-4364-bef0-c214cb5f96b3",
   "metadata": {
    "tags": []
   },
   "outputs": [],
   "source": [
    "model = keras.models.load_model('classification_model_cifar10.keras')"
   ]
  },
  {
   "cell_type": "code",
   "execution_count": null,
   "id": "67b2e7b3-da8e-4986-8b6e-825d77a5bce2",
   "metadata": {
    "tags": []
   },
   "outputs": [],
   "source": [
    "Y_pred = model.predict(X_test)"
   ]
  },
  {
   "cell_type": "markdown",
   "id": "df14ce3e",
   "metadata": {},
   "source": [
    "Let's compare the prediction for the first image"
   ]
  },
  {
   "cell_type": "code",
   "execution_count": null,
   "id": "0af29a88-ad7f-4eb0-bb9c-af4afd65d9f3",
   "metadata": {
    "tags": []
   },
   "outputs": [],
   "source": [
    "Y_pred[0]"
   ]
  },
  {
   "cell_type": "markdown",
   "id": "738334f1",
   "metadata": {},
   "source": [
    "with the correct answer."
   ]
  },
  {
   "cell_type": "code",
   "execution_count": null,
   "id": "4211165d-1172-4837-b266-d92ee64952cb",
   "metadata": {
    "tags": []
   },
   "outputs": [],
   "source": [
    "Y_test[0]"
   ]
  },
  {
   "cell_type": "markdown",
   "id": "46170fcf",
   "metadata": {},
   "source": [
    "We get the result as a vector of truth probabilities. Therefore, we get one answer by finding the maximum."
   ]
  },
  {
   "cell_type": "code",
   "execution_count": null,
   "id": "96b0c48a-53ab-439f-aec6-1099e9f03354",
   "metadata": {
    "tags": []
   },
   "outputs": [],
   "source": [
    "Y_pred_best_answer = np.argmax(Y_pred, axis=-1)\n",
    "Y_pred_best_answer"
   ]
  },
  {
   "cell_type": "markdown",
   "id": "8513ee7d",
   "metadata": {},
   "source": [
    "Do the same with the test answers (reality).\n",
    "\n",
    "Ideally, both fields are equal."
   ]
  },
  {
   "cell_type": "code",
   "execution_count": null,
   "id": "d58c88d0-103c-4e52-93de-3c31fcc4a9c6",
   "metadata": {
    "tags": []
   },
   "outputs": [],
   "source": [
    "Y_test_best_answer=np.argmax(Y_test, axis=-1)\n",
    "Y_test_best_answer"
   ]
  },
  {
   "cell_type": "markdown",
   "id": "a286c956",
   "metadata": {},
   "source": [
    "Print confusion matrix"
   ]
  },
  {
   "cell_type": "code",
   "execution_count": null,
   "id": "14a584bf-fedb-47c0-8b3e-a70485cb4b52",
   "metadata": {
    "tags": []
   },
   "outputs": [],
   "source": [
    "from sklearn.metrics import confusion_matrix, accuracy_score\n",
    "cf_matrix=confusion_matrix(Y_test_best_answer, Y_pred_best_answer)\n",
    "sns.heatmap(cf_matrix, annot=True)"
   ]
  },
  {
   "cell_type": "markdown",
   "id": "ce5cdbca",
   "metadata": {},
   "source": [
    "View the evaluation parameters\n",
    "* R2\n",
    "* Accuracy"
   ]
  },
  {
   "cell_type": "code",
   "execution_count": null,
   "id": "4532d725-b52a-42aa-b558-34509cb1d094",
   "metadata": {
    "tags": []
   },
   "outputs": [],
   "source": [
    "from sklearn.metrics import r2_score\n",
    "r2 = r2_score(Y_test_best_answer, Y_pred_best_answer)\n",
    "print('R2 score: {}'.format(r2))"
   ]
  },
  {
   "cell_type": "code",
   "execution_count": null,
   "id": "4395e535-fcdb-4dfc-b369-b9757aef57f4",
   "metadata": {
    "tags": []
   },
   "outputs": [],
   "source": [
    "scores = model.evaluate(X_test, Y_test, verbose=0)\n",
    "print (f\"Loss function: {scores[0]}\")\n",
    "print (f\"Accuracy: {scores[1]}\")"
   ]
  },
  {
   "cell_type": "markdown",
   "id": "1ff3ff3b",
   "metadata": {},
   "source": [
    "We can view the accuracies for each image class."
   ]
  },
  {
   "cell_type": "code",
   "execution_count": null,
   "id": "5778646f-e550-4728-9b36-38831cc9c630",
   "metadata": {
    "tags": []
   },
   "outputs": [],
   "source": [
    "class_correct, class_count = [0]*10, [0]*10\n",
    "\n",
    "for i in range(Y_test.shape[0]):    \n",
    "    if (Y_test_best_answer[i] == Y_pred_best_answer[i]):\n",
    "        class_correct[Y_test_best_answer[i]] +=1\n",
    "    class_count[Y_test_best_answer[i]] += 1\n",
    "    \n",
    "for i in range(10):\n",
    "    print (f\"Accuracy for {class_names[i]}: {class_correct[i]/class_count[i]:.2%}\") "
   ]
  },
  {
   "cell_type": "markdown",
   "id": "75a24241",
   "metadata": {},
   "source": [
    "It can be interesting to see the wrong answers."
   ]
  },
  {
   "cell_type": "code",
   "execution_count": null,
   "id": "8eed22e5-ed85-4c49-991f-42676d8825d2",
   "metadata": {
    "tags": []
   },
   "outputs": [],
   "source": [
    "def show_wrong_predictions(X_test, Y_test, Y_pred, rows=5, cols=5):        \n",
    "    idx = 0\n",
    "    max_examples = rows * cols\n",
    "    fig, axes = plt.subplots(rows, cols, figsize=(cols, rows), constrained_layout=True)    \n",
    "    for i in range(Y_test.shape[0]):    \n",
    "        if (Y_test[i] != Y_pred[i]):                                    \n",
    "            ridx=idx // cols\n",
    "            cidx=idx % cols            \n",
    "            ax = axes[ridx, cidx]\n",
    "            ax.axis(\"off\")\n",
    "            ax.imshow(X_test[i].reshape(32,32,3), cmap=\"gray_r\")\n",
    "            ax.set_title(f\"{class_names[Y_test[i]]} != {class_names[Y_pred[i]]}\")\n",
    "            idx +=1\n",
    "            if (idx == max_examples):\n",
    "                break"
   ]
  },
  {
   "cell_type": "code",
   "execution_count": null,
   "id": "f11b52b5-437f-404e-be13-2422f14cb2cf",
   "metadata": {
    "tags": []
   },
   "outputs": [],
   "source": [
    "show_wrong_predictions(X_test, Y_test_best_answer, Y_pred_best_answer, 2, 10)"
   ]
  }
 ],
 "metadata": {
  "kernelspec": {
   "display_name": ".venv",
   "language": "python",
   "name": "python3"
  },
  "language_info": {
   "codemirror_mode": {
    "name": "ipython",
    "version": 3
   },
   "file_extension": ".py",
   "mimetype": "text/x-python",
   "name": "python",
   "nbconvert_exporter": "python",
   "pygments_lexer": "ipython3",
   "version": "3.9.13"
  }
 },
 "nbformat": 4,
 "nbformat_minor": 5
}
