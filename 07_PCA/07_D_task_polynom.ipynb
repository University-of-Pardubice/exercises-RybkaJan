{
 "cells": [
  {
   "cell_type": "markdown",
   "id": "efd730e4-0565-4b7e-8caf-cfe8b527b655",
   "metadata": {},
   "source": [
    "# Polynominal regression\n",
    "\n",
    "## Task\n",
    "\n",
    "- Load dataset with sizes and prices\n",
    "- Explore and display the data\n",
    "- Create a linear model and find out its R2\n",
    "- Create polynomial models with different degrees, find their R2\n",
    "- Select the best model "
   ]
  },
  {
   "cell_type": "markdown",
   "id": "f037e435",
   "metadata": {},
   "source": [
    "# Data loading"
   ]
  },
  {
   "cell_type": "code",
   "execution_count": 1,
   "id": "52750eb3-4b2f-4673-b750-2f2e824da62b",
   "metadata": {
    "tags": []
   },
   "outputs": [],
   "source": [
    "import pandas as pd "
   ]
  },
  {
   "cell_type": "code",
   "execution_count": 2,
   "id": "17d43105-a5d6-44a6-99a8-4d6a6af286df",
   "metadata": {
    "tags": []
   },
   "outputs": [],
   "source": [
    "data = pd.read_csv (\"..\\dataset\\prices.csv\",  sep=';')"
   ]
  },
  {
   "cell_type": "markdown",
   "id": "9467aecc",
   "metadata": {},
   "source": [
    "# Linear model\n",
    "- standardize the data\n",
    "- create and train a linear model\n",
    "- display model parameters\n",
    "- visualize the linear model\n",
    "- display model scores"
   ]
  },
  {
   "cell_type": "markdown",
   "id": "f60da968",
   "metadata": {},
   "source": [
    "# Create a polynomial regression model\n",
    "- create a polynomial 1D model with steps 2 - 8\n",
    "- display models\n",
    "- display their parameters\n",
    "- show their scores\n",
    "- Which model would you choose?"
   ]
  }
 ],
 "metadata": {
  "kernelspec": {
   "display_name": ".venv",
   "language": "python",
   "name": "python3"
  },
  "language_info": {
   "codemirror_mode": {
    "name": "ipython",
    "version": 3
   },
   "file_extension": ".py",
   "mimetype": "text/x-python",
   "name": "python",
   "nbconvert_exporter": "python",
   "pygments_lexer": "ipython3",
   "version": "3.9.13"
  }
 },
 "nbformat": 4,
 "nbformat_minor": 5
}
