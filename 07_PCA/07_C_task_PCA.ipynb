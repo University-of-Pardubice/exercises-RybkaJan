{
 "cells": [
  {
   "cell_type": "markdown",
   "id": "efd730e4-0565-4b7e-8caf-cfe8b527b655",
   "metadata": {},
   "source": [
    "# Principal Component Analysis\n",
    "\n",
    "## Task\n",
    "\n",
    "- In the Portland Housing Prices/Sales dataset Jul 2020 - Jul 2021, determine if there is a multicollinearity problem.\n",
    "- Perform a principal component analysis\n",
    "- Create a linear model from PCA and compare the model to the previous exercise"
   ]
  },
  {
   "cell_type": "markdown",
   "id": "b4c81f14",
   "metadata": {},
   "source": [
    "# Data loading"
   ]
  },
  {
   "cell_type": "code",
   "execution_count": 1,
   "id": "52750eb3-4b2f-4673-b750-2f2e824da62b",
   "metadata": {
    "tags": []
   },
   "outputs": [],
   "source": [
    "import pandas as pd "
   ]
  },
  {
   "cell_type": "code",
   "execution_count": 2,
   "id": "17d43105-a5d6-44a6-99a8-4d6a6af286df",
   "metadata": {
    "tags": []
   },
   "outputs": [],
   "source": [
    "data = pd.read_csv (\"..\\dataset\\portland_filtered.csv\",  sep=';')"
   ]
  },
  {
   "cell_type": "markdown",
   "id": "e6f65264",
   "metadata": {},
   "source": [
    "# Analysis\n",
    "- show data\n",
    "- solve NaN values\n",
    "- display basic data statistics\n",
    "- show correlation matrix"
   ]
  },
  {
   "cell_type": "markdown",
   "id": "bec6c849",
   "metadata": {},
   "source": [
    "# Data preparation\n",
    "- select X variables bathrooms', 'bedrooms', 'livingArea','age','price'\n",
    "- standardize the variables"
   ]
  },
  {
   "cell_type": "markdown",
   "id": "c8132c2b",
   "metadata": {},
   "source": [
    "# Display the VIF for each variable"
   ]
  },
  {
   "cell_type": "markdown",
   "id": "e1412474",
   "metadata": {},
   "source": [
    "# PCA\n",
    "- Perform PCA\n",
    "- show correlation matrix"
   ]
  },
  {
   "cell_type": "markdown",
   "id": "5d5d82c8",
   "metadata": {},
   "source": [
    "# Linear model\n",
    "- Create and train a Linear Model for PCA variables\n",
    "- Show R2 and RMSE"
   ]
  }
 ],
 "metadata": {
  "kernelspec": {
   "display_name": ".venv",
   "language": "python",
   "name": "python3"
  },
  "language_info": {
   "codemirror_mode": {
    "name": "ipython",
    "version": 3
   },
   "file_extension": ".py",
   "mimetype": "text/x-python",
   "name": "python",
   "nbconvert_exporter": "python",
   "pygments_lexer": "ipython3",
   "version": "3.9.13"
  }
 },
 "nbformat": 4,
 "nbformat_minor": 5
}
