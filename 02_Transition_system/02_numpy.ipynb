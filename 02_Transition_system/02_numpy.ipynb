{
 "cells": [
  {
   "cell_type": "markdown",
   "metadata": {},
   "source": [
    "# Library numpy\n",
    "The python implementation of lists is not powerful enough. NumPy is a basic library for scientific and numerical computations in Python because it provides fast vector operations and efficient handling of large data.\n",
    "\n",
    "The numpy library is designed for n-dimensional arrays, complex mathematical functions, random number generators, linear algebra procedures, Fourier transforms, and more."
   ]
  },
  {
   "cell_type": "code",
   "execution_count": null,
   "metadata": {
    "tags": []
   },
   "outputs": [],
   "source": [
    "import numpy as np\n",
    "import matplotlib.pyplot as plt"
   ]
  },
  {
   "cell_type": "markdown",
   "metadata": {},
   "source": [
    "## Creating an array\n",
    "There are a number of ways to create a multidimensional array.\n",
    "* From the list\n",
    "* Generate a series of numbers\n",
    "* Zero, unit matrix\n",
    "* Random matrix, etc."
   ]
  },
  {
   "cell_type": "code",
   "execution_count": null,
   "metadata": {
    "tags": []
   },
   "outputs": [],
   "source": [
    "a = np.array([1, 2, 3])       # array with elements 1, 2, 3\n",
    "b = np.arange (9)             # values from 0 to 8\n",
    "c = np.arange (1, 11, 2)      # values 1 to 10 by 2 [1, 3, 5, 7, 9]\n",
    "d = np.zeros ((4, 10))        # 4x10 zero matrix, dimension specified as a tuple\n",
    "e = np.ones ((2, 3))          # ones matrix 2x3\n",
    "f = np.random.rand(3, 5)      # the dimension is not specified as a tuple \n",
    "g = np.eye(3, dtype=int)      # unit matrix\n",
    "h = np.linspace (1, 11, 40)  "
   ]
  },
  {
   "cell_type": "code",
   "execution_count": null,
   "metadata": {
    "tags": []
   },
   "outputs": [],
   "source": [
    "print (a)\n",
    "print (b)\n",
    "print (c)\n",
    "print (d)\n",
    "print (e)\n",
    "print (f)\n",
    "print (g)\n",
    "print (h)"
   ]
  },
  {
   "cell_type": "markdown",
   "metadata": {},
   "source": [
    "## Data type\n",
    "The matrix can contain different data types. The type is defined at creation.\n",
    "\n",
    "Depending on the chosen data type, you determine how much memory space the matrix can occupy and also what range of numbers it can contain.\n",
    "\n",
    "From a performance point of view, it is advisable to choose the smallest suitable data type.\n",
    "\n",
    "https://numpy.org/doc/stable/reference/arrays.dtypes.html"
   ]
  },
  {
   "cell_type": "code",
   "execution_count": null,
   "metadata": {
    "tags": []
   },
   "outputs": [],
   "source": [
    "np.dtype('i4')      # 32-bit signed integer\n",
    "np.dtype('f8')      # 64-bit floating-point number\n",
    "np.dtype('c16')     # 128-bit complex floating-point number\n",
    "np.dtype('S25')     # 25-length zero-terminated bytes\n",
    "np.dtype('U25')     # 25-character string\n",
    "np.dtype('uint32')  # 32-bit unsigned integer\n",
    "np.dtype('float64') # 64-bit floating-point number\n",
    "np.dtype(float)     # Python-compatible floating-point number\n",
    "np.dtype(int)       # Python-compatible integer"
   ]
  },
  {
   "cell_type": "code",
   "execution_count": null,
   "metadata": {},
   "outputs": [],
   "source": [
    "a = np.array([[1, 2], [3, 4]], dtype=float)"
   ]
  },
  {
   "cell_type": "markdown",
   "metadata": {},
   "source": [
    "To find out what data type the matrix contains, use **dtype**."
   ]
  },
  {
   "cell_type": "code",
   "execution_count": null,
   "metadata": {
    "tags": []
   },
   "outputs": [],
   "source": [
    "a.dtype"
   ]
  },
  {
   "cell_type": "markdown",
   "metadata": {},
   "source": [
    "## Basic mathematical operations\n",
    "We will show later that creating models for artificial intelligence is based on mathematical operations with matrices.\n",
    "\n",
    "Numpy has built-in functions to perform these operations in parallel and efficiently.\n",
    "\n",
    "We will demonstrate scalar operations on a vector."
   ]
  },
  {
   "cell_type": "code",
   "execution_count": null,
   "metadata": {
    "tags": []
   },
   "outputs": [],
   "source": [
    "h=np.linspace (1, 10, 10)\n",
    "print (h)"
   ]
  },
  {
   "cell_type": "markdown",
   "metadata": {},
   "source": [
    "Adding a scalar value"
   ]
  },
  {
   "cell_type": "code",
   "execution_count": null,
   "metadata": {},
   "outputs": [],
   "source": [
    "print (h + 2)"
   ]
  },
  {
   "cell_type": "markdown",
   "metadata": {},
   "source": [
    "Multiplying a vector by a scalar value"
   ]
  },
  {
   "cell_type": "code",
   "execution_count": null,
   "metadata": {
    "tags": []
   },
   "outputs": [],
   "source": [
    "print (h * 2)"
   ]
  },
  {
   "cell_type": "markdown",
   "metadata": {},
   "source": [
    "## Resizing the array\n",
    "Each array in numpy has its dimensions defined. These can be determined using the **shape** function and the number of dimensions using **ndim**."
   ]
  },
  {
   "cell_type": "code",
   "execution_count": null,
   "metadata": {
    "tags": []
   },
   "outputs": [],
   "source": [
    "print (d)\n",
    "d.shape"
   ]
  },
  {
   "cell_type": "code",
   "execution_count": null,
   "metadata": {
    "tags": []
   },
   "outputs": [],
   "source": [
    "d.ndim"
   ]
  },
  {
   "cell_type": "markdown",
   "metadata": {},
   "source": [
    "The internal storage of the matrices allows very efficiently to change the dimension of the matrix. \n",
    "\n",
    "The resizing is done by modifying the matrix properties and not by reallocating data in memory.\n",
    "\n",
    "Of course, those dimension changes that are compatible with the previous dimension are allowed."
   ]
  },
  {
   "cell_type": "code",
   "execution_count": null,
   "metadata": {
    "tags": []
   },
   "outputs": [],
   "source": [
    "print (b)\n",
    "print (b.shape)"
   ]
  },
  {
   "cell_type": "code",
   "execution_count": null,
   "metadata": {},
   "outputs": [],
   "source": [
    "b2 = b.reshape ((3,3))\n",
    "print (b2)\n",
    "print (b2.shape)"
   ]
  },
  {
   "cell_type": "markdown",
   "metadata": {},
   "source": [
    "## Splitting the matrix\n",
    "We will definitely need an operation later on that will cut off some part of the matrix (we just want some columns or some rows)."
   ]
  },
  {
   "cell_type": "code",
   "execution_count": null,
   "metadata": {
    "tags": []
   },
   "outputs": [],
   "source": [
    "print (f)\n",
    "print (f.shape)"
   ]
  },
  {
   "cell_type": "markdown",
   "metadata": {},
   "source": [
    "We start by wanting the first line. Again, the indices are counted from 0."
   ]
  },
  {
   "cell_type": "code",
   "execution_count": null,
   "metadata": {
    "tags": []
   },
   "outputs": [],
   "source": [
    "f[0]"
   ]
  },
  {
   "cell_type": "markdown",
   "metadata": {},
   "source": [
    "When we introduce another index, we cut by columns. We have already encountered the fact that negative numbers count lists from the back.\n",
    "\n",
    "The following expression selects the last value from the first row."
   ]
  },
  {
   "cell_type": "code",
   "execution_count": null,
   "metadata": {
    "tags": []
   },
   "outputs": [],
   "source": [
    "f[0][-1]"
   ]
  },
  {
   "cell_type": "markdown",
   "metadata": {},
   "source": [
    "We can also cut columns and other submatrices from the matrix\n",
    "* f[:,2] selects the 3rd column, : means we want all rows\n",
    "* f[1:3,2:4] selects the third and fourth columns from the second and third rows"
   ]
  },
  {
   "cell_type": "code",
   "execution_count": null,
   "metadata": {
    "tags": []
   },
   "outputs": [],
   "source": [
    "f[:,2]"
   ]
  },
  {
   "cell_type": "code",
   "execution_count": null,
   "metadata": {},
   "outputs": [],
   "source": [
    "f[1:3,2:4]"
   ]
  },
  {
   "cell_type": "markdown",
   "metadata": {},
   "source": [
    "Splitting matrices can also be done using the split function, where we do not select a particular submatrix, but make a cut through the matrix that splits it in two.\n",
    "\n",
    "The following example # separates the first column\n",
    "* [1] - splitting column\n",
    "* axis=1 divides by columns"
   ]
  },
  {
   "cell_type": "code",
   "execution_count": null,
   "metadata": {},
   "outputs": [],
   "source": [
    "print (f) "
   ]
  },
  {
   "cell_type": "code",
   "execution_count": null,
   "metadata": {
    "tags": []
   },
   "outputs": [],
   "source": [
    "f1, f2 = np.split(f, [1], axis=1)    \n",
    "print (f1)\n",
    "print (f2)"
   ]
  },
  {
   "cell_type": "markdown",
   "metadata": {},
   "source": [
    "Similarly, separate the first line\n",
    "* [1] elements on the left will be in one matrix, elements on the right including in the other. \n",
    "* axis=0 separates by row"
   ]
  },
  {
   "cell_type": "code",
   "execution_count": null,
   "metadata": {
    "tags": []
   },
   "outputs": [],
   "source": [
    "f1, f2 = np.split(f, [1], axis=0)\n",
    "print (f1)\n",
    "print (f2)     "
   ]
  },
  {
   "cell_type": "markdown",
   "metadata": {},
   "source": [
    "## Matrix operations\n",
    "So far we have demonstrated scalar operations with matrices. Numpy, of course, can also add and multiply matrices."
   ]
  },
  {
   "cell_type": "markdown",
   "metadata": {},
   "source": [
    "We can add the matrices if they have the same dimension."
   ]
  },
  {
   "cell_type": "code",
   "execution_count": null,
   "metadata": {},
   "outputs": [],
   "source": [
    "i=np.linspace (1, 10, 10)\n",
    "j=np.linspace (11, 20, 10)\n",
    "print (i)\n",
    "print (j)"
   ]
  },
  {
   "cell_type": "code",
   "execution_count": null,
   "metadata": {},
   "outputs": [],
   "source": [
    "print (i+j)"
   ]
  },
  {
   "cell_type": "markdown",
   "metadata": {},
   "source": [
    "For matrix multiplication, the number of rows of one matrix must match the number of columns of the other matrix."
   ]
  },
  {
   "cell_type": "code",
   "execution_count": null,
   "metadata": {},
   "outputs": [],
   "source": [
    "A = np.arange (2, 14)\n",
    "A = A.reshape ((3, 4))\n",
    "B = np.arange (5, 25)\n",
    "B = B.reshape ((4, 5))\n",
    "print (A)\n",
    "print (B)"
   ]
  },
  {
   "cell_type": "code",
   "execution_count": null,
   "metadata": {
    "tags": []
   },
   "outputs": [],
   "source": [
    "C=np.dot (A, B)\n",
    "print (C)"
   ]
  },
  {
   "cell_type": "markdown",
   "metadata": {},
   "source": [
    "## Creating a grid\n",
    "Sometimes we will find it useful to create points in space that will be in a grid. We will then calculate the value of a function for these points to get a 3D graph.\n",
    "\n",
    "To create a grid, we use the meshgrid function to which we pass two vectors.\n",
    " - creates a grid of grid coordinates of the specified size"
   ]
  },
  {
   "cell_type": "code",
   "execution_count": null,
   "metadata": {
    "tags": []
   },
   "outputs": [],
   "source": [
    "xx=np.linspace(0, 1, 30)\n",
    "yy=np.linspace(0, 1, 20)\n",
    "print (xx)\n",
    "print (yy)"
   ]
  },
  {
   "cell_type": "code",
   "execution_count": null,
   "metadata": {},
   "outputs": [],
   "source": [
    "XX, YY = np.meshgrid (xx, yy)\n",
    "print (XX.shape)\n",
    "print (YY.shape)"
   ]
  },
  {
   "cell_type": "code",
   "execution_count": null,
   "metadata": {
    "tags": []
   },
   "outputs": [],
   "source": [
    "plt.scatter(XX, YY)\n",
    "plt.show()"
   ]
  },
  {
   "cell_type": "markdown",
   "metadata": {
    "tags": []
   },
   "source": [
    "## Saving and loading an array to and from a file\n",
    "If you are processing a multidimensional matrix, it may be a good idea to save it to a file for later processing."
   ]
  },
  {
   "cell_type": "markdown",
   "metadata": {},
   "source": [
    "We can save it to CSV. This will make it easier to transfer to excel.\n",
    "\n",
    "And vice versa, the matrix can be read from CSV."
   ]
  },
  {
   "cell_type": "code",
   "execution_count": null,
   "metadata": {},
   "outputs": [],
   "source": [
    "np.savetxt(\"foo.csv\", xx, delimiter=\",\")"
   ]
  },
  {
   "cell_type": "code",
   "execution_count": null,
   "metadata": {},
   "outputs": [],
   "source": [
    "arr = np.loadtxt(\"foo.csv\", delimiter=\",\", dtype=str)\n",
    "display(arr)"
   ]
  },
  {
   "cell_type": "markdown",
   "metadata": {},
   "source": [
    "Text storage is good for transferring data between different programs. But the saving efficiency is poor.\n",
    "\n",
    "That's why numpy allows matrices to be saved in its optimized format."
   ]
  },
  {
   "cell_type": "code",
   "execution_count": null,
   "metadata": {
    "tags": []
   },
   "outputs": [],
   "source": [
    "np.savez_compressed(\"arr\", arr)"
   ]
  },
  {
   "cell_type": "code",
   "execution_count": null,
   "metadata": {
    "tags": []
   },
   "outputs": [],
   "source": [
    "arr2=np.load(\"arr.npz\")"
   ]
  },
  {
   "cell_type": "markdown",
   "metadata": {},
   "source": [
    "# Swapping columns\n",
    "Sometimes we can use a trick to change the order of columns.\n",
    "\n",
    "The following command redefines the matrix so that the columns are backwards."
   ]
  },
  {
   "cell_type": "code",
   "execution_count": null,
   "metadata": {},
   "outputs": [],
   "source": [
    "print (C)\n",
    "C = C[:, ::-1]\n",
    "print (C)"
   ]
  }
 ],
 "metadata": {
  "kernelspec": {
   "display_name": ".venv",
   "language": "python",
   "name": "python3"
  },
  "language_info": {
   "codemirror_mode": {
    "name": "ipython",
    "version": 3
   },
   "file_extension": ".py",
   "mimetype": "text/x-python",
   "name": "python",
   "nbconvert_exporter": "python",
   "pygments_lexer": "ipython3",
   "version": "3.9.13"
  }
 },
 "nbformat": 4,
 "nbformat_minor": 4
}
