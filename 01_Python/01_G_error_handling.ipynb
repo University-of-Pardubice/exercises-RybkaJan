{
 "cells": [
  {
   "cell_type": "markdown",
   "id": "094b4444-61ef-4dae-b2eb-342e6db7f5ac",
   "metadata": {},
   "source": [
    "# Exception\n",
    "\n",
    "Python allows you to catch and respond to errors at runtime, called exceptions."
   ]
  },
  {
   "cell_type": "code",
   "execution_count": null,
   "id": "0fae383b",
   "metadata": {},
   "outputs": [],
   "source": [
    "try:\n",
    "    x = int(input(\"Enter number \"))\n",
    "except ValueError:\n",
    "    print(\"That wasn't a number!\")"
   ]
  },
  {
   "cell_type": "markdown",
   "id": "fa6d47d3",
   "metadata": {},
   "source": [
    "The code can respond to multiple exceptions."
   ]
  },
  {
   "cell_type": "code",
   "execution_count": null,
   "id": "1d259790",
   "metadata": {},
   "outputs": [],
   "source": [
    "try:\n",
    "    1 / 0\n",
    "except ZeroDivisionError:\n",
    "    print(\"Division by zero is not allowed\")\n",
    "except Exception as e:\n",
    "    print(\"There was another error:\", e)"
   ]
  },
  {
   "cell_type": "markdown",
   "id": "cdc18a81",
   "metadata": {},
   "source": [
    "The try block can be completed with else and finally.\n",
    "\n",
    "* **else** block is executed if no exception occurred in try\n",
    "* **finally** is always executed, useful for cleaning up (file, database...)"
   ]
  },
  {
   "cell_type": "code",
   "execution_count": 1,
   "id": "5d179efe",
   "metadata": {},
   "outputs": [
    {
     "name": "stdout",
     "output_type": "stream",
     "text": [
      "You have entered a number: 10\n",
      "This block is always executed\n"
     ]
    }
   ],
   "source": [
    "try:\n",
    "    x = int(input(\"Enter number: \"))\n",
    "except ValueError:\n",
    "    print(\"It's not a number!\")\n",
    "else:\n",
    "    print(\"You have entered a number:\", x)\n",
    "finally:\n",
    "    print(\"This block is always executed\")"
   ]
  },
  {
   "cell_type": "markdown",
   "id": "38063da7",
   "metadata": {},
   "source": [
    "The exception can also be invoked."
   ]
  },
  {
   "cell_type": "code",
   "execution_count": null,
   "id": "4528a52d-9892-4030-bbaa-a5bacdea5289",
   "metadata": {
    "tags": []
   },
   "outputs": [],
   "source": [
    "raise IOError('not enough space')"
   ]
  },
  {
   "cell_type": "markdown",
   "id": "1be4f9fd",
   "metadata": {},
   "source": [
    "# Working with a file"
   ]
  },
  {
   "cell_type": "markdown",
   "id": "bae4cfd5",
   "metadata": {},
   "source": [
    "In the next lessons we will work with files. The following code will work, but it is not a good practice because many errors can occur when working with a file."
   ]
  },
  {
   "cell_type": "code",
   "execution_count": null,
   "id": "57190629-00d1-49ec-83a4-9d393861fdc1",
   "metadata": {},
   "outputs": [],
   "source": [
    "# Bad\n",
    "f = open ('file.txt', 'r')\n",
    "contents = f.read()\n",
    "f.close()"
   ]
  },
  {
   "cell_type": "markdown",
   "id": "4ac29afd",
   "metadata": {},
   "source": [
    "We can wrap the code with exceptions."
   ]
  },
  {
   "cell_type": "code",
   "execution_count": null,
   "id": "28422353-5e58-4a7d-932e-a8bcb34590b6",
   "metadata": {},
   "outputs": [],
   "source": [
    "f = open ('file.txt', 'r')\n",
    "try:\n",
    "    contents = f.read()\n",
    "finally:\n",
    "    f.close()"
   ]
  },
  {
   "cell_type": "markdown",
   "id": "c3845913",
   "metadata": {},
   "source": [
    "The best way to work with soubry is to use with. \n",
    "\n",
    "This code always closes the file, even if an exception occurs."
   ]
  },
  {
   "cell_type": "code",
   "execution_count": null,
   "id": "d1d4da87-939d-4f63-8b6b-acab060e88fc",
   "metadata": {
    "tags": []
   },
   "outputs": [],
   "source": [
    "with open ('file.txt', 'r') as f:\n",
    "    contents = f.read()"
   ]
  }
 ],
 "metadata": {
  "kernelspec": {
   "display_name": ".venv",
   "language": "python",
   "name": "python3"
  },
  "language_info": {
   "codemirror_mode": {
    "name": "ipython",
    "version": 3
   },
   "file_extension": ".py",
   "mimetype": "text/x-python",
   "name": "python",
   "nbconvert_exporter": "python",
   "pygments_lexer": "ipython3",
   "version": "3.9.13"
  }
 },
 "nbformat": 4,
 "nbformat_minor": 5
}
