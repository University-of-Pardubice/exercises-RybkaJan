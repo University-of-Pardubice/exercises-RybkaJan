{
 "cells": [
  {
   "cell_type": "markdown",
   "id": "48b60bad-9889-43a9-be52-974cbfc5b147",
   "metadata": {},
   "source": [
    "# Module, package, library"
   ]
  },
  {
   "cell_type": "markdown",
   "id": "46a0d7a5-cb81-47f9-9032-b96ea9222e88",
   "metadata": {},
   "source": [
    "## Module\n",
    "A .py file with functions, classes, variables.\n",
    "\n",
    "It allows to separate the program logic into separate parts.\n",
    "\n",
    "The module is referenced by the import command"
   ]
  },
  {
   "cell_type": "code",
   "execution_count": null,
   "id": "4904b999-3903-44cf-a669-c6a35e554997",
   "metadata": {
    "tags": []
   },
   "outputs": [],
   "source": [
    "# file my_module.py\n",
    "def greetings(name):\n",
    "    print(f\"Hello {name}\")"
   ]
  },
  {
   "cell_type": "code",
   "execution_count": null,
   "id": "15758efc",
   "metadata": {},
   "outputs": [],
   "source": [
    "import my_module\n",
    "my_module.greetings(\"Eva\")"
   ]
  },
  {
   "cell_type": "markdown",
   "id": "626d42aa-4858-49b1-8c15-2a6b87e225f2",
   "metadata": {},
   "source": [
    "## Package\n",
    "* A folder that contains multiple modules, packages, etc.\n",
    "* The directory structure on disk is the package structure.\n",
    "* \\_\\_init\\_\\_.py - initialization module\n",
    "* It is possible to have the same class names in modules, then you need to import or qualify correctly.\n",
    "* It is possible to import a specific module from a package."
   ]
  },
  {
   "cell_type": "markdown",
   "id": "98f0eac7",
   "metadata": {},
   "source": [
    "If a module is missing, it can often be installed using pip.\n",
    "\n",
    "**pip install network collection numpy**"
   ]
  },
  {
   "cell_type": "code",
   "execution_count": null,
   "id": "a712d49f",
   "metadata": {},
   "outputs": [],
   "source": [
    "network\n",
    "    init__.py\n",
    "    socket.py\n",
    "    http\n",
    "        __init__.py\n",
    "        request.py\n",
    "        response.py"
   ]
  },
  {
   "cell_type": "code",
   "execution_count": null,
   "id": "f970e2ed",
   "metadata": {},
   "outputs": [],
   "source": [
    "package1/\n",
    "│-- __init__.py\n",
    "│-- module1.py\n",
    "│-- module2.py"
   ]
  },
  {
   "cell_type": "code",
   "execution_count": null,
   "id": "9b24ddc2-e12e-4816-899f-e32a248f81fd",
   "metadata": {},
   "outputs": [],
   "source": [
    "from package1 import module1\n",
    "module1.function()"
   ]
  },
  {
   "cell_type": "markdown",
   "id": "258ecf6d",
   "metadata": {},
   "source": [
    "Instead of explicitly listing functions, you can enter *.\n",
    "\n",
    "This is only good for experiments, after years the module may change and import something else."
   ]
  },
  {
   "cell_type": "code",
   "execution_count": null,
   "id": "602f5070-bead-4ecc-b9e8-f25bf141857f",
   "metadata": {},
   "outputs": [],
   "source": [
    "import time\n",
    "import os, re, sys\n",
    "import multiprocessing as mp\n",
    "from collections import namedtuple, defaultdict\n",
    "from email import *     "
   ]
  },
  {
   "cell_type": "markdown",
   "id": "57b55793-c6fe-4eb8-bc2e-07b5de1079a5",
   "metadata": {},
   "source": [
    "## Library\n",
    "A collection of packages and modules, often created by a third party. E.g. numpy, pandas, matplotlib.\n",
    "\n",
    "Installation via pip install library."
   ]
  },
  {
   "cell_type": "code",
   "execution_count": 2,
   "id": "ed0e0dff-850e-4ade-a3af-6fce85389b1f",
   "metadata": {},
   "outputs": [],
   "source": [
    "import numpy as np"
   ]
  }
 ],
 "metadata": {
  "kernelspec": {
   "display_name": ".venv",
   "language": "python",
   "name": "python3"
  },
  "language_info": {
   "codemirror_mode": {
    "name": "ipython",
    "version": 3
   },
   "file_extension": ".py",
   "mimetype": "text/x-python",
   "name": "python",
   "nbconvert_exporter": "python",
   "pygments_lexer": "ipython3",
   "version": "3.9.13"
  }
 },
 "nbformat": 4,
 "nbformat_minor": 5
}
