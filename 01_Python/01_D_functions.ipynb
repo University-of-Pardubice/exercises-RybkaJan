{
 "cells": [
  {
   "cell_type": "markdown",
   "id": "29b85cf9-71b1-4bdd-812d-259f4b66fc7d",
   "metadata": {
    "tags": []
   },
   "source": [
    "# Functions"
   ]
  },
  {
   "cell_type": "markdown",
   "id": "df241cbb-498b-482e-afad-20f299a38044",
   "metadata": {},
   "source": [
    "Functions are first-class object. In python, you can do anything with functions that you can do with other objects.\n",
    "* Assign to a variable\n",
    "* Use as a parameter to another function\n",
    "* Create it at runtime"
   ]
  },
  {
   "cell_type": "code",
   "execution_count": null,
   "id": "22d50c9e-ae75-4de2-b4c7-736706384a1a",
   "metadata": {
    "tags": []
   },
   "outputs": [],
   "source": [
    "def foo(bar):\n",
    "    \"\"\" Documentation string\n",
    "        on multiple lines\n",
    "    \"\"\"\n",
    "    \n",
    "    return bar"
   ]
  },
  {
   "cell_type": "code",
   "execution_count": null,
   "id": "525e54c9",
   "metadata": {},
   "outputs": [],
   "source": [
    "f = foo(1)\n",
    "print (f)\n",
    "print (foo(\"B\"))"
   ]
  },
  {
   "cell_type": "markdown",
   "id": "07c9fa30",
   "metadata": {},
   "source": [
    "# Arguments"
   ]
  },
  {
   "cell_type": "markdown",
   "id": "771b1061",
   "metadata": {},
   "source": [
    "Python functions can have **default argument values**. If the user does not specify this argument when calling the function, this default value is used.\n",
    "\n",
    "Beware of mutable objects!\n",
    "\n",
    "Do not use lists, dictionaries, sets, etc. as default values, as they are created only once when the function is defined and then shared between all calls.\n",
    "This can lead to errors."
   ]
  },
  {
   "cell_type": "code",
   "execution_count": null,
   "id": "5a90b02e-23dc-4d10-9d69-62d5054aba0d",
   "metadata": {
    "tags": []
   },
   "outputs": [],
   "source": [
    "def bar(a=1, b=2):\n",
    "    \"\"\"# default argument values\"\"\"\n",
    "    return a + b\n",
    "bar()\n"
   ]
  },
  {
   "cell_type": "markdown",
   "id": "25daabe1",
   "metadata": {},
   "source": [
    "Default arguments can be omitted or overwritten.\n",
    "\n",
    "Named arguments can be overridden."
   ]
  },
  {
   "cell_type": "code",
   "execution_count": null,
   "id": "b043f552-b8c8-4e33-8978-adbe6ca0fa38",
   "metadata": {
    "tags": []
   },
   "outputs": [],
   "source": [
    "print (bar(b=3))\n",
    "print (bar (b=3, a=5))"
   ]
  },
  {
   "cell_type": "markdown",
   "id": "f553a32f",
   "metadata": {},
   "source": [
    "***args** allows the function to accept any number of positional arguments.\n",
    "\n",
    "Inside the function, args behaves like a tuple."
   ]
  },
  {
   "cell_type": "code",
   "execution_count": null,
   "id": "c45b809b-9798-4d10-b46e-2d9d99f41f3a",
   "metadata": {
    "tags": []
   },
   "outputs": [],
   "source": [
    "def sum (*args):\n",
    "    \"\"\" Use any number of parameters \"\"\"\n",
    "    result = 0\n",
    "    for arg in args:\n",
    "        result += arg\n",
    "    return result\n",
    "sum (1, 2, 3)"
   ]
  },
  {
   "cell_type": "markdown",
   "id": "e6cb4164",
   "metadata": {},
   "source": [
    "****kwargs** works similarly to *args, but stores arguments in a dictionary instead of a tuple.\n",
    "\n",
    "It is used for any number of named (key) arguments."
   ]
  },
  {
   "cell_type": "code",
   "execution_count": null,
   "id": "301a47c7",
   "metadata": {},
   "outputs": [],
   "source": [
    "def info(**kwargs):\n",
    "    print(kwargs)\n",
    "\n",
    "info(name=\"Eva\", age=25, city=\"Brno\")"
   ]
  },
  {
   "cell_type": "markdown",
   "id": "08f8770d",
   "metadata": {},
   "source": [
    "You can use the concurrent argument, *args and **kwargs.\n",
    "\n",
    "* common arguments\n",
    "* *args\n",
    "* **kwargs"
   ]
  },
  {
   "cell_type": "code",
   "execution_count": null,
   "id": "c7a482ee",
   "metadata": {},
   "outputs": [],
   "source": [
    "def universal(required, *args, **kwargs):\n",
    "    print(\"Required argument:\", required)\n",
    "    print(\"Other (args):\", args)\n",
    "    print(\"Key (kwargs):\", kwargs)    \n",
    "\n",
    "universal(\"start\", 1, 2, 3, name=\"Eva\", age=25)"
   ]
  },
  {
   "cell_type": "code",
   "execution_count": null,
   "id": "6eaff66d",
   "metadata": {},
   "outputs": [],
   "source": [
    "person = {\"name\": \"Karel\", \"age\": 40}\n",
    "universal(\"start\", **person)"
   ]
  },
  {
   "cell_type": "markdown",
   "id": "f0d130c1",
   "metadata": {},
   "source": [
    "# Return value"
   ]
  },
  {
   "cell_type": "markdown",
   "id": "f9cdf8c6",
   "metadata": {},
   "source": [
    "The function can return multiple values. These are returned as tuples.\n",
    "\n",
    "Tuples can also be split into individual variables."
   ]
  },
  {
   "cell_type": "code",
   "execution_count": null,
   "id": "f8fb3e3f",
   "metadata": {},
   "outputs": [],
   "source": [
    "def division(a, b):\n",
    "    fraction = a // b\n",
    "    remainder = a % b\n",
    "    return fraction, remainder    \n",
    "\n",
    "result = division (17, 5)\n",
    "print(result)    \n",
    "print(type(result))  \n",
    "\n",
    "a, b = division (10, 3)\n",
    "print (a)\n",
    "print (b)"
   ]
  },
  {
   "cell_type": "markdown",
   "id": "af1f170f",
   "metadata": {},
   "source": [
    "# Hints of data types\n",
    "In Python, there is the possibility of type hints. These are used for readability and for tools (IDE, ...), but Python does not check them at runtime.\n",
    "\n",
    "After the colon : we specify the expected type of the parameter, after -> the type of the return value."
   ]
  },
  {
   "cell_type": "code",
   "execution_count": null,
   "id": "f39c5ddb",
   "metadata": {},
   "outputs": [],
   "source": [
    "def greet(name: str, age: int) -> str:\n",
    "    return f\"Hello, {name}, you are {age} years old.\"\n",
    "\n",
    "print(greet(\"Petr\", 25))"
   ]
  },
  {
   "cell_type": "code",
   "execution_count": null,
   "id": "c066fcbe",
   "metadata": {},
   "outputs": [],
   "source": [
    "# The function is executed and returns the result. Some IDEs will report an error or warning because the age is specified as a string.\n",
    "print(greet(\"Petr\", \"25\"))"
   ]
  },
  {
   "cell_type": "markdown",
   "id": "3aef361d",
   "metadata": {},
   "source": [
    "They are used from the typing module (since Python 3.9 also directly list, dict etc.):"
   ]
  },
  {
   "cell_type": "code",
   "execution_count": null,
   "id": "2e7a37cd",
   "metadata": {},
   "outputs": [],
   "source": [
    "from typing import List, Dict, Tuple, Optional\n",
    "\n",
    "def sum_list(values: List[int]) -> int:\n",
    "    return sum(values)\n",
    "\n",
    "def get_user() -> Dict[str, str]:\n",
    "    return {\"name\": \"Anna\", \"role\": \"admin\"}\n",
    "\n",
    "def position() -> Tuple[int, int]:\n",
    "    return (10, 20)\n",
    "\n",
    "def maybe_number(flag: bool) -> Optional[int]:\n",
    "    return 42 if flag else None"
   ]
  },
  {
   "cell_type": "markdown",
   "id": "10c814fb",
   "metadata": {},
   "source": [
    "You can also use the more general Any, Union, Literal rules\n",
    "* Any = can be anything\n",
    "* Union = multiple types\n",
    "* Literal = specific allowed values"
   ]
  },
  {
   "cell_type": "code",
   "execution_count": null,
   "id": "1536d035",
   "metadata": {},
   "outputs": [],
   "source": [
    "from typing import Any, Union, Literal\n",
    "\n",
    "def print_anything(x: Any) -> None:\n",
    "    print(x)\n",
    "\n",
    "def parse_num(s: str) -> Union[int, float]:\n",
    "    return int(s) if s.isdigit() else float(s)\n",
    "\n",
    "def set_mode(mode: Literal[\"r\", \"w\", \"a\"]) -> None:\n",
    "    print(f\"I open the file in mode {mode}\")"
   ]
  },
  {
   "cell_type": "markdown",
   "id": "7d884d0a",
   "metadata": {},
   "source": [
    "Hits for *args and **kwargs\n",
    "\n",
    "For *args and **kwargs you can type similarly to other parameters - just remember that:\n",
    "* *args = tuple of arguments (→ Tuple[type, ...])\n",
    "* **kwargs = dictionary (→ Dict[str, type])"
   ]
  },
  {
   "cell_type": "code",
   "execution_count": null,
   "id": "31957720",
   "metadata": {},
   "outputs": [],
   "source": [
    "from typing import Tuple, Dict\n",
    "\n",
    "def add_all(*args: int) -> int:\n",
    "    return sum(args)\n",
    "\n",
    "def print_info(**kwargs: str) -> None:\n",
    "    for key, value in kwargs.items():\n",
    "        print(f\"{key}: {value}\")"
   ]
  },
  {
   "cell_type": "markdown",
   "id": "5a6ed80a-c872-44a4-995d-eda925e06e8f",
   "metadata": {},
   "source": [
    "# Scope of validity\n",
    "\n",
    "* The priority of evaluation is governed by the LEGB rule. In Python, when the interpreter encounters a variable, it looks for it in this order:\n",
    "- L - Local\n",
    "- E - Enclosing\n",
    "- G - Global\n",
    "- B - Build-in\n",
    "\n"
   ]
  },
  {
   "cell_type": "code",
   "execution_count": null,
   "id": "beeef44d",
   "metadata": {},
   "outputs": [],
   "source": [
    "# Local\n",
    "def f():\n",
    "    x = 10  # Local\n",
    "    print(x)"
   ]
  },
  {
   "cell_type": "code",
   "execution_count": null,
   "id": "5615ead4",
   "metadata": {},
   "outputs": [],
   "source": [
    "# Enclosing\n",
    "def outer():\n",
    "    x = \"enclosing\"\n",
    "    def inner():\n",
    "        print(x)  # looking in the \"outer\" range\n",
    "    inner()\n",
    "\n",
    "outer()"
   ]
  },
  {
   "cell_type": "code",
   "execution_count": null,
   "id": "b5134ccb",
   "metadata": {},
   "outputs": [],
   "source": [
    "# Global\n",
    "x = \"global\"\n",
    "def f():\n",
    "    print(x)  # takes a global variable\n",
    "\n",
    "f()"
   ]
  },
  {
   "cell_type": "code",
   "execution_count": null,
   "id": "6789fcd3",
   "metadata": {},
   "outputs": [],
   "source": [
    "# Build-in\n",
    "def f():\n",
    "    print(len([1,2,3]))  # len is built-in function\n",
    "\n",
    "f()"
   ]
  },
  {
   "cell_type": "markdown",
   "id": "4aff5e61",
   "metadata": {},
   "source": [
    "# Explicit declarations global, nonlocal\n",
    "\n",
    "The **global** tells Python that we want to use a global variable (defined at the module level). Otherwise, a new local variable would be created on assignment.\n",
    "\n",
    "The **nonlocal** is used inside a nested function. It says: use the variable from the enclosing function. It is useful for working with closures."
   ]
  },
  {
   "cell_type": "code",
   "execution_count": null,
   "id": "b9ccfd8f",
   "metadata": {},
   "outputs": [],
   "source": [
    "x = 5  # global\n",
    "\n",
    "def f():\n",
    "    global x      # using global x\n",
    "    x = 10        # global x is changed\n",
    "    print(\"inner:\", x)\n",
    "\n",
    "f()\n",
    "print(\"outter:\", x)"
   ]
  },
  {
   "cell_type": "code",
   "execution_count": null,
   "id": "3c2af7eb",
   "metadata": {},
   "outputs": [],
   "source": [
    "def outer():\n",
    "    x = \"origin\"\n",
    "    def inner():\n",
    "        nonlocal x    # using variable from outer()\n",
    "        x = \"changed\"\n",
    "    inner()\n",
    "    print(x)\n",
    "\n",
    "outer()"
   ]
  },
  {
   "cell_type": "markdown",
   "id": "f2331804",
   "metadata": {},
   "source": [
    "# Exercise 1\n",
    "Create a function **quadratic_equation (a, b, c)** that returns the roots of a quadratic equation. If the equation has no real roots, it will return None."
   ]
  },
  {
   "cell_type": "code",
   "execution_count": null,
   "id": "ab9ccae1",
   "metadata": {},
   "outputs": [],
   "source": []
  },
  {
   "cell_type": "markdown",
   "id": "1af6629b",
   "metadata": {},
   "source": [
    "# Exercise 2\n",
    "Write a function **average(*numbers)** that accepts any number of numbers and returns their average."
   ]
  },
  {
   "cell_type": "code",
   "execution_count": null,
   "id": "22ef27c5",
   "metadata": {},
   "outputs": [],
   "source": [
    "# \n",
    "average(1, 2, 3, 4)"
   ]
  },
  {
   "cell_type": "markdown",
   "id": "f6a2e2d1",
   "metadata": {},
   "source": [
    "# Exercise 3\n",
    "Create a function **min_max_avg (*numbers)** that returns the minimum, maximum, and average of the given numbers. When creating the function, use hints on the types."
   ]
  },
  {
   "cell_type": "code",
   "execution_count": null,
   "id": "aee4c926",
   "metadata": {},
   "outputs": [],
   "source": [
    "#\n",
    "min, max, avg = min_max_avg(1, 2, 3, 4)"
   ]
  }
 ],
 "metadata": {
  "kernelspec": {
   "display_name": ".venv",
   "language": "python",
   "name": "python3"
  },
  "language_info": {
   "codemirror_mode": {
    "name": "ipython",
    "version": 3
   },
   "file_extension": ".py",
   "mimetype": "text/x-python",
   "name": "python",
   "nbconvert_exporter": "python",
   "pygments_lexer": "ipython3",
   "version": "3.9.13"
  }
 },
 "nbformat": 4,
 "nbformat_minor": 5
}
