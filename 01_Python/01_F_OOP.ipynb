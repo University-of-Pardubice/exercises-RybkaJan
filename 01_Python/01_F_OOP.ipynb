{
 "cells": [
  {
   "cell_type": "markdown",
   "id": "7395f303-c127-4ab8-9621-60b8e2da603a",
   "metadata": {},
   "source": [
    "# OOP in python\n",
    "Python is a class-oriented language, which means that classes and objects are the main building blocks.\n",
    "\n",
    "**Basic principles**\n",
    "* Class = template for creating objects\n",
    "* Object = a specific instance of a class\n",
    "* self = reference to the current instance (equivalent to this in other languages)\n",
    "* Everything is public - no private or protected, but the _name convention means \"internal\"\n",
    "* Inheritance - classes can inherit from other classes (including multiple classes)\n",
    "* Override - methods can be overridden in a descendant\n",
    "* All classes automatically inherit from the base class object"
   ]
  },
  {
   "cell_type": "markdown",
   "id": "6cf15bf1",
   "metadata": {},
   "source": [
    "## \\_\\_init\\_\\_ – class initializer (constructor)\n",
    "\n",
    "* Special method that is automatically called when the object is created.\n",
    "* It is used to set the initial state of the object, i.e. to assign values to its attributes.\n",
    "* The name must not be changed - it must always be \\_\\_init\\_\\_.\n",
    "* The first parameter is self, which is a reference to the instance currently being created.\n",
    "* If \\_\\_\\_init\\_\\_ is not in the class, Python will create the object with the default state and will not allow parameters to be passed at initialization."
   ]
  },
  {
   "cell_type": "code",
   "execution_count": null,
   "id": "d77d4fbd-42f4-4670-978c-6c3816c9a64f",
   "metadata": {
    "tags": []
   },
   "outputs": [],
   "source": [
    "from math import sqrt\n",
    "class Point:\n",
    "    \"\"\" Point in 2d \"\"\"\n",
    "    \n",
    "    def __init__(self, x, y):\n",
    "        # constructor\n",
    "        self.x = x\n",
    "        self.y = y\n",
    "        self._z = 3      # internal attribute, but it's just a convention, it's easy to get there\n",
    "        self.__w = 4     # private attribute, not to be used even in descendants, it is more difficult to get there via __dict__\n",
    "        \n",
    "    def distance (self, other):\n",
    "        # method\n",
    "        return sqrt((other.x - self.x) **2 + (other.y - self.y)**2)"
   ]
  },
  {
   "cell_type": "markdown",
   "id": "aedf0ffd",
   "metadata": {},
   "source": [
    "Creating an instance of points"
   ]
  },
  {
   "cell_type": "code",
   "execution_count": null,
   "id": "facd33ee-7959-42f0-8e4c-a007231a06ef",
   "metadata": {
    "tags": []
   },
   "outputs": [],
   "source": [
    "a = Point (1, 2)\n",
    "b = Point (4, 5)\n",
    "print (a.distance(b))   # a is inserted after self automatically"
   ]
  },
  {
   "cell_type": "markdown",
   "id": "859e9f42-0491-450a-a232-6a3577b5dec4",
   "metadata": {},
   "source": [
    "# Inheritance\n",
    "* Inheritance allows you to create a new class (called child/subclass) that takes over the properties and methods of another class (called parent/superclass).\n",
    "* It is used to reuse code and to organize classes hierarchically.\n",
    "* Python also supports multiple inheritance."
   ]
  },
  {
   "cell_type": "code",
   "execution_count": null,
   "id": "a6f5ae1c-f15f-465d-89bd-5bf0794ff9cf",
   "metadata": {
    "tags": []
   },
   "outputs": [],
   "source": [
    "class A:\n",
    "    def foo(self):\n",
    "        print (\"A.foo()\")\n",
    "        \n",
    "class B(A):\n",
    "    def foo(self):\n",
    "        A.foo(self)          # calling a method from the parent class. Alternatively, you can use super.foo(self)\n",
    "        print (\"B.foo()\")\n",
    "\n",
    "class C(A):\n",
    "    def foo(self):\n",
    "        print (\"C.foo()\")\n",
    "        \n",
    "class D(B, C):\n",
    "    def bar(self):\n",
    "        print (\"D.bar()\")        "
   ]
  },
  {
   "cell_type": "code",
   "execution_count": null,
   "id": "79ea6ace-e45d-4626-adb3-6a4fe227b4e5",
   "metadata": {
    "tags": []
   },
   "outputs": [],
   "source": [
    "b=B()\n",
    "b.foo()"
   ]
  },
  {
   "cell_type": "markdown",
   "id": "9be62876",
   "metadata": {},
   "source": [
    "The inheritance hierarchy can be written using \\_\\_base\\_\\_"
   ]
  },
  {
   "cell_type": "code",
   "execution_count": null,
   "id": "68ae60bc-16fa-40c4-b3ee-af3cb98b37ea",
   "metadata": {
    "tags": []
   },
   "outputs": [],
   "source": [
    "D.__bases__"
   ]
  },
  {
   "cell_type": "markdown",
   "id": "ba0b26bf",
   "metadata": {},
   "source": [
    "Python uses MRO (Method Resolution Order) - the order in which it looks for methods in multiple inheritance. It is implemented as a linearized list of inheritance hierarchy classes.\n",
    "\n",
    "A method is called from the class that is found first."
   ]
  },
  {
   "cell_type": "code",
   "execution_count": null,
   "id": "331aa6a4-cda7-44d5-8c90-cd2d7ee16903",
   "metadata": {
    "tags": []
   },
   "outputs": [],
   "source": [
    "d=D()\n",
    "print (d.foo())\n",
    "print (D.__mro__)"
   ]
  },
  {
   "cell_type": "markdown",
   "id": "4d202e26-6b11-4d4e-be2e-405a3fbcb08d",
   "metadata": {},
   "source": [
    "## Instance and class variables\n",
    "Python allows two main levels of variables in a class, instance and class\n",
    "\n",
    "* **Instance variables** belong to a specific object (instance). \n",
    "    * Each object has its own copy of these variables.\n",
    "    * They are defined inside the __init__ method using self.\n",
    "\n",
    "* **Class variables** belong to the class itself, they are shared by all instances.\n",
    "    * They are defined directly in the class outside of __init__.\n",
    "    * Access from instance: self.name (if the instance does not have the same attribute)\n",
    "    * Access from class: Class.name"
   ]
  },
  {
   "cell_type": "code",
   "execution_count": null,
   "id": "c978b1c4-4005-4b0a-80f8-e0d6d3823a5d",
   "metadata": {
    "tags": []
   },
   "outputs": [],
   "source": [
    "class E:\n",
    "    x = 1           # class variable\n",
    "    def __init__(self, y):\n",
    "        self.y=y    # instance variable"
   ]
  },
  {
   "cell_type": "code",
   "execution_count": null,
   "id": "31fad2c5-c228-4f37-8ab8-075699b0e65d",
   "metadata": {
    "tags": []
   },
   "outputs": [],
   "source": [
    "e1 = E(5)\n",
    "e2 = E(3)\n",
    "print (E.x, e1.x, e1.y)\n",
    "print (E.x, e2.x, e1.y)"
   ]
  },
  {
   "cell_type": "code",
   "execution_count": null,
   "id": "65eadd95-d1d5-41d9-9b74-0e22c7946266",
   "metadata": {
    "tags": []
   },
   "outputs": [],
   "source": [
    "e1.x=2\n",
    "print (E.x, e1.x, e1.y)\n",
    "print (E.x, e2.x, e1.y)"
   ]
  },
  {
   "cell_type": "code",
   "execution_count": null,
   "id": "3c6657c6-cb4e-4cec-a4f1-1416e3ac47f6",
   "metadata": {
    "tags": []
   },
   "outputs": [],
   "source": [
    "E.x=2\n",
    "print (E.x, e1.x, e1.y)\n",
    "print (E.x, e2.x, e1.y)"
   ]
  },
  {
   "cell_type": "markdown",
   "id": "9521e6f9-20f9-4175-9f29-8ea8fd018ddc",
   "metadata": {},
   "source": [
    "## Static and class methods\n",
    "There are special categories of methods in Python besides instance methods.\n",
    "\n",
    "* **Instance method** is a standard class method.\n",
    "    * The first parameter is always self, which is a reference to a specific instance.\n",
    "    * They can access both instance and class variables.\n",
    "\n",
    "* **Class method** (@classmethod)\n",
    "    * The first parameter is cls, which refers to the class, not the instance.\n",
    "    * They can only access class variables and other class methods.\n",
    "    * Decorator: @classmethod    \n",
    "\n",
    "* **Static method** (@staticmethod)\n",
    "    * Does not have an automatic self or cls parameter.\n",
    "    * Works like a regular function, but is part of a class.\n",
    "    * It does not have access to instance or class variables, but logically belongs to the class.\n",
    "    * Decorator: @staticmethod \n",
    "   "
   ]
  },
  {
   "cell_type": "code",
   "execution_count": null,
   "id": "023d8b56",
   "metadata": {},
   "outputs": [],
   "source": [
    "class Car:\n",
    "    number_of_wheel = 4  # class variable\n",
    "\n",
    "    def __init__(self, color):\n",
    "        self.color = color  # instance variable\n",
    "\n",
    "    def info(self):\n",
    "        print(f\"Car has {self.number_of_wheel} wheels and color is {self.color}\")\n",
    "\n",
    "    @classmethod\n",
    "    def info_wheels(cls):\n",
    "        print(f\"All cars has {cls.number_of_wheel} wheels\")        \n",
    "\n",
    "    @staticmethod\n",
    "    def avg_speed(distance, time):\n",
    "        return distance / time        \n",
    "\n",
    "a = Car(\"red\")\n",
    "a.info()  \n",
    "Car.info_wheels()\n",
    "print(Car.avg_speed(120, 2))"
   ]
  },
  {
   "cell_type": "markdown",
   "id": "1b26a51c-e04d-4867-a062-11407a5c7739",
   "metadata": {},
   "source": [
    "## Creating instances\n",
    "\n",
    "* \\_\\_new\\_\\_ - the method creates the instance itself.\n",
    "   * Called before \\_\\_\\_init\\_\\_\n",
    "   * The first parameter is cls, a reference to the class that will be instantiated.\n",
    "   * Typically used only in advanced patterns (e.g. Singleton).\n",
    "   * Returns a new instance of the object (return super().\\_\\_\\new\\_(cls)).\n",
    "* \\_\\_\\_init\\_\\_ - initialization method"
   ]
  },
  {
   "cell_type": "code",
   "execution_count": null,
   "id": "fa559c0e-f115-48f3-b67f-1ea969354bdd",
   "metadata": {
    "tags": []
   },
   "outputs": [],
   "source": [
    "class G:\n",
    "    def __new__ (cls, x):\n",
    "        print ('G.__new__()')\n",
    "        return object.__new__(cls)\n",
    "    \n",
    "    def __init__(self, x):\n",
    "        print ('G.__init__()')\n",
    "        self.x = x"
   ]
  },
  {
   "cell_type": "code",
   "execution_count": null,
   "id": "e38ef63f-3e2e-4a1e-aae1-f9193c87a7fd",
   "metadata": {
    "tags": []
   },
   "outputs": [],
   "source": [
    "g=G(1)"
   ]
  },
  {
   "cell_type": "markdown",
   "id": "2e38b681-7efa-415a-a8b6-408bfb18b102",
   "metadata": {
    "tags": []
   },
   "source": [
    "## Storage in memory\n",
    "In Python, all instance variables of an object are stored in an internal dictionary.\n",
    "\n",
    "* Each object has its own dictionary accessible via __dict__.\n",
    "* Key = attribute name, value = reference to the object (data value).\n",
    "* Very convenient from a programming point of view\n",
    "* But dictionaries take more memory\n",
    "* Each variable access needs a hash table lookup "
   ]
  },
  {
   "cell_type": "code",
   "execution_count": null,
   "id": "5a14d94e-2b42-4fac-8dbe-e0087b9bd15f",
   "metadata": {
    "tags": []
   },
   "outputs": [],
   "source": [
    "e1.__dict__"
   ]
  },
  {
   "cell_type": "code",
   "execution_count": null,
   "id": "7fb12ea4-4783-4589-9726-e373946f4e09",
   "metadata": {
    "tags": []
   },
   "outputs": [],
   "source": [
    "e1.z=\"abc\""
   ]
  },
  {
   "cell_type": "code",
   "execution_count": null,
   "id": "533cec63-aa79-49dc-bf62-65be133360a6",
   "metadata": {
    "tags": []
   },
   "outputs": [],
   "source": [
    "e1.__dict__"
   ]
  },
  {
   "cell_type": "markdown",
   "id": "f58c3b42-8ef3-44f0-bf1c-ae1389fe8890",
   "metadata": {},
   "source": [
    "## Optimization\n",
    "If we want to save memory for classes with a large number of instances, we can use __slots__:\n",
    "* An instance cannot have attributes other than those defined in slots.\n",
    "* In memory implemented in arrays, access via indexes\n",
    "* Less volume intensive.\n",
    "* We lose dynamism"
   ]
  },
  {
   "cell_type": "code",
   "execution_count": null,
   "id": "268bb9f0-f8b2-465a-8a9d-9fbce52764f3",
   "metadata": {
    "tags": []
   },
   "outputs": [],
   "source": [
    "class H:\n",
    "    __slots__ = ('x', 'y')\n",
    "    def __init__ (self, x, y):\n",
    "        self.x = x\n",
    "        self.y = y"
   ]
  },
  {
   "cell_type": "code",
   "execution_count": null,
   "id": "fc61433b-6d80-4ddb-91e2-ecf17bbb1d23",
   "metadata": {
    "tags": []
   },
   "outputs": [],
   "source": [
    "h=H(1, 4)"
   ]
  },
  {
   "cell_type": "code",
   "execution_count": null,
   "id": "dd0b4ba9-7c75-4480-97be-f7ce0e5ce4ac",
   "metadata": {
    "tags": []
   },
   "outputs": [],
   "source": [
    "# ends in an error\n",
    "h.z=3"
   ]
  },
  {
   "cell_type": "markdown",
   "id": "2d4f1611-5fbe-4922-8c3d-252d7a3247bd",
   "metadata": {},
   "source": [
    "## Special methods\n",
    "In Python, we have several ways to control access to object attributes and free resources.\n",
    "\n",
    "Python recommends direct access to attributes (object.attribute), but sometimes we need read or write control. The @property decorator and the complementary @<attribute>.setter are used for this purpose."
   ]
  },
  {
   "cell_type": "code",
   "execution_count": null,
   "id": "b61079d5",
   "metadata": {},
   "outputs": [],
   "source": [
    "class Person:\n",
    "    def __init__(self, name, age):\n",
    "        self._name = name      # underscore = convention \"private\" attribute\n",
    "        self._age = age\n",
    "\n",
    "    # getter\n",
    "    @property\n",
    "    def age(self):\n",
    "        return self._age\n",
    "\n",
    "    # setter\n",
    "    @age.setter\n",
    "    def age(self, value):\n",
    "        if value < 0:\n",
    "            raise ValueError(\"Age cannot be negative\")\n",
    "        self._age = value\n",
    "\n",
    "o = Person(\"Eva\", 25)\n",
    "print(o.age)\n",
    "o.age = 30\n",
    "print(o.age)\n",
    "o.age = -5"
   ]
  },
  {
   "cell_type": "markdown",
   "id": "5195d246",
   "metadata": {},
   "source": [
    "The special method \\_\\_\\_del\\_\\_ is called when an object is deleted and released by the garbage collector.\n",
    "\n",
    "It is used to terminate resources (files, sockets, connections, etc.)."
   ]
  },
  {
   "cell_type": "code",
   "execution_count": null,
   "id": "9f312c45",
   "metadata": {},
   "outputs": [],
   "source": [
    "class File:\n",
    "    def __init__(self, name):\n",
    "        self.name = name\n",
    "        self.f = open(name, \"w\")\n",
    "\n",
    "    def __del__(self):\n",
    "        print(f\"Closing file {self.name}\")\n",
    "        self.f.close()\n",
    "\n",
    "s = File(\"test.txt\")\n",
    "del s "
   ]
  },
  {
   "cell_type": "markdown",
   "id": "272ac94c",
   "metadata": {},
   "source": [
    "# Exercise 1\n",
    "Create an animal class with instance variables:\n",
    "    * name (str)\n",
    "    * age (int)\n",
    "\n",
    "Add an info() method that prints: Name: \\<name>, Age: \\<age>"
   ]
  },
  {
   "cell_type": "code",
   "execution_count": null,
   "id": "ad46a6b9",
   "metadata": {},
   "outputs": [],
   "source": [
    "# code"
   ]
  },
  {
   "cell_type": "code",
   "execution_count": null,
   "id": "09c452b9",
   "metadata": {},
   "outputs": [],
   "source": [
    "z = Animal(\"lion\", 5)\n",
    "z.info()"
   ]
  },
  {
   "cell_type": "markdown",
   "id": "800ea038",
   "metadata": {},
   "source": [
    "# Exercise 2\n",
    "Add the class variable number_animals = 0\n",
    "\n",
    "Each new instance of Animal increases number_animals by 1."
   ]
  },
  {
   "cell_type": "code",
   "execution_count": null,
   "id": "df12d492",
   "metadata": {},
   "outputs": [],
   "source": [
    "# code"
   ]
  },
  {
   "cell_type": "code",
   "execution_count": null,
   "id": "f816d1c2",
   "metadata": {},
   "outputs": [],
   "source": [
    "z1 = Animal(\"lion\", 3)\n",
    "z2 = Animal(\"tiger\", 4)\n",
    "print(Animal.number_animals)"
   ]
  },
  {
   "cell_type": "markdown",
   "id": "fb5c9a80",
   "metadata": {},
   "source": [
    "# Exercise 3\n",
    "Create a Bird class that inherits from Animal\n",
    "\n",
    "Add an instance variable **type** (e.g. \"Parrot\")\n",
    "\n",
    "Override the info() method to output: Name: \\<name\\>, Age: \\<age\\>, Type: \\<type\\>"
   ]
  },
  {
   "cell_type": "code",
   "execution_count": null,
   "id": "ac8a2579",
   "metadata": {},
   "outputs": [],
   "source": [
    "# code"
   ]
  },
  {
   "cell_type": "code",
   "execution_count": null,
   "id": "ff32f167",
   "metadata": {},
   "outputs": [],
   "source": [
    "z3 = Bird (\"bird\", 50, \"parrot\")"
   ]
  },
  {
   "cell_type": "markdown",
   "id": "816812a4",
   "metadata": {},
   "source": [
    "# Exercise 4\n",
    "Add a getter and setter to the Animal class of the _age attribute using @property and @setter.\n",
    "\n",
    "The setter should check that the age is not negative, otherwise it will raise a ValueError."
   ]
  },
  {
   "cell_type": "code",
   "execution_count": null,
   "id": "5f944d33",
   "metadata": {},
   "outputs": [],
   "source": [
    "#"
   ]
  },
  {
   "cell_type": "code",
   "execution_count": null,
   "id": "fea5c9fc",
   "metadata": {},
   "outputs": [],
   "source": [
    "z4 = Animal(\"Elephant\", 10)\n",
    "z4.age = -5 "
   ]
  },
  {
   "cell_type": "markdown",
   "id": "3736f924",
   "metadata": {},
   "source": [
    "# Exercise 5\n",
    "Add a method \\__\\_del\\_() to the Animal class that prints: Releasing animal \\<name\\>"
   ]
  },
  {
   "cell_type": "code",
   "execution_count": null,
   "id": "6ec0f553",
   "metadata": {},
   "outputs": [],
   "source": [
    "#"
   ]
  },
  {
   "cell_type": "code",
   "execution_count": null,
   "id": "dcd79b0b",
   "metadata": {},
   "outputs": [],
   "source": [
    "z5 = Animal (\"Cat\", 30)\n",
    "del z5"
   ]
  },
  {
   "cell_type": "markdown",
   "id": "811e7556",
   "metadata": {},
   "source": [
    "# Exercise 6\n",
    "\n",
    "Add a static method that calculates the average age of the list of animals.\n",
    "\n",
    "Add a class method that lists the number of all animals."
   ]
  },
  {
   "cell_type": "code",
   "execution_count": null,
   "id": "7e85008e",
   "metadata": {},
   "outputs": [],
   "source": [
    "# "
   ]
  }
 ],
 "metadata": {
  "kernelspec": {
   "display_name": ".venv",
   "language": "python",
   "name": "python3"
  },
  "language_info": {
   "codemirror_mode": {
    "name": "ipython",
    "version": 3
   },
   "file_extension": ".py",
   "mimetype": "text/x-python",
   "name": "python",
   "nbconvert_exporter": "python",
   "pygments_lexer": "ipython3",
   "version": "3.9.13"
  }
 },
 "nbformat": 4,
 "nbformat_minor": 5
}
