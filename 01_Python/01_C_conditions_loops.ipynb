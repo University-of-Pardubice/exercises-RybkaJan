{
 "cells": [
  {
   "cell_type": "markdown",
   "id": "1d0a74d5-5cb6-4289-8ed8-2411f8aa3da2",
   "metadata": {},
   "source": [
    "# Code blocks and indentation\n",
    "* Code blocks are used to group multiple statements, for example, in conditions, loops, functions, or class definitions.\n",
    "* Unlike other languages that use {}, begin...end, etc., Python uses indentation.\n",
    "* Incorrect indentation is one of the most common mistakes beginners make in Python\n",
    "\n",
    "## Indentation principles\n",
    "* To create a new block, indent the lines below the condition, loop or function.\n",
    "* The same number of spaces or tabs must be used on all lines in the block.\n",
    "* Mixing tabs and spaces, or incorrect indentation, will cause an error.\n",
    "* By default, 4 spaces are used per indentation."
   ]
  },
  {
   "cell_type": "code",
   "execution_count": null,
   "id": "477184d0-c5f0-4919-899a-1b2c88351813",
   "metadata": {
    "tags": []
   },
   "outputs": [],
   "source": [
    "a=10\n",
    "if (a == 1):\n",
    "    # begin block\n",
    "    print (\"A is 1\")\n",
    "    print (\"Next line of code\")\n",
    "    # end block\n",
    "elif (a==2):\n",
    "    # begin block\n",
    "    print (\"A is 2\")\n",
    "    print (\"Next line code\")\n",
    "    # end block\n",
    "else:\n",
    "    # begin block\n",
    "    print (\"A is not 1 nor 2\")\n",
    "    # end block"
   ]
  },
  {
   "cell_type": "markdown",
   "id": "d6ff8b51-7409-4620-9601-44ca3fd485a7",
   "metadata": {},
   "source": [
    "# Conditions\n",
    "* Conditions are used to decide which commands to execute.\n",
    "* Classical logical operators such as **and**, **or**, **not** can be used in conditions.\n",
    "* The terms may also be compound. They are then separated by parentheses.\n",
    "\n",
    "* The **match** command is equivalent to the switch command in other languages. Valid from version 3.10\n",
    "* The **in** operator to find out if the element is a list, etc.\n",
    "* The **is** operator compares whether the variables point to the same object."
   ]
  },
  {
   "cell_type": "code",
   "execution_count": null,
   "id": "42349f47",
   "metadata": {},
   "outputs": [],
   "source": [
    "x = 10\n",
    "y = 5\n",
    "\n",
    "if x > 0 and (y < 10 or y == 5):\n",
    "    print(\"The condition is fulfilled\")"
   ]
  },
  {
   "cell_type": "code",
   "execution_count": null,
   "id": "42b3e02e",
   "metadata": {},
   "outputs": [],
   "source": [
    "fruits = ['apple', 'banana', 'cherry']\n",
    "if 'banana' in fruits:\n",
    "    print(\"banana is in list\")"
   ]
  },
  {
   "cell_type": "code",
   "execution_count": null,
   "id": "e2156c47-eb3a-472b-8f65-23d8072ca725",
   "metadata": {
    "tags": []
   },
   "outputs": [],
   "source": [
    "# is not supported in python 3.9\n",
    "number = 1\n",
    "match (number):\n",
    "    case 1:\n",
    "        print (\"Number 1\")\n",
    "    case 2:\n",
    "        print (\"Number 2\")\n",
    "    case _:\n",
    "        print (\"A number other than 1 or 2\")"
   ]
  },
  {
   "cell_type": "markdown",
   "id": "0e4be5de-9907-4f55-9eb9-0cf4a1698460",
   "metadata": {},
   "source": [
    "# For loop\n",
    "The **for** loop is used to repeatedly execute statements for each element of a sequence (list, string, range, etc.).\n",
    "* The definition of for is followed by a colon.\n",
    "\n",
    "**range** generates a sequence of numbers, usually for an iteration:\n",
    "* if not specified starts with 0\n",
    "* ends with a number 1 less than the input parameter\n",
    "* range(stop)                       # 0, 1, 2, ..., stop-1\n",
    "* range(start, stop)                # start, start+1, ..., stop-1\n",
    "* range(start, stop, step)          "
   ]
  },
  {
   "cell_type": "code",
   "execution_count": null,
   "id": "9455e568-434e-4694-a940-ac691c7a35d5",
   "metadata": {
    "tags": []
   },
   "outputs": [],
   "source": [
    "for i in range(4):\n",
    "    print (i)"
   ]
  },
  {
   "cell_type": "code",
   "execution_count": null,
   "id": "4b9d77c7",
   "metadata": {},
   "outputs": [],
   "source": [
    "for i in range(2, 10, 2):\n",
    "    print(i)"
   ]
  },
  {
   "cell_type": "code",
   "execution_count": null,
   "id": "24ef8329",
   "metadata": {},
   "outputs": [],
   "source": [
    "for i in range(5, 0, -1):\n",
    "    print(i)"
   ]
  },
  {
   "cell_type": "code",
   "execution_count": null,
   "id": "e589262f-b2e7-4c3a-bc8f-2f8df1afeee3",
   "metadata": {
    "tags": []
   },
   "outputs": [],
   "source": [
    "for i in range (1, 5):\n",
    "    if (i % 2 != 0):\n",
    "        print (f\"Number {i} is odd\")\n",
    "    else:\n",
    "        print (f\"Number {i} is even\")"
   ]
  },
  {
   "cell_type": "markdown",
   "id": "cf0a8b15-6860-46e9-bb50-d816bece525d",
   "metadata": {},
   "source": [
    "# while loop\n",
    "The while loop repeats a block of statements until the condition is true (True)."
   ]
  },
  {
   "cell_type": "code",
   "execution_count": null,
   "id": "f88ef68f-9b17-41bd-8b9e-ca291791a6b2",
   "metadata": {
    "tags": []
   },
   "outputs": [],
   "source": [
    "i=1\n",
    "j=5\n",
    "while i < j:\n",
    "    print(i)\n",
    "    i += 1"
   ]
  },
  {
   "cell_type": "markdown",
   "id": "fc630c62-f5e4-40b3-a783-7713def565c3",
   "metadata": {},
   "source": [
    "# Break, continue and else statements in loops\n",
    "The **break** command will terminate the entire loop immediately, regardless of whether there are any more iterations left. It is typically used when searching for or terminating an infinite loop."
   ]
  },
  {
   "cell_type": "code",
   "execution_count": null,
   "id": "4695bb35",
   "metadata": {},
   "outputs": [],
   "source": [
    "for i in range(5):\n",
    "    if i == 3:\n",
    "        break\n",
    "    print(i)"
   ]
  },
  {
   "cell_type": "markdown",
   "id": "8b4d391f",
   "metadata": {},
   "source": [
    "The **continue** command causes the current iteration to end. The rest of the loop body block is not executed, but the loop continues with the next iteration. "
   ]
  },
  {
   "cell_type": "code",
   "execution_count": null,
   "id": "49040b1a",
   "metadata": {},
   "outputs": [],
   "source": [
    "for i in range(5):\n",
    "    if i == 2:\n",
    "        continue\n",
    "    print(i)"
   ]
  },
  {
   "cell_type": "code",
   "execution_count": null,
   "id": "87ff3f8c-a5e1-4f73-a369-d9d4ced04b0c",
   "metadata": {
    "tags": []
   },
   "outputs": [],
   "source": [
    "for i in range(1000):\n",
    "    if i % 3 == 0:\n",
    "        print(f'{i} is divisible by 3')\n",
    "        continue\n",
    "\n",
    "    if i > 10:\n",
    "        print(f'{i} > 10, therefore the end')\n",
    "        break\n",
    "        \n",
    "    print(i)"
   ]
  },
  {
   "cell_type": "markdown",
   "id": "012feee6-1ec5-4aaf-af5f-cc698f78a22f",
   "metadata": {},
   "source": [
    "The **pass** command means do nothing. It is often used in prepared condition branches, functions , ... that we will implement later, but we want the program to be valid. \n",
    "\n",
    "The **break** command is often used if what was searched for was found during the loop. \n",
    "\n",
    "The **else** command is thus used in cases where nothing is found. That is, when the loop was not terminated by break. \n"
   ]
  },
  {
   "cell_type": "code",
   "execution_count": null,
   "id": "e4fe13c7-31bc-4691-a857-64e5434d55be",
   "metadata": {
    "tags": []
   },
   "outputs": [],
   "source": [
    "numbers = [1, 2, 3 ,4, 5]\n",
    "for i in numbers:\n",
    "    if i == 100:\n",
    "        print('I found 100')\n",
    "        break\n",
    "    else:\n",
    "        pass\n",
    "else:\n",
    "     print('100 not found')"
   ]
  },
  {
   "cell_type": "markdown",
   "id": "3e7eeebe-1428-4360-a340-5a3e6ec123e6",
   "metadata": {},
   "source": [
    "# Assert\n",
    "* assert is used to check if the condition is true while the program is running.\n",
    "* If the condition is not met, Python raises AssertionError.\n",
    "* Typically used for checking assumptions in code (debugging, tests)."
   ]
  },
  {
   "cell_type": "code",
   "execution_count": null,
   "id": "5415142d-d106-4771-9dfd-cae72e139ee2",
   "metadata": {
    "tags": []
   },
   "outputs": [],
   "source": [
    "x = \"hello\"\n",
    "\n",
    "# if the condition returns True, then nothing happens:\n",
    "assert x == \"hello\"\n",
    "\n",
    "# if the condition returns False, an AssertionError is raised\n",
    "assert x == \"goodbye\""
   ]
  },
  {
   "cell_type": "markdown",
   "id": "227c42f6",
   "metadata": {},
   "source": [
    "assert is often used in unit tests or to check input parameters of functions.\n",
    "\n",
    "If you run Python with the -O (optimize) option, assert statements are ignored."
   ]
  },
  {
   "cell_type": "markdown",
   "id": "e52d85ba",
   "metadata": {},
   "source": [
    "# Exercise 1\n",
    "Write a program that:\n",
    "* Asks the user for the number n.\n",
    "* Using a for loop, calculate the sum of all numbers from 1 to n.\n",
    "* Print the result."
   ]
  },
  {
   "cell_type": "code",
   "execution_count": null,
   "id": "72fd999f",
   "metadata": {},
   "outputs": [],
   "source": []
  },
  {
   "cell_type": "markdown",
   "id": "9f50a619",
   "metadata": {},
   "source": [
    "# Exercise 2\n",
    "Write a program that:\n",
    "* Asks the user for the number n.\n",
    "* Use a while loop to count how many numbers from 1 to n are even.\n",
    "* Print the result."
   ]
  },
  {
   "cell_type": "code",
   "execution_count": null,
   "id": "371968fc",
   "metadata": {},
   "outputs": [],
   "source": []
  },
  {
   "cell_type": "markdown",
   "id": "4997db02",
   "metadata": {},
   "source": [
    "# Exercise 3\n",
    "Write a program that:\n",
    "* Asks the user for a number.\n",
    "* Uses assert to verify that the number is positive.\n",
    "* If the number is positive, it prints the message \"The number is valid\"."
   ]
  },
  {
   "cell_type": "code",
   "execution_count": null,
   "id": "e08f1614",
   "metadata": {},
   "outputs": [],
   "source": []
  }
 ],
 "metadata": {
  "kernelspec": {
   "display_name": ".venv",
   "language": "python",
   "name": "python3"
  },
  "language_info": {
   "codemirror_mode": {
    "name": "ipython",
    "version": 3
   },
   "file_extension": ".py",
   "mimetype": "text/x-python",
   "name": "python",
   "nbconvert_exporter": "python",
   "pygments_lexer": "ipython3",
   "version": "3.9.13"
  }
 },
 "nbformat": 4,
 "nbformat_minor": 5
}
