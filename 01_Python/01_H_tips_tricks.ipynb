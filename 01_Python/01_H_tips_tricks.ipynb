{
 "cells": [
  {
   "cell_type": "markdown",
   "id": "f34f275b-91f8-4bd4-901b-aae8fe12435d",
   "metadata": {},
   "source": [
    "# Language idioms\n",
    "In Python, there are recommended ways of writing that are clear, concise, and efficient. This is called Pythonic.\n",
    "\n",
    "The opposite is Unpythonic - notation that is inefficient, unreadable, or reminiscent of other languages (e.g. C, Java).\n",
    "\n",
    "The main ideas of python can be written out by importing this"
   ]
  },
  {
   "cell_type": "code",
   "execution_count": null,
   "id": "159130aa-905d-4167-818e-3aa862dade7d",
   "metadata": {
    "tags": []
   },
   "outputs": [],
   "source": [
    "import this"
   ]
  },
  {
   "cell_type": "markdown",
   "id": "743ad564",
   "metadata": {},
   "source": [
    "## Browsing the list"
   ]
  },
  {
   "cell_type": "code",
   "execution_count": null,
   "id": "a8cceb35",
   "metadata": {},
   "outputs": [],
   "source": [
    "# ugly\n",
    "i = 0\n",
    "items=(1, 2, 3)\n",
    "while i < len(items):\n",
    "    print (items[i])\n",
    "    i +=1"
   ]
  },
  {
   "cell_type": "code",
   "execution_count": null,
   "id": "8fa77e46-e8ee-4a94-b439-326ee4d77152",
   "metadata": {},
   "outputs": [],
   "source": [
    "# Beautiful \n",
    "for item in items:\n",
    "    print (item)"
   ]
  },
  {
   "cell_type": "markdown",
   "id": "d887ebba",
   "metadata": {},
   "source": [
    "## Check list"
   ]
  },
  {
   "cell_type": "code",
   "execution_count": null,
   "id": "5641de81",
   "metadata": {},
   "outputs": [],
   "source": [
    "# ugly\n",
    "if len(items) != 0:\n",
    "    print(\"The list is not empty\")"
   ]
  },
  {
   "cell_type": "code",
   "execution_count": null,
   "id": "f10e6b24",
   "metadata": {},
   "outputs": [],
   "source": [
    "# Beautiful\n",
    "if items:\n",
    "    print(\"The list is not empty\")"
   ]
  },
  {
   "cell_type": "markdown",
   "id": "e17d5009",
   "metadata": {},
   "source": [
    "# Conditional value assignment"
   ]
  },
  {
   "cell_type": "code",
   "execution_count": null,
   "id": "6346d870",
   "metadata": {},
   "outputs": [],
   "source": [
    "# ugly\n",
    "x = 2\n",
    "if x > 0:\n",
    "    char = \"+\"\n",
    "else:\n",
    "    char = \"-\""
   ]
  },
  {
   "cell_type": "code",
   "execution_count": null,
   "id": "545613a6",
   "metadata": {},
   "outputs": [],
   "source": [
    "# Beautiful\n",
    "char = \"+\" if x > 0 else \"-\""
   ]
  },
  {
   "cell_type": "markdown",
   "id": "905992c7-8c16-4c7a-b901-40162413ba81",
   "metadata": {},
   "source": [
    "# Anonymous, lambda function\n",
    "* Lambda is a way to create a small function without a name.\n",
    "* It is mainly used for simple expressions and as an argument to other functions.\n",
    "* Syntax: lambda parameters: expression\n",
    "    * parameters → function inputs (0 or more)\n",
    "    * expression → value returned by the function"
   ]
  },
  {
   "cell_type": "code",
   "execution_count": null,
   "id": "e599956e",
   "metadata": {},
   "outputs": [],
   "source": [
    "# ugly\n",
    "def double(x):\n",
    "    return x * 2\n",
    "\n",
    "double(5)"
   ]
  },
  {
   "cell_type": "code",
   "execution_count": null,
   "id": "7f44cf6b",
   "metadata": {},
   "outputs": [],
   "source": [
    "# Beautiful\n",
    "double_lambda = lambda x: x * 2\n",
    "double_lambda(20)"
   ]
  },
  {
   "cell_type": "markdown",
   "id": "b2a98c75",
   "metadata": {},
   "source": [
    "Lambda is then used with lists with functions map, filter, sorted."
   ]
  },
  {
   "cell_type": "code",
   "execution_count": null,
   "id": "2e841f0f",
   "metadata": {},
   "outputs": [],
   "source": [
    "numbers = [1, 2, 3, 4]\n",
    "twice = list(map(lambda x: x*2, numbers))\n",
    "print(twice)"
   ]
  },
  {
   "cell_type": "code",
   "execution_count": null,
   "id": "cfebce66",
   "metadata": {},
   "outputs": [],
   "source": [
    "numbers = [1, 2, 3, 4]\n",
    "even = list(filter(lambda x: x % 2 == 0, numbers))\n",
    "print(even) "
   ]
  },
  {
   "cell_type": "code",
   "execution_count": null,
   "id": "cdd24b2e",
   "metadata": {},
   "outputs": [],
   "source": [
    "words = [\"abc\", \"a\", \"abcd\", \"e\"]\n",
    "s = sorted(words, key=lambda x: len(x))\n",
    "print(f\"Sorted by length {s}\")  "
   ]
  },
  {
   "cell_type": "markdown",
   "id": "2c7ab901-1e21-4e56-80b4-e2cb6e48058a",
   "metadata": {},
   "source": [
    "# list/set/dict comprehension\n",
    "* mathematical operation can be performed on the list\n",
    "* for each x in the list, if x is divisible by 2, calculate its square root"
   ]
  },
  {
   "cell_type": "code",
   "execution_count": null,
   "id": "17273cfd-e85e-48fd-b769-d9a27794a275",
   "metadata": {
    "tags": []
   },
   "outputs": [],
   "source": [
    "list = [1, 2, 3, 4, 5]\n",
    "square = [x ** 2 for x in list if x % 2 == 0]\n",
    "square"
   ]
  },
  {
   "cell_type": "markdown",
   "id": "7d98c7ba-a6da-4863-93bd-c3c68c656573",
   "metadata": {},
   "source": [
    "# Chain comparision"
   ]
  },
  {
   "cell_type": "code",
   "execution_count": null,
   "id": "fa510726",
   "metadata": {},
   "outputs": [],
   "source": [
    "# ugly\n",
    "x=4\n",
    "if 1 < x and x < 5:\n",
    "    print (\"x is beetwen 1 and 5\")"
   ]
  },
  {
   "cell_type": "code",
   "execution_count": null,
   "id": "e5770f5d-6031-4e9a-a6e2-d5f5fed72ee0",
   "metadata": {
    "tags": []
   },
   "outputs": [],
   "source": [
    "# Beautiful\n",
    "x=4\n",
    "if 1 < x < 5:\n",
    "    print (\"x is beetwen 1 and 5\")"
   ]
  },
  {
   "cell_type": "markdown",
   "id": "2810b79b-a04c-4498-a956-58bdafde1300",
   "metadata": {},
   "source": [
    "# Reading blocks from a file\n",
    ":= loop through fixed length block assignment return expression"
   ]
  },
  {
   "cell_type": "code",
   "execution_count": null,
   "id": "11301412-e2b0-4cf2-9bd1-db498cc131a2",
   "metadata": {},
   "outputs": [],
   "source": [
    "while block := f.read(256) != '':\n",
    "       process(block)"
   ]
  },
  {
   "cell_type": "markdown",
   "id": "20fffa0c-2f6a-402f-8b0d-82453abdd37f",
   "metadata": {},
   "source": [
    "# Cache function results (memoization)\n",
    "Sometimes a function calls itself or handles complex calculations.\n",
    "\n",
    "To avoid processing the same input multiple times, we can cache the results."
   ]
  },
  {
   "cell_type": "code",
   "execution_count": null,
   "id": "3ba59512-b4ee-4259-ac23-35719cf5ecf7",
   "metadata": {
    "tags": []
   },
   "outputs": [],
   "source": [
    "def fib(n: int) -> int:\n",
    "    if n <= 1:\n",
    "        return n\n",
    "    else:\n",
    "        return fib (n - 1) + fib (n - 2)"
   ]
  },
  {
   "cell_type": "code",
   "execution_count": null,
   "id": "a6bbd407-2f96-49b7-ae31-a59f92c9b423",
   "metadata": {
    "tags": []
   },
   "outputs": [],
   "source": [
    "for i in range (0, 40):\n",
    "    print (f'{i}: {fib(i)}')"
   ]
  },
  {
   "cell_type": "markdown",
   "id": "448516a5",
   "metadata": {},
   "source": [
    "Python has a built-in decorator @functools.lru_cache:\n",
    "\n",
    "LRU = Least Recently Used (removes least used items when the cache reaches a limit)\n",
    "\n",
    "Allows you to automatically cache results according to function parameters."
   ]
  },
  {
   "cell_type": "code",
   "execution_count": null,
   "id": "3335fd7f-a273-4a61-8ba0-5858d896b882",
   "metadata": {
    "tags": []
   },
   "outputs": [],
   "source": [
    "from functools import lru_cache\n",
    "@lru_cache\n",
    "def fib(n: int) -> int:\n",
    "    if n <= 1:\n",
    "        return n\n",
    "    else:\n",
    "        return fib (n - 1) + fib (n - 2)"
   ]
  },
  {
   "cell_type": "code",
   "execution_count": null,
   "id": "ab5f3fe6-a253-45a2-883b-e07d3294a086",
   "metadata": {
    "tags": []
   },
   "outputs": [],
   "source": [
    "for i in range (0, 40):\n",
    "    print (f'{i}: {fib(i)}')"
   ]
  },
  {
   "cell_type": "markdown",
   "id": "4462cb3d-0056-44c2-8261-47f13a3128e5",
   "metadata": {},
   "source": [
    "# help() function\n",
    "Lists the syntax of a python command."
   ]
  },
  {
   "cell_type": "code",
   "execution_count": null,
   "id": "87cf8e54",
   "metadata": {},
   "outputs": [],
   "source": [
    "help(print)"
   ]
  },
  {
   "cell_type": "markdown",
   "id": "1d724055",
   "metadata": {},
   "source": [
    "If you use the documentation string for functions, you can also write help for your own functions."
   ]
  },
  {
   "cell_type": "code",
   "execution_count": null,
   "id": "2233e1eb",
   "metadata": {},
   "outputs": [],
   "source": [
    "def my_func(a : int, b:int )-> int:\n",
    "    \"\"\" Addings two numbers\n",
    "    a: int\n",
    "    b: int\n",
    "    \n",
    "    return int\n",
    "    \"\"\"\n",
    "    return (a+b)"
   ]
  },
  {
   "cell_type": "code",
   "execution_count": null,
   "id": "8a60580d",
   "metadata": {},
   "outputs": [],
   "source": [
    "my_func(1, 3)"
   ]
  },
  {
   "cell_type": "code",
   "execution_count": null,
   "id": "1f9e6e65",
   "metadata": {},
   "outputs": [],
   "source": [
    "help(my_func)"
   ]
  }
 ],
 "metadata": {
  "kernelspec": {
   "display_name": ".venv",
   "language": "python",
   "name": "python3"
  },
  "language_info": {
   "codemirror_mode": {
    "name": "ipython",
    "version": 3
   },
   "file_extension": ".py",
   "mimetype": "text/x-python",
   "name": "python",
   "nbconvert_exporter": "python",
   "pygments_lexer": "ipython3",
   "version": "3.9.13"
  }
 },
 "nbformat": 4,
 "nbformat_minor": 5
}
