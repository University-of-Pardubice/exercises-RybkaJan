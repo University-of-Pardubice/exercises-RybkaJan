{
 "cells": [
  {
   "cell_type": "markdown",
   "id": "83bf1cf3-5ba0-4337-8fb6-8e42eec70e44",
   "metadata": {},
   "source": [
    "# Decorators\n",
    "* Decorators are functions that modify the behavior of another function or method.\n",
    "* They are used to add functionality without changing the original code.\n",
    "* Useful for: logging, timekeeping, privilege checking, caching, input validation."
   ]
  },
  {
   "cell_type": "code",
   "execution_count": 1,
   "id": "5bf61c7e-79db-4cbe-bf2f-6a3cdb562a77",
   "metadata": {
    "tags": []
   },
   "outputs": [],
   "source": [
    "def my_decorator(func):\n",
    "    def wrapper():\n",
    "        print(f\"Before function {func.__name__}\")\n",
    "        func()\n",
    "        print(\"After function\")\n",
    "    return wrapper"
   ]
  },
  {
   "cell_type": "code",
   "execution_count": 2,
   "id": "d698c9d7-6109-4da4-ada5-8d8c14356c71",
   "metadata": {
    "tags": []
   },
   "outputs": [],
   "source": [
    "@my_decorator\n",
    "def do_this():\n",
    "    print(\"Doing this\")"
   ]
  },
  {
   "cell_type": "code",
   "execution_count": 3,
   "id": "a5d7c939-f589-4bbb-a67f-d0a1cf6aa5ec",
   "metadata": {
    "tags": []
   },
   "outputs": [],
   "source": [
    "@my_decorator\n",
    "def do_that():\n",
    "    print(\"Doing that\")"
   ]
  },
  {
   "cell_type": "code",
   "execution_count": 4,
   "id": "aa24ba1b-0b35-4c08-8352-38676df62673",
   "metadata": {
    "tags": []
   },
   "outputs": [
    {
     "name": "stdout",
     "output_type": "stream",
     "text": [
      "Before function do_this\n",
      "Doing this\n",
      "After function\n"
     ]
    }
   ],
   "source": [
    "do_this()"
   ]
  },
  {
   "cell_type": "code",
   "execution_count": 5,
   "id": "464dc586-4d93-421e-a6d0-5f6f10000232",
   "metadata": {
    "tags": []
   },
   "outputs": [
    {
     "name": "stdout",
     "output_type": "stream",
     "text": [
      "Before function do_that\n",
      "Doing that\n",
      "After function\n"
     ]
    }
   ],
   "source": [
    "do_that()"
   ]
  }
 ],
 "metadata": {
  "kernelspec": {
   "display_name": ".venv",
   "language": "python",
   "name": "python3"
  },
  "language_info": {
   "codemirror_mode": {
    "name": "ipython",
    "version": 3
   },
   "file_extension": ".py",
   "mimetype": "text/x-python",
   "name": "python",
   "nbconvert_exporter": "python",
   "pygments_lexer": "ipython3",
   "version": "3.9.13"
  }
 },
 "nbformat": 4,
 "nbformat_minor": 5
}
