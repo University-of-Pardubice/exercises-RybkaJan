{
 "cells": [
  {
   "cell_type": "markdown",
   "id": "33b80558-a936-48f2-9f6b-0f789efa1dd6",
   "metadata": {},
   "source": [
    "# Pandas Library\n",
    "\n",
    "The pandas library is used for working with data in the form of tables, time series or datasets. Loading and saving data from different sources (csv, xlsx, sql database ...).\n",
    "\n",
    "Provides highly optimized data structures for data analysis.\n",
    "\n",
    "We will use it for data exploration and data modification (ETL process).\n",
    "\n",
    "Pandas uses numpy library in the background to work with multidimensional data. We'll look at that later.\n",
    "\n",
    "Installation using pip: **pip install pandas**\n"
   ]
  },
  {
   "cell_type": "code",
   "execution_count": null,
   "id": "80a1a397-3d41-4b9e-bcc1-6026805c2694",
   "metadata": {
    "tags": []
   },
   "outputs": [],
   "source": [
    "import pandas as pd"
   ]
  },
  {
   "cell_type": "markdown",
   "id": "4e03612c-5673-45c6-b032-ad2f58ce564f",
   "metadata": {},
   "source": [
    "## Loading data from CSV"
   ]
  },
  {
   "cell_type": "code",
   "execution_count": null,
   "id": "f826fd50-63ea-466d-80f5-4f23e0ca8bc5",
   "metadata": {
    "tags": []
   },
   "outputs": [],
   "source": [
    "salary = pd.read_csv (\"..\\\\dataset\\\\salary_dataset.csv\")"
   ]
  },
  {
   "cell_type": "markdown",
   "id": "787ee6f2",
   "metadata": {},
   "source": [
    "Data display"
   ]
  },
  {
   "cell_type": "code",
   "execution_count": null,
   "id": "d426eb6b-9ddd-4650-b939-46314bcb549b",
   "metadata": {
    "tags": []
   },
   "outputs": [],
   "source": [
    "salary"
   ]
  },
  {
   "cell_type": "markdown",
   "id": "f008e2f2-5c52-4ad4-a80f-1aa780e255c3",
   "metadata": {
    "tags": []
   },
   "source": [
    "## Reading data from excel\n",
    "For this functionality you need to install the openpyxl library: **pip install openpyxl**"
   ]
  },
  {
   "cell_type": "code",
   "execution_count": null,
   "id": "c054f433-5850-45b1-b373-032edcfc2174",
   "metadata": {
    "tags": []
   },
   "outputs": [],
   "source": [
    "customers = pd.read_excel (\"..\\\\dataset\\\\mall_customers.xlsx\")"
   ]
  },
  {
   "cell_type": "markdown",
   "id": "0a9993d5",
   "metadata": {},
   "source": [
    "Displaying part of the data"
   ]
  },
  {
   "cell_type": "code",
   "execution_count": null,
   "id": "60ec9b83-4dd8-402a-b905-7742a90162da",
   "metadata": {
    "tags": []
   },
   "outputs": [],
   "source": [
    "customers"
   ]
  },
  {
   "cell_type": "markdown",
   "id": "9d5011e8-7612-4646-9cc1-f180a3de9bd7",
   "metadata": {
    "tags": []
   },
   "source": [
    "## Reading data from Sqlite3 database using SQL query"
   ]
  },
  {
   "cell_type": "code",
   "execution_count": null,
   "id": "c8cb78df-a37f-4843-acdb-d5296014f30d",
   "metadata": {
    "tags": []
   },
   "outputs": [],
   "source": [
    "import sqlite3\n",
    "cur = sqlite3.connect (\"..\\\\dataset\\\\database.db\")\n",
    "points = pd.read_sql_query (\"SELECT * FROM points\", cur)\n",
    "points"
   ]
  },
  {
   "cell_type": "markdown",
   "id": "109ac80c-9331-4068-919d-08ad36f736b9",
   "metadata": {},
   "source": [
    "## Change data format and export\n",
    "Sometimes it can be useful to read structured data in one format and want to convert it to another format.\n",
    "\n",
    "For example, poitns was read from sqlite3 and we need to work with it in JSON."
   ]
  },
  {
   "cell_type": "code",
   "execution_count": null,
   "id": "fb90f296-f221-4f23-89b3-560fdd3eb01f",
   "metadata": {
    "tags": []
   },
   "outputs": [],
   "source": [
    "points.to_json()"
   ]
  },
  {
   "cell_type": "markdown",
   "id": "7559b0b0",
   "metadata": {},
   "source": [
    "Or save them to a csv file."
   ]
  },
  {
   "cell_type": "code",
   "execution_count": null,
   "id": "a38fcea4-84e6-4fc5-9687-b4a929447743",
   "metadata": {
    "tags": []
   },
   "outputs": [],
   "source": [
    "points.to_csv(\"..\\\\dataset\\\\database.csv\")"
   ]
  },
  {
   "cell_type": "markdown",
   "id": "719ddd47",
   "metadata": {},
   "source": [
    "If we want to put them into XML, we need to have the lxml library installed: **pip install lxml**"
   ]
  },
  {
   "cell_type": "code",
   "execution_count": null,
   "id": "67042b38-53c3-4081-84d3-7651df8a74b8",
   "metadata": {
    "tags": []
   },
   "outputs": [],
   "source": [
    "points.to_xml()"
   ]
  },
  {
   "cell_type": "markdown",
   "id": "bf727c7f-4231-4223-832f-e7866670b564",
   "metadata": {},
   "source": [
    "## Structure of read data\n",
    "Pandas returns the DataFrame data type when it is read. \n",
    "\n",
    "DataFrame is the main object of pandas, it resembles an Excel table or SQL table.\n",
    "* Each column can have a different data type.\n",
    "* Each row has an index that can be customized.\n",
    "\n",
    "A DataFrame consists of\n",
    "- Series - column of data \n",
    "- columns - a list of columns of type Index. Column names can be edited\n",
    "- index - table rows"
   ]
  },
  {
   "cell_type": "code",
   "execution_count": null,
   "id": "a0cb1f4b-7def-4f2e-865b-30499df53e5f",
   "metadata": {
    "tags": []
   },
   "outputs": [],
   "source": [
    "type(points)"
   ]
  },
  {
   "cell_type": "markdown",
   "id": "e970af0f",
   "metadata": {},
   "source": [
    "We can list the dataset structure using info."
   ]
  },
  {
   "cell_type": "code",
   "execution_count": null,
   "id": "60a0a5d1-5083-4a68-87af-f323f247ae2d",
   "metadata": {
    "tags": []
   },
   "outputs": [],
   "source": [
    "points.info()"
   ]
  },
  {
   "cell_type": "markdown",
   "id": "4c5ca975-be1b-4582-bc12-7072ca492ee6",
   "metadata": {},
   "source": [
    "### Series\n",
    "The values are stored using the numpy library. We will use it later.\n",
    "\n",
    "We can access the column by its name and it can be seen that it is of type Series."
   ]
  },
  {
   "cell_type": "code",
   "execution_count": null,
   "id": "6df1a514-111e-49ba-82c7-bcc6bfc1222f",
   "metadata": {
    "tags": []
   },
   "outputs": [],
   "source": [
    "points[\"NAME\"]"
   ]
  },
  {
   "cell_type": "markdown",
   "id": "0bbb7b91",
   "metadata": {},
   "source": [
    "It is also possible to select subsets of columns. A subset is defined as a list []"
   ]
  },
  {
   "cell_type": "code",
   "execution_count": null,
   "id": "daa1ac16",
   "metadata": {},
   "outputs": [],
   "source": [
    "points[[\"NAME\", \"CATEGORY\"]]"
   ]
  },
  {
   "cell_type": "code",
   "execution_count": null,
   "id": "1be23745-7629-4f57-b276-f0b6db0d5a86",
   "metadata": {
    "tags": []
   },
   "outputs": [],
   "source": [
    "type(points[\"NAME\"])"
   ]
  },
  {
   "cell_type": "markdown",
   "id": "e8e0e202-f065-46b1-9e1c-7f70331a97a2",
   "metadata": {},
   "source": [
    "### Columns\n",
    "columns is a DataFrame attribute that contains a list of all column names."
   ]
  },
  {
   "cell_type": "code",
   "execution_count": null,
   "id": "497f8044-eb2a-48b0-88dc-960f42be82e8",
   "metadata": {
    "tags": []
   },
   "outputs": [],
   "source": [
    "points.columns"
   ]
  },
  {
   "cell_type": "code",
   "execution_count": null,
   "id": "1cf5087f-a9e1-43dc-bb72-2b55094a7dcc",
   "metadata": {
    "tags": []
   },
   "outputs": [],
   "source": [
    "type(points.columns)"
   ]
  },
  {
   "cell_type": "markdown",
   "id": "950909eb",
   "metadata": {},
   "source": [
    "Columns can be renamed. Renaming is done by editing the dictionary entry\n",
    "* inplace = False, the column is renamed within the output\n",
    "* inplace = True, rename within the dataset installation"
   ]
  },
  {
   "cell_type": "code",
   "execution_count": null,
   "id": "c2a72ef0-e313-4458-a8d3-f8a5903c38a5",
   "metadata": {
    "tags": []
   },
   "outputs": [],
   "source": [
    "points.rename(columns={\"CATEGORY\":\"Category\"})"
   ]
  },
  {
   "cell_type": "code",
   "execution_count": null,
   "id": "0b9578b2-0065-49f6-bacb-d0d65d4cb9e2",
   "metadata": {
    "tags": []
   },
   "outputs": [],
   "source": [
    "points.columns"
   ]
  },
  {
   "cell_type": "markdown",
   "id": "488cb82c",
   "metadata": {},
   "source": [
    "So if we want to rename a column permanently, we need to use inplace=True"
   ]
  },
  {
   "cell_type": "code",
   "execution_count": null,
   "id": "9924abbe-9471-4dee-b52d-d2301e72a8e0",
   "metadata": {
    "tags": []
   },
   "outputs": [],
   "source": [
    "points.rename(columns={\"CATEGORY\":\"Category\"}, inplace=True)"
   ]
  },
  {
   "cell_type": "code",
   "execution_count": null,
   "id": "b7fa8bdc-7a1a-4ad8-b1b9-afd6ff8fbf68",
   "metadata": {
    "tags": []
   },
   "outputs": [],
   "source": [
    "points.columns"
   ]
  },
  {
   "cell_type": "markdown",
   "id": "cd3c84ca-301f-4dec-996e-3e4cb7a8fc92",
   "metadata": {},
   "source": [
    "### Index\n",
    "In pandas, Index is a basic object that represents an index of rows or columns in a DataFrame or Series.\n",
    "\n",
    "Each DataFrame has a row index (df.index) and a column index (df.columns)\n",
    "\n",
    "Both are instances of the pandas.core.indexes.base.Index class (or its subclasses, such as RangeIndex)"
   ]
  },
  {
   "cell_type": "code",
   "execution_count": null,
   "id": "099502c1-3df0-4d2a-b0aa-585b2e2b5aca",
   "metadata": {
    "tags": []
   },
   "outputs": [],
   "source": [
    "points.index"
   ]
  },
  {
   "cell_type": "markdown",
   "id": "24770587",
   "metadata": {},
   "source": [
    "Data are indexed according to an internal index starting from 0."
   ]
  },
  {
   "cell_type": "code",
   "execution_count": null,
   "id": "a6dc51c5-af89-48b6-9efb-80540089aca1",
   "metadata": {
    "tags": []
   },
   "outputs": [],
   "source": [
    "points"
   ]
  },
  {
   "cell_type": "markdown",
   "id": "80cfe05e",
   "metadata": {},
   "source": [
    "If you don't want to use an internally generated index, but want to use a column as an index, this can be set."
   ]
  },
  {
   "cell_type": "code",
   "execution_count": null,
   "id": "e6d5ceaa-21bc-4198-884d-6edf6228c76a",
   "metadata": {
    "tags": []
   },
   "outputs": [],
   "source": [
    "points.set_index(\"ID\", inplace=True)"
   ]
  },
  {
   "cell_type": "code",
   "execution_count": null,
   "id": "4479e97e-2f05-44aa-84a3-8bbd0599cfb7",
   "metadata": {
    "tags": []
   },
   "outputs": [],
   "source": [
    "# data are indexed by column ID from 1. \n",
    "points"
   ]
  },
  {
   "cell_type": "code",
   "execution_count": null,
   "id": "bc6431f9-93c5-4aef-9a48-6ca031302ebd",
   "metadata": {
    "tags": []
   },
   "outputs": [],
   "source": [
    "points.index"
   ]
  },
  {
   "cell_type": "markdown",
   "id": "5bef2a78",
   "metadata": {},
   "source": [
    "Sometimes it is necessary to use a date column as an index. Then you can select dates according to a specified time span (year, quarter)."
   ]
  },
  {
   "cell_type": "code",
   "execution_count": null,
   "id": "39faf5cf-74db-4dee-8b8c-d609178fbadc",
   "metadata": {
    "tags": []
   },
   "outputs": [],
   "source": [
    "points.set_index(\"DATE\", inplace=True)"
   ]
  },
  {
   "cell_type": "code",
   "execution_count": null,
   "id": "f0b84702-1f8b-460c-85e9-ffa0d126e4ec",
   "metadata": {
    "tags": []
   },
   "outputs": [],
   "source": [
    "points"
   ]
  },
  {
   "cell_type": "markdown",
   "id": "72abf17e",
   "metadata": {},
   "source": [
    "DATE is set as Index."
   ]
  },
  {
   "cell_type": "code",
   "execution_count": null,
   "id": "8d2db2e8-c658-47e6-850b-325ea2f484ba",
   "metadata": {
    "tags": []
   },
   "outputs": [],
   "source": [
    "points.index"
   ]
  },
  {
   "cell_type": "markdown",
   "id": "1d754255",
   "metadata": {},
   "source": [
    "For time functions it is necessary to set them as DatetimeIndex."
   ]
  },
  {
   "cell_type": "code",
   "execution_count": null,
   "id": "a27edc36-1859-4288-acff-42174663730e",
   "metadata": {
    "tags": []
   },
   "outputs": [],
   "source": [
    "points.index = pd.to_datetime(points.index)"
   ]
  },
  {
   "cell_type": "code",
   "execution_count": null,
   "id": "15a69088-be1f-41fb-8d16-bcf401597e8d",
   "metadata": {
    "tags": []
   },
   "outputs": [],
   "source": [
    "points.index"
   ]
  },
  {
   "cell_type": "markdown",
   "id": "f20c5c26",
   "metadata": {},
   "source": [
    " With a time index we can select records from a certain range.\n",
    "\n",
    " sort_index() is used to select by sorted list."
   ]
  },
  {
   "cell_type": "code",
   "execution_count": null,
   "id": "5a2b7e71-199b-401f-984d-d23dfbf03e48",
   "metadata": {
    "tags": []
   },
   "outputs": [],
   "source": [
    "\n",
    "points.sort_index().loc[\"2020-01-01\" : \"2020-12-31\"]"
   ]
  },
  {
   "cell_type": "markdown",
   "id": "9d877b6e-51c1-408f-80a7-74a914eaf32f",
   "metadata": {
    "tags": []
   },
   "source": [
    "## Data samples\n",
    "If the dataset is very large, its display may be unclear. Pandas have functions to display parts of the data.\n",
    "* head - first records\n",
    "* tail - last records\n",
    "* sample - random records"
   ]
  },
  {
   "cell_type": "code",
   "execution_count": null,
   "id": "1e75f4ef-6fb2-4786-8fcd-ff26ffc5a0d3",
   "metadata": {
    "tags": []
   },
   "outputs": [],
   "source": [
    "points.head(5)"
   ]
  },
  {
   "cell_type": "code",
   "execution_count": null,
   "id": "3ef9eddb-3e1a-4121-a74b-43ade4f04f3c",
   "metadata": {
    "tags": []
   },
   "outputs": [],
   "source": [
    "points.tail(3)"
   ]
  },
  {
   "cell_type": "code",
   "execution_count": null,
   "id": "b918b662-e986-4a35-8e92-649cf3271f47",
   "metadata": {
    "tags": []
   },
   "outputs": [],
   "source": [
    "points.sample(5)"
   ]
  },
  {
   "cell_type": "markdown",
   "id": "c0f15c7f-4b9e-444a-84ea-e75975dd192e",
   "metadata": {
    "tags": []
   },
   "source": [
    "## Data access"
   ]
  },
  {
   "cell_type": "markdown",
   "id": "50b9362e-031a-499b-b437-4e61c74c8555",
   "metadata": {},
   "source": [
    "### Iteration over columns\n",
    "The items() method returns a view (view object) on pairs (key, value) in the dictionary."
   ]
  },
  {
   "cell_type": "code",
   "execution_count": null,
   "id": "3366ad5c-a813-429b-9680-087ffac3dd7c",
   "metadata": {
    "tags": []
   },
   "outputs": [],
   "source": [
    "for key, values in points.items():\n",
    "    print (key, values)"
   ]
  },
  {
   "cell_type": "markdown",
   "id": "9abbe10d-581b-4db0-b3fd-f609e20fbb70",
   "metadata": {},
   "source": [
    "### Data selection by columns"
   ]
  },
  {
   "cell_type": "code",
   "execution_count": null,
   "id": "152fd235-8d53-4d39-b210-6f2a327ac3a1",
   "metadata": {
    "tags": []
   },
   "outputs": [],
   "source": [
    "points[[\"NAME\", \"POINTS\"]]"
   ]
  },
  {
   "cell_type": "markdown",
   "id": "3abdbc44-9ff8-4e3a-86dc-84006c3d63cf",
   "metadata": {},
   "source": [
    "### Row selection by index\n",
    "The loc method is used for this purpose."
   ]
  },
  {
   "cell_type": "code",
   "execution_count": null,
   "id": "14f99f0e-33c6-4044-b59f-36d85cff9985",
   "metadata": {
    "tags": []
   },
   "outputs": [],
   "source": [
    "points.loc['2020-01-10']"
   ]
  },
  {
   "cell_type": "code",
   "execution_count": null,
   "id": "12332199-8ccd-412c-b11c-e2b0289a556b",
   "metadata": {
    "tags": []
   },
   "outputs": [],
   "source": [
    "points.loc['2021']"
   ]
  },
  {
   "cell_type": "markdown",
   "id": "d550f414",
   "metadata": {},
   "source": [
    "### Row selection by numeric index (order)\n",
    "To select a row by order in the dataset, use **iloc**.\n",
    "* Index order from 0\n",
    "* Negative numbers index from the end\n",
    "* Only a specific range can be selected\n",
    "* Xth multiples can be selected"
   ]
  },
  {
   "cell_type": "code",
   "execution_count": null,
   "id": "2ae4770f-fd4c-4eaa-87f5-9fb65bf9b0ad",
   "metadata": {
    "tags": []
   },
   "outputs": [],
   "source": [
    "points.iloc[0]"
   ]
  },
  {
   "cell_type": "code",
   "execution_count": null,
   "id": "30eb4116-ba36-4f92-b123-db2477e63bc9",
   "metadata": {
    "tags": []
   },
   "outputs": [],
   "source": [
    "points.iloc[-1]"
   ]
  },
  {
   "cell_type": "code",
   "execution_count": null,
   "id": "36ea360e-ea47-4446-89f1-c53723108602",
   "metadata": {
    "tags": []
   },
   "outputs": [],
   "source": [
    "points.iloc[2:4]"
   ]
  },
  {
   "cell_type": "code",
   "execution_count": null,
   "id": "110f6856-bbf7-4b1a-9397-f377947ab11c",
   "metadata": {
    "tags": []
   },
   "outputs": [],
   "source": [
    "# every 3.\n",
    "points.iloc[::3]"
   ]
  },
  {
   "cell_type": "markdown",
   "id": "324f9c75-7c78-4a90-ae1b-6be2aec32435",
   "metadata": {},
   "source": [
    "### Combination of column and row selection\n",
    "* For loc, columns and index values are entered\n",
    "* For iloc, row indexes and column indexes are entered"
   ]
  },
  {
   "cell_type": "code",
   "execution_count": null,
   "id": "9414d6b6-e966-4886-b1aa-3bd6def3600b",
   "metadata": {
    "tags": []
   },
   "outputs": [],
   "source": [
    "points.loc[\"2021\", \"POINTS\"]"
   ]
  },
  {
   "cell_type": "code",
   "execution_count": null,
   "id": "7286c62f-b904-4d97-b30b-c07292a6f84b",
   "metadata": {
    "tags": []
   },
   "outputs": [],
   "source": [
    "sum(points.loc[\"2021\", \"POINTS\"])"
   ]
  },
  {
   "cell_type": "code",
   "execution_count": null,
   "id": "a40cadf8",
   "metadata": {},
   "outputs": [],
   "source": [
    "points.iloc[0, 0:3]"
   ]
  },
  {
   "cell_type": "markdown",
   "id": "b127b50f-6f33-4280-933f-14e765aef484",
   "metadata": {},
   "source": [
    "### Selection by condition\n",
    "The condition returns True and False values for the given indexes to indicate whether the record meets the condition."
   ]
  },
  {
   "cell_type": "code",
   "execution_count": null,
   "id": "cb884de1-cab0-4d28-857b-05c2cc0c7407",
   "metadata": {
    "tags": []
   },
   "outputs": [],
   "source": [
    "points[\"Category\"] == 2"
   ]
  },
  {
   "cell_type": "markdown",
   "id": "a9912b83",
   "metadata": {},
   "source": [
    "The result of the condition is then used to select rows."
   ]
  },
  {
   "cell_type": "code",
   "execution_count": null,
   "id": "34644d87-d743-432d-bab1-eb11686b6f18",
   "metadata": {
    "tags": []
   },
   "outputs": [],
   "source": [
    "points[points[\"Category\"] == 2]"
   ]
  },
  {
   "cell_type": "markdown",
   "id": "f9cb92ef",
   "metadata": {},
   "source": [
    "The conditions may be more complex. For a logical OR expression, the | character is used."
   ]
  },
  {
   "cell_type": "code",
   "execution_count": null,
   "id": "004ac2b3-93c0-4fdf-98ef-bd4b28fcc06a",
   "metadata": {
    "tags": []
   },
   "outputs": [],
   "source": [
    "points[(points[\"Category\"] == 2) | (points[\"POINTS\"] > 8)]"
   ]
  },
  {
   "cell_type": "markdown",
   "id": "c45f9c64",
   "metadata": {},
   "source": [
    "For the logical expression AND, & is used."
   ]
  },
  {
   "cell_type": "code",
   "execution_count": null,
   "id": "050b2059-8dd5-47c0-93a2-1ca937e985ee",
   "metadata": {
    "tags": []
   },
   "outputs": [],
   "source": [
    "points[(points[\"Category\"] == 2) & (points[\"POINTS\"] > 8)]"
   ]
  },
  {
   "cell_type": "markdown",
   "id": "c5d90f7f-916a-4eb8-bb19-716a8561494b",
   "metadata": {},
   "source": [
    "## Applying the function to data\n",
    "In some cases, the underlying data must be processed and a function must be applied to it to return a new value.\n",
    "\n",
    "For example, the function scores test results with a grade."
   ]
  },
  {
   "cell_type": "code",
   "execution_count": null,
   "id": "d987a3d3-2895-43ee-a6fb-afbaa1bd4891",
   "metadata": {
    "tags": []
   },
   "outputs": [],
   "source": [
    "import numpy as np\n",
    "def grade(points):\n",
    "    if np.isnan(points) : return np.nan\n",
    "    elif 0 < points < 8 : return \"D\"\n",
    "    elif 8 <= points <= 12 : return \"C\"\n",
    "    elif 12 <= points <= 16 : return \"B\"\n",
    "    else : return \"A\""
   ]
  },
  {
   "cell_type": "code",
   "execution_count": null,
   "id": "66eeb678-226e-4ac6-80c0-3c9f0bcdad6a",
   "metadata": {
    "tags": []
   },
   "outputs": [],
   "source": [
    "points"
   ]
  },
  {
   "cell_type": "code",
   "execution_count": null,
   "id": "9b5bb9fb-f626-4543-bb92-d5c39579c79c",
   "metadata": {
    "tags": []
   },
   "outputs": [],
   "source": [
    "points[\"grade\"]=points[\"POINTS\"].apply(grade)"
   ]
  },
  {
   "cell_type": "code",
   "execution_count": null,
   "id": "ff0e6bb4-3dcd-430a-866b-5b407a195325",
   "metadata": {
    "tags": []
   },
   "outputs": [],
   "source": [
    "points"
   ]
  },
  {
   "cell_type": "markdown",
   "id": "c04ac943-4b6e-44db-94cc-f608d95d52e2",
   "metadata": {
    "tags": []
   },
   "source": [
    "## Basic statistics\n",
    "After reading data from a file, you often want to get an idea of the data by basic statistics (minimum, maximum, count, standard deviation, etc.)\n",
    "\n",
    "This is what the **describe** function is for."
   ]
  },
  {
   "cell_type": "code",
   "execution_count": null,
   "id": "74ab9336-06c0-4c63-8a0f-7f15fec3a88a",
   "metadata": {
    "tags": []
   },
   "outputs": [],
   "source": [
    "points.describe()"
   ]
  },
  {
   "cell_type": "markdown",
   "id": "2b36600e",
   "metadata": {},
   "source": [
    "The pandas library got many statistical functions that you can run on selected data."
   ]
  },
  {
   "cell_type": "code",
   "execution_count": null,
   "id": "1ee4a981-04b2-42ee-ab1b-efc19a6a42ff",
   "metadata": {
    "tags": []
   },
   "outputs": [],
   "source": [
    "print (points[\"POINTS\"].mean())"
   ]
  },
  {
   "cell_type": "code",
   "execution_count": null,
   "id": "4b487a6e",
   "metadata": {},
   "outputs": [],
   "source": [
    "print (points[\"POINTS\"].min())"
   ]
  },
  {
   "cell_type": "markdown",
   "id": "a967d860-55cf-4ed7-97f3-e3a3aa3bdfc2",
   "metadata": {},
   "source": [
    "## NaN values\n",
    "Similarly to NULL values in databases, a dataset can contain NaN, i.e. unknown value.\n",
    "\n",
    "Sometimes it is advisable to remove incomplete records so that they do not invalidate statistics or interfere with the learning process.\n",
    "\n",
    "The function dopna, deletes incomplete records."
   ]
  },
  {
   "cell_type": "code",
   "execution_count": null,
   "id": "d687df0a-bf9f-4430-be44-3ea13a0b7357",
   "metadata": {
    "tags": []
   },
   "outputs": [],
   "source": [
    "points2=points.dropna(inplace=False)\n",
    "points2"
   ]
  },
  {
   "cell_type": "markdown",
   "id": "41c0c500",
   "metadata": {},
   "source": [
    "Sometimes we may not want to delete incomplete records, but we want to fill in the missing values with some value, such as the average value in a column."
   ]
  },
  {
   "cell_type": "code",
   "execution_count": null,
   "id": "5c500c32-1d36-4966-a2db-8709f179c510",
   "metadata": {
    "tags": []
   },
   "outputs": [],
   "source": [
    "points[\"POINTS\"].fillna(points[\"POINTS\"].mean(), inplace=True)"
   ]
  },
  {
   "cell_type": "code",
   "execution_count": null,
   "id": "dff67018-be95-4611-b4db-839e4d43ce75",
   "metadata": {
    "tags": []
   },
   "outputs": [],
   "source": [
    "points"
   ]
  },
  {
   "cell_type": "markdown",
   "id": "3d137d3a",
   "metadata": {},
   "source": [
    "Supplementation is always advisable. Is a student who hasn't taken the test really supposed to have a C average?"
   ]
  },
  {
   "cell_type": "code",
   "execution_count": null,
   "id": "dd0727e3-cb6f-4c20-9027-7a78f1249ad4",
   "metadata": {
    "tags": []
   },
   "outputs": [],
   "source": [
    "points[\"grade\"]=points[\"POINTS\"].apply(grade)"
   ]
  },
  {
   "cell_type": "code",
   "execution_count": null,
   "id": "5bcaa337-5664-4571-8ad2-1443fa800bab",
   "metadata": {
    "tags": []
   },
   "outputs": [],
   "source": [
    "points"
   ]
  }
 ],
 "metadata": {
  "kernelspec": {
   "display_name": ".venv",
   "language": "python",
   "name": "python3"
  },
  "language_info": {
   "codemirror_mode": {
    "name": "ipython",
    "version": 3
   },
   "file_extension": ".py",
   "mimetype": "text/x-python",
   "name": "python",
   "nbconvert_exporter": "python",
   "pygments_lexer": "ipython3",
   "version": "3.9.13"
  }
 },
 "nbformat": 4,
 "nbformat_minor": 5
}
